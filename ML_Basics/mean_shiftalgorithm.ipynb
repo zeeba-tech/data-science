{
  "nbformat": 4,
  "nbformat_minor": 0,
  "metadata": {
    "colab": {
      "provenance": [],
      "authorship_tag": "ABX9TyMThSbhrDSliS8i1joD24uj",
      "include_colab_link": true
    },
    "kernelspec": {
      "name": "python3",
      "display_name": "Python 3"
    },
    "language_info": {
      "name": "python"
    },
    "gpuClass": "standard"
  },
  "cells": [
    {
      "cell_type": "markdown",
      "metadata": {
        "id": "view-in-github",
        "colab_type": "text"
      },
      "source": [
        "<a href=\"https://colab.research.google.com/github/zeeba-tech/data-science/blob/main/mean_shiftalgorithm.ipynb\" target=\"_parent\"><img src=\"https://colab.research.google.com/assets/colab-badge.svg\" alt=\"Open In Colab\"/></a>"
      ]
    },
    {
      "cell_type": "code",
      "execution_count": 1,
      "metadata": {
        "id": "Yb79i5YQI8uY"
      },
      "outputs": [],
      "source": [
        "import math, matplotlib.pyplot as plt, operator, torch\n",
        "from functools import partial"
      ]
    },
    {
      "cell_type": "code",
      "source": [
        "from torch.distributions.multivariate_normal import MultivariateNormal\n",
        "from torch import tensor"
      ],
      "metadata": {
        "id": "Vm9QS_X6KCOU"
      },
      "execution_count": 2,
      "outputs": []
    },
    {
      "cell_type": "code",
      "source": [
        "torch.manual_seed(42)\n",
        "torch.set_printoptions(precision=3, linewidth=140, sci_mode=False)"
      ],
      "metadata": {
        "id": "2Jr6GNeMJGJG"
      },
      "execution_count": 3,
      "outputs": []
    },
    {
      "cell_type": "code",
      "source": [
        "n_clusters=5\n",
        "n_samples =200"
      ],
      "metadata": {
        "id": "3PeHkbzyJIuA"
      },
      "execution_count": 4,
      "outputs": []
    },
    {
      "cell_type": "code",
      "source": [
        "centroids = torch.rand(n_clusters, 2)*70-35 #(n_clusters,2(dimension x axis and y axis))"
      ],
      "metadata": {
        "id": "w92qoGbJJyyl"
      },
      "execution_count": 5,
      "outputs": []
    },
    {
      "cell_type": "code",
      "source": [
        "centroids"
      ],
      "metadata": {
        "colab": {
          "base_uri": "https://localhost:8080/"
        },
        "id": "Oy4kOrbvJzg_",
        "outputId": "57a8ac91-d175-4f4c-aeae-d29e1f858c3c"
      },
      "execution_count": 6,
      "outputs": [
        {
          "output_type": "execute_result",
          "data": {
            "text/plain": [
              "tensor([[ 26.759,  29.050],\n",
              "        [ -8.200,  32.151],\n",
              "        [ -7.669,   7.063],\n",
              "        [-17.040,  20.555],\n",
              "        [ 30.854, -25.677]])"
            ]
          },
          "metadata": {},
          "execution_count": 6
        }
      ]
    },
    {
      "cell_type": "code",
      "source": [
        "\n",
        "def sample(m): return MultivariateNormal(m, torch.diag(tensor([5.,5.]))).sample((n_samples,))#250 (mean,standard deviation)"
      ],
      "metadata": {
        "id": "reOkVADuJ1X9"
      },
      "execution_count": 7,
      "outputs": []
    },
    {
      "cell_type": "code",
      "source": [
        "torch.diag(tensor([5.,5.]))#converts one dimension -2 dimension"
      ],
      "metadata": {
        "colab": {
          "base_uri": "https://localhost:8080/"
        },
        "id": "zncz9JljLbDH",
        "outputId": "05e8c9fd-ebf6-4dc2-a3ae-1327aa3cd334"
      },
      "execution_count": 8,
      "outputs": [
        {
          "output_type": "execute_result",
          "data": {
            "text/plain": [
              "tensor([[5., 0.],\n",
              "        [0., 5.]])"
            ]
          },
          "metadata": {},
          "execution_count": 8
        }
      ]
    },
    {
      "cell_type": "code",
      "source": [
        "MultivariateNormal(centroids, torch.diag(tensor([5.,5.]))).sample((n_samples,))#(mean,standard deviation)and taking samples"
      ],
      "metadata": {
        "colab": {
          "base_uri": "https://localhost:8080/"
        },
        "id": "7D8zrIX-KPUL",
        "outputId": "2c4d9f89-0ef7-4e16-d32f-2d7d732a087f"
      },
      "execution_count": 9,
      "outputs": [
        {
          "output_type": "execute_result",
          "data": {
            "text/plain": [
              "tensor([[[ 26.216,  26.961],\n",
              "         [ -8.755,  29.450],\n",
              "         [ -8.737,   8.226],\n",
              "         [-13.368,  20.198],\n",
              "         [ 36.048, -27.831]],\n",
              "\n",
              "        [[ 31.236,  30.093],\n",
              "         [ -4.682,  30.088],\n",
              "         [ -4.808,   9.962],\n",
              "         [-18.143,  21.095],\n",
              "         [ 28.370, -25.472]],\n",
              "\n",
              "        [[ 21.578,  28.565],\n",
              "         [-11.296,  30.203],\n",
              "         [ -5.872,   5.673],\n",
              "         [-18.364,  20.414],\n",
              "         [ 29.001, -24.937]],\n",
              "\n",
              "        ...,\n",
              "\n",
              "        [[ 24.029,  26.108],\n",
              "         [-12.243,  31.078],\n",
              "         [ -6.025,   6.460],\n",
              "         [-15.044,  23.620],\n",
              "         [ 32.603, -26.368]],\n",
              "\n",
              "        [[ 28.214,  25.589],\n",
              "         [-11.091,  34.118],\n",
              "         [ -7.743,   6.630],\n",
              "         [-18.755,  22.884],\n",
              "         [ 29.526, -27.892]],\n",
              "\n",
              "        [[ 24.539,  28.478],\n",
              "         [ -8.703,  33.765],\n",
              "         [ -7.387,  10.205],\n",
              "         [-16.604,  19.495],\n",
              "         [ 31.139, -24.313]]])"
            ]
          },
          "metadata": {},
          "execution_count": 9
        }
      ]
    },
    {
      "cell_type": "code",
      "source": [
        "slices = [sample(c) for c in centroids]\n",
        "data = torch.cat(slices)#concatenates given sequence of tensor in given dimension \n",
        "data.shape"
      ],
      "metadata": {
        "colab": {
          "base_uri": "https://localhost:8080/"
        },
        "id": "LELwU6knKSAM",
        "outputId": "cddd1108-c44c-429d-b168-e040b9ca43e8"
      },
      "execution_count": 10,
      "outputs": [
        {
          "output_type": "execute_result",
          "data": {
            "text/plain": [
              "torch.Size([1000, 2])"
            ]
          },
          "metadata": {},
          "execution_count": 10
        }
      ]
    },
    {
      "cell_type": "code",
      "source": [
        "data"
      ],
      "metadata": {
        "colab": {
          "base_uri": "https://localhost:8080/"
        },
        "id": "IG7IFXq-Mv8G",
        "outputId": "1525c8ae-be50-4235-97fc-4693a0cb7ce2"
      },
      "execution_count": 11,
      "outputs": [
        {
          "output_type": "execute_result",
          "data": {
            "text/plain": [
              "tensor([[ 25.900,  26.989],\n",
              "        [ 25.669,  27.916],\n",
              "        [ 27.994,  29.187],\n",
              "        ...,\n",
              "        [ 30.876, -25.741],\n",
              "        [ 29.750, -26.333],\n",
              "        [ 25.716, -25.140]])"
            ]
          },
          "metadata": {},
          "execution_count": 11
        }
      ]
    },
    {
      "cell_type": "code",
      "source": [
        "def plot_data(centroids, data, n_samples, ax=None):\n",
        "    if ax is None: _,ax = plt.subplots()\n",
        "    for i, centroid in enumerate(centroids):\n",
        "        samples = data[i*n_samples:(i+1)*n_samples]\n",
        "        ax.scatter(samples[:,0], samples[:,1], s=1)\n",
        "        ax.plot(*centroid, markersize=10, marker=\"x\", color='k', mew=5)\n",
        "        ax.plot(*centroid, markersize=5, marker=\"x\", color='m', mew=2)"
      ],
      "metadata": {
        "id": "PUDUmmk-NilR"
      },
      "execution_count": 12,
      "outputs": []
    },
    {
      "cell_type": "code",
      "source": [
        "plot_data(centroids, data, n_samples)"
      ],
      "metadata": {
        "colab": {
          "base_uri": "https://localhost:8080/",
          "height": 265
        },
        "id": "HfocS3d4Oc35",
        "outputId": "a6f6dbb6-cb81-43e0-baf3-dda3bfc9966d"
      },
      "execution_count": 13,
      "outputs": [
        {
          "output_type": "display_data",
          "data": {
            "text/plain": [
              "<Figure size 432x288 with 1 Axes>"
            ],
            "image/png": "[encoded data removed]"
          },
          "metadata": {
            "needs_background": "light"
          }
        }
      ]
    },
    {
      "cell_type": "markdown",
      "source": [
        "mean shift"
      ],
      "metadata": {
        "id": "4vHcY57UK06U"
      }
    },
    {
      "cell_type": "code",
      "source": [
        "midp=data.mean(0)\n",
        "midp"
      ],
      "metadata": {
        "colab": {
          "base_uri": "https://localhost:8080/"
        },
        "id": "42_qT9nVOxVK",
        "outputId": "b1087b4d-68c9-4a32-ce7b-4d7f1a4203a6"
      },
      "execution_count": 14,
      "outputs": [
        {
          "output_type": "execute_result",
          "data": {
            "text/plain": [
              "tensor([ 4.854, 12.673])"
            ]
          },
          "metadata": {},
          "execution_count": 14
        }
      ]
    },
    {
      "cell_type": "code",
      "source": [
        "plot_data([midp]*5,data,n_samples)"
      ],
      "metadata": {
        "colab": {
          "base_uri": "https://localhost:8080/",
          "height": 265
        },
        "id": "mBfIb2N6LBzf",
        "outputId": "81bd7d61-a4d2-4a6a-8375-ad5813709693"
      },
      "execution_count": 15,
      "outputs": [
        {
          "output_type": "display_data",
          "data": {
            "text/plain": [
              "<Figure size 432x288 with 1 Axes>"
            ],
            "image/png": "[encoded data removed]"
          },
          "metadata": {
            "needs_background": "light"
          }
        }
      ]
    },
    {
      "cell_type": "code",
      "source": [
        "[midp]*5"
      ],
      "metadata": {
        "colab": {
          "base_uri": "https://localhost:8080/"
        },
        "id": "r9RvO0xDLN12",
        "outputId": "7d4a7b59-b8ac-4a6a-e135-d6f53fb058e0"
      },
      "execution_count": 16,
      "outputs": [
        {
          "output_type": "execute_result",
          "data": {
            "text/plain": [
              "[tensor([ 4.854, 12.673]),\n",
              " tensor([ 4.854, 12.673]),\n",
              " tensor([ 4.854, 12.673]),\n",
              " tensor([ 4.854, 12.673]),\n",
              " tensor([ 4.854, 12.673])]"
            ]
          },
          "metadata": {},
          "execution_count": 16
        }
      ]
    },
    {
      "cell_type": "code",
      "source": [
        "def gaussian(d, bw): return torch.exp(-0.5*((d/bw))**2) / (bw*math.sqrt(2*math.pi))"
      ],
      "metadata": {
        "id": "nzXLcWFTNXLb"
      },
      "execution_count": 17,
      "outputs": []
    },
    {
      "cell_type": "code",
      "source": [
        "def plot_func(f):\n",
        "    x = torch.linspace(0,10,100)#(0,10)0-10 axis 100 spaced\n",
        "    plt.plot(x, f(x))"
      ],
      "metadata": {
        "id": "hW8g7soxNu4O"
      },
      "execution_count": 18,
      "outputs": []
    },
    {
      "cell_type": "code",
      "source": [
        "plot_func(partial(gaussian, bw=2.5))"
      ],
      "metadata": {
        "colab": {
          "base_uri": "https://localhost:8080/",
          "height": 265
        },
        "id": "9KoqxU-kN7S7",
        "outputId": "68053d2c-9f1e-4a3b-fddb-c26387dae6e4"
      },
      "execution_count": 19,
      "outputs": [
        {
          "output_type": "display_data",
          "data": {
            "text/plain": [
              "<Figure size 432x288 with 1 Axes>"
            ],
            "image/png": "[encoded data removed]"
          },
          "metadata": {
            "needs_background": "light"
          }
        }
      ]
    },
    {
      "cell_type": "code",
      "source": [
        "f=partial(gaussian,bw=2.5)"
      ],
      "metadata": {
        "id": "qoGb4yQOOMq0"
      },
      "execution_count": 20,
      "outputs": []
    },
    {
      "cell_type": "code",
      "source": [
        "f(tensor(4.))"
      ],
      "metadata": {
        "colab": {
          "base_uri": "https://localhost:8080/"
        },
        "id": "CRiW4vRTORe7",
        "outputId": "6e8a1f1a-08ba-4a3d-a844-28e55bbe8b17"
      },
      "execution_count": 21,
      "outputs": [
        {
          "output_type": "execute_result",
          "data": {
            "text/plain": [
              "tensor(0.044)"
            ]
          },
          "metadata": {},
          "execution_count": 21
        }
      ]
    },
    {
      "cell_type": "code",
      "source": [
        "def tri(d, i): return (-d+i).clamp_min(0)/i"
      ],
      "metadata": {
        "id": "idJQQd4iPBEQ"
      },
      "execution_count": 22,
      "outputs": []
    },
    {
      "cell_type": "code",
      "source": [
        "plot_func(partial(tri, i=8))"
      ],
      "metadata": {
        "colab": {
          "base_uri": "https://localhost:8080/",
          "height": 265
        },
        "id": "18J87k0APz30",
        "outputId": "874aadf9-5628-410d-a180-80e51a5e00b8"
      },
      "execution_count": 23,
      "outputs": [
        {
          "output_type": "display_data",
          "data": {
            "text/plain": [
              "<Figure size 432x288 with 1 Axes>"
            ],
            "image/png": "[encoded data removed]"
          },
          "metadata": {
            "needs_background": "light"
          }
        }
      ]
    },
    {
      "cell_type": "code",
      "source": [
        "X=data.clone()\n",
        "x=data[0]#first tensor row\n"
      ],
      "metadata": {
        "id": "hqoD2leMP3jA"
      },
      "execution_count": 24,
      "outputs": []
    },
    {
      "cell_type": "code",
      "source": [
        "x"
      ],
      "metadata": {
        "colab": {
          "base_uri": "https://localhost:8080/"
        },
        "id": "QW7bT_VZQGUX",
        "outputId": "e8272d29-17b7-458a-ede5-0fd81541c280"
      },
      "execution_count": 25,
      "outputs": [
        {
          "output_type": "execute_result",
          "data": {
            "text/plain": [
              "tensor([25.900, 26.989])"
            ]
          },
          "metadata": {},
          "execution_count": 25
        }
      ]
    },
    {
      "cell_type": "code",
      "source": [
        "x.shape,X.shape"
      ],
      "metadata": {
        "colab": {
          "base_uri": "https://localhost:8080/"
        },
        "id": "_28QOWr0QJvN",
        "outputId": "932999ed-fa7e-44e5-fa77-201d24729176"
      },
      "execution_count": 26,
      "outputs": [
        {
          "output_type": "execute_result",
          "data": {
            "text/plain": [
              "(torch.Size([2]), torch.Size([1000, 2]))"
            ]
          },
          "metadata": {},
          "execution_count": 26
        }
      ]
    },
    {
      "cell_type": "code",
      "source": [
        "(x-X)[:6]#For each data point x in the sample X, find the distance between that point x and every other point in X"
      ],
      "metadata": {
        "colab": {
          "base_uri": "https://localhost:8080/"
        },
        "id": "rv_Ws_cAQeyr",
        "outputId": "2233e82a-94b1-421b-8873-a0acef99ecb3"
      },
      "execution_count": 27,
      "outputs": [
        {
          "output_type": "execute_result",
          "data": {
            "text/plain": [
              "tensor([[ 0.000,  0.000],\n",
              "        [ 0.231, -0.926],\n",
              "        [-2.094, -2.198],\n",
              "        [ 1.278, -0.321],\n",
              "        [-3.976, -1.445],\n",
              "        [ 0.296, -2.407]])"
            ]
          },
          "metadata": {},
          "execution_count": 27
        }
      ]
    },
    {
      "cell_type": "code",
      "source": [
        "# rewrite using torch.einsum\n",
        "dist = ((x-X)**2).sum(1).sqrt()#euclidian distance\n",
        "dist[:6]"
      ],
      "metadata": {
        "colab": {
          "base_uri": "https://localhost:8080/"
        },
        "id": "RFq3CkdFQmxA",
        "outputId": "00e73582-afaa-411b-b2c2-5954a855f84d"
      },
      "execution_count": 28,
      "outputs": [
        {
          "output_type": "execute_result",
          "data": {
            "text/plain": [
              "tensor([0.000, 0.955, 3.035, 1.318, 4.231, 2.425])"
            ]
          },
          "metadata": {},
          "execution_count": 28
        }
      ]
    },
    {
      "cell_type": "code",
      "source": [
        "weight=gaussian(dist,2.5)\n",
        "weight"
      ],
      "metadata": {
        "colab": {
          "base_uri": "https://localhost:8080/"
        },
        "id": "Iw1SWUbORHzj",
        "outputId": "070cb7b8-ed02-46e6-a138-2c5dca8ec97c"
      },
      "execution_count": 29,
      "outputs": [
        {
          "output_type": "execute_result",
          "data": {
            "text/plain": [
              "tensor([    0.160,     0.148,     0.076,     0.139,     0.038,     0.100,     0.087,     0.040,     0.068,     0.026,     0.027,     0.067,\n",
              "            0.049,     0.024,     0.058,     0.059,     0.120,     0.029,     0.038,     0.116,     0.132,     0.058,     0.045,     0.089,\n",
              "            0.083,     0.159,     0.108,     0.003,     0.107,     0.118,     0.042,     0.142,     0.129,     0.027,     0.034,     0.113,\n",
              "            0.032,     0.139,     0.003,     0.007,     0.025,     0.032,     0.127,     0.082,     0.059,     0.090,     0.041,     0.075,\n",
              "            0.067,     0.048,     0.122,     0.144,     0.126,     0.142,     0.109,     0.135,     0.029,     0.024,     0.138,     0.008,\n",
              "            0.020,     0.068,     0.007,     0.031,     0.037,     0.055,     0.004,     0.088,     0.090,     0.075,     0.088,     0.000,\n",
              "            0.009,     0.021,     0.100,     0.065,     0.047,     0.069,     0.052,     0.153,     0.086,     0.153,     0.046,     0.103,\n",
              "            0.047,     0.093,     0.022,     0.147,     0.010,     0.128,     0.043,     0.078,     0.054,     0.112,     0.115,     0.031,\n",
              "            0.157,     0.024,     0.061,     0.026,     0.149,     0.133,     0.052,     0.022,     0.014,     0.021,     0.064,     0.041,\n",
              "            0.136,     0.019,     0.032,     0.046,     0.081,     0.006,     0.104,     0.153,     0.059,     0.003,     0.064,     0.082,\n",
              "            0.066,     0.114,     0.058,     0.128,     0.073,     0.067,     0.025,     0.041,     0.088,     0.000,     0.010,     0.024,\n",
              "            0.097,     0.004,     0.045,     0.003,     0.134,     0.063,     0.046,     0.134,     0.076,     0.026,     0.152,     0.004,\n",
              "            0.078,     0.030,     0.145,     0.107,     0.086,     0.091,     0.094,     0.137,     0.031,     0.135,     0.127,     0.089,\n",
              "            0.128,     0.119,     0.062,     0.025,     0.137,     0.126,     0.071,     0.147,     0.116,     0.149,     0.006,     0.104,\n",
              "            0.142,     0.101,     0.152,     0.005,     0.077,     0.150,     0.157,     0.042,     0.066,     0.016,     0.058,     0.065,\n",
              "            0.103,     0.001,     0.057,     0.131,     0.032,     0.095,     0.137,     0.009,     0.058,     0.036,     0.093,     0.018,\n",
              "            0.094,     0.123,     0.070,     0.116,     0.129,     0.005,     0.064,     0.122,     0.000,     0.000,     0.000,     0.000,\n",
              "            0.000,     0.000,     0.000,     0.000,     0.000,     0.000,     0.000,     0.000,     0.000,     0.000,     0.000,     0.000,\n",
              "            0.000,     0.000,     0.000,     0.000,     0.000,     0.000,     0.000,     0.000,     0.000,     0.000,     0.000,     0.000,\n",
              "            0.000,     0.000,     0.000,     0.000,     0.000,     0.000,     0.000,     0.000,     0.000,     0.000,     0.000,     0.000,\n",
              "            0.000,     0.000,     0.000,     0.000,     0.000,     0.000,     0.000,     0.000,     0.000,     0.000,     0.000,     0.000,\n",
              "            0.000,     0.000,     0.000,     0.000,     0.000,     0.000,     0.000,     0.000,     0.000,     0.000,     0.000,     0.000,\n",
              "            0.000,     0.000,     0.000,     0.000,     0.000,     0.000,     0.000,     0.000,     0.000,     0.000,     0.000,     0.000,\n",
              "            0.000,     0.000,     0.000,     0.000,     0.000,     0.000,     0.000,     0.000,     0.000,     0.000,     0.000,     0.000,\n",
              "            0.000,     0.000,     0.000,     0.000,     0.000,     0.000,     0.000,     0.000,     0.000,     0.000,     0.000,     0.000,\n",
              "            0.000,     0.000,     0.000,     0.000,     0.000,     0.000,     0.000,     0.000,     0.000,     0.000,     0.000,     0.000,\n",
              "            0.000,     0.000,     0.000,     0.000,     0.000,     0.000,     0.000,     0.000,     0.000,     0.000,     0.000,     0.000,\n",
              "            0.000,     0.000,     0.000,     0.000,     0.000,     0.000,     0.000,     0.000,     0.000,     0.000,     0.000,     0.000,\n",
              "            0.000,     0.000,     0.000,     0.000,     0.000,     0.000,     0.000,     0.000,     0.000,     0.000,     0.000,     0.000,\n",
              "            0.000,     0.000,     0.000,     0.000,     0.000,     0.000,     0.000,     0.000,     0.000,     0.000,     0.000,     0.000,\n",
              "            0.000,     0.000,     0.000,     0.000,     0.000,     0.000,     0.000,     0.000,     0.000,     0.000,     0.000,     0.000,\n",
              "            0.000,     0.000,     0.000,     0.000,     0.000,     0.000,     0.000,     0.000,     0.000,     0.000,     0.000,     0.000,\n",
              "            0.000,     0.000,     0.000,     0.000,     0.000,     0.000,     0.000,     0.000,     0.000,     0.000,     0.000,     0.000,\n",
              "            0.000,     0.000,     0.000,     0.000,     0.000,     0.000,     0.000,     0.000,     0.000,     0.000,     0.000,     0.000,\n",
              "            0.000,     0.000,     0.000,     0.000,     0.000,     0.000,     0.000,     0.000,     0.000,     0.000,     0.000,     0.000,\n",
              "            0.000,     0.000,     0.000,     0.000,     0.000,     0.000,     0.000,     0.000,     0.000,     0.000,     0.000,     0.000,\n",
              "            0.000,     0.000,     0.000,     0.000,     0.000,     0.000,     0.000,     0.000,     0.000,     0.000,     0.000,     0.000,\n",
              "            0.000,     0.000,     0.000,     0.000,     0.000,     0.000,     0.000,     0.000,     0.000,     0.000,     0.000,     0.000,\n",
              "            0.000,     0.000,     0.000,     0.000,     0.000,     0.000,     0.000,     0.000,     0.000,     0.000,     0.000,     0.000,\n",
              "            0.000,     0.000,     0.000,     0.000,     0.000,     0.000,     0.000,     0.000,     0.000,     0.000,     0.000,     0.000,\n",
              "            0.000,     0.000,     0.000,     0.000,     0.000,     0.000,     0.000,     0.000,     0.000,     0.000,     0.000,     0.000,\n",
              "            0.000,     0.000,     0.000,     0.000,     0.000,     0.000,     0.000,     0.000,     0.000,     0.000,     0.000,     0.000,\n",
              "            0.000,     0.000,     0.000,     0.000,     0.000,     0.000,     0.000,     0.000,     0.000,     0.000,     0.000,     0.000,\n",
              "            0.000,     0.000,     0.000,     0.000,     0.000,     0.000,     0.000,     0.000,     0.000,     0.000,     0.000,     0.000,\n",
              "            0.000,     0.000,     0.000,     0.000,     0.000,     0.000,     0.000,     0.000,     0.000,     0.000,     0.000,     0.000,\n",
              "            0.000,     0.000,     0.000,     0.000,     0.000,     0.000,     0.000,     0.000,     0.000,     0.000,     0.000,     0.000,\n",
              "            0.000,     0.000,     0.000,     0.000,     0.000,     0.000,     0.000,     0.000,     0.000,     0.000,     0.000,     0.000,\n",
              "            0.000,     0.000,     0.000,     0.000,     0.000,     0.000,     0.000,     0.000,     0.000,     0.000,     0.000,     0.000,\n",
              "            0.000,     0.000,     0.000,     0.000,     0.000,     0.000,     0.000,     0.000,     0.000,     0.000,     0.000,     0.000,\n",
              "            0.000,     0.000,     0.000,     0.000,     0.000,     0.000,     0.000,     0.000,     0.000,     0.000,     0.000,     0.000,\n",
              "            0.000,     0.000,     0.000,     0.000,     0.000,     0.000,     0.000,     0.000,     0.000,     0.000,     0.000,     0.000,\n",
              "            0.000,     0.000,     0.000,     0.000,     0.000,     0.000,     0.000,     0.000,     0.000,     0.000,     0.000,     0.000,\n",
              "            0.000,     0.000,     0.000,     0.000,     0.000,     0.000,     0.000,     0.000,     0.000,     0.000,     0.000,     0.000,\n",
              "            0.000,     0.000,     0.000,     0.000,     0.000,     0.000,     0.000,     0.000,     0.000,     0.000,     0.000,     0.000,\n",
              "            0.000,     0.000,     0.000,     0.000,     0.000,     0.000,     0.000,     0.000,     0.000,     0.000,     0.000,     0.000,\n",
              "            0.000,     0.000,     0.000,     0.000,     0.000,     0.000,     0.000,     0.000,     0.000,     0.000,     0.000,     0.000,\n",
              "            0.000,     0.000,     0.000,     0.000,     0.000,     0.000,     0.000,     0.000,     0.000,     0.000,     0.000,     0.000,\n",
              "            0.000,     0.000,     0.000,     0.000,     0.000,     0.000,     0.000,     0.000,     0.000,     0.000,     0.000,     0.000,\n",
              "            0.000,     0.000,     0.000,     0.000,     0.000,     0.000,     0.000,     0.000,     0.000,     0.000,     0.000,     0.000,\n",
              "            0.000,     0.000,     0.000,     0.000,     0.000,     0.000,     0.000,     0.000,     0.000,     0.000,     0.000,     0.000,\n",
              "            0.000,     0.000,     0.000,     0.000,     0.000,     0.000,     0.000,     0.000,     0.000,     0.000,     0.000,     0.000,\n",
              "            0.000,     0.000,     0.000,     0.000,     0.000,     0.000,     0.000,     0.000,     0.000,     0.000,     0.000,     0.000,\n",
              "            0.000,     0.000,     0.000,     0.000,     0.000,     0.000,     0.000,     0.000,     0.000,     0.000,     0.000,     0.000,\n",
              "            0.000,     0.000,     0.000,     0.000,     0.000,     0.000,     0.000,     0.000,     0.000,     0.000,     0.000,     0.000,\n",
              "            0.000,     0.000,     0.000,     0.000,     0.000,     0.000,     0.000,     0.000,     0.000,     0.000,     0.000,     0.000,\n",
              "            0.000,     0.000,     0.000,     0.000,     0.000,     0.000,     0.000,     0.000,     0.000,     0.000,     0.000,     0.000,\n",
              "            0.000,     0.000,     0.000,     0.000,     0.000,     0.000,     0.000,     0.000,     0.000,     0.000,     0.000,     0.000,\n",
              "            0.000,     0.000,     0.000,     0.000,     0.000,     0.000,     0.000,     0.000,     0.000,     0.000,     0.000,     0.000,\n",
              "            0.000,     0.000,     0.000,     0.000,     0.000,     0.000,     0.000,     0.000,     0.000,     0.000,     0.000,     0.000,\n",
              "            0.000,     0.000,     0.000,     0.000,     0.000,     0.000,     0.000,     0.000,     0.000,     0.000,     0.000,     0.000,\n",
              "            0.000,     0.000,     0.000,     0.000,     0.000,     0.000,     0.000,     0.000,     0.000,     0.000,     0.000,     0.000,\n",
              "            0.000,     0.000,     0.000,     0.000,     0.000,     0.000,     0.000,     0.000,     0.000,     0.000,     0.000,     0.000,\n",
              "            0.000,     0.000,     0.000,     0.000,     0.000,     0.000,     0.000,     0.000,     0.000,     0.000,     0.000,     0.000,\n",
              "            0.000,     0.000,     0.000,     0.000,     0.000,     0.000,     0.000,     0.000,     0.000,     0.000,     0.000,     0.000,\n",
              "            0.000,     0.000,     0.000,     0.000,     0.000,     0.000,     0.000,     0.000,     0.000,     0.000,     0.000,     0.000,\n",
              "            0.000,     0.000,     0.000,     0.000,     0.000,     0.000,     0.000,     0.000,     0.000,     0.000,     0.000,     0.000,\n",
              "            0.000,     0.000,     0.000,     0.000,     0.000,     0.000,     0.000,     0.000,     0.000,     0.000,     0.000,     0.000,\n",
              "            0.000,     0.000,     0.000,     0.000,     0.000,     0.000,     0.000,     0.000,     0.000,     0.000,     0.000,     0.000,\n",
              "            0.000,     0.000,     0.000,     0.000,     0.000,     0.000,     0.000,     0.000,     0.000,     0.000,     0.000,     0.000,\n",
              "            0.000,     0.000,     0.000,     0.000,     0.000,     0.000,     0.000,     0.000,     0.000,     0.000,     0.000,     0.000,\n",
              "            0.000,     0.000,     0.000,     0.000,     0.000,     0.000,     0.000,     0.000,     0.000,     0.000,     0.000,     0.000,\n",
              "            0.000,     0.000,     0.000,     0.000,     0.000,     0.000,     0.000,     0.000,     0.000,     0.000,     0.000,     0.000,\n",
              "            0.000,     0.000,     0.000,     0.000,     0.000,     0.000,     0.000,     0.000,     0.000,     0.000,     0.000,     0.000,\n",
              "            0.000,     0.000,     0.000,     0.000])"
            ]
          },
          "metadata": {},
          "execution_count": 29
        }
      ]
    },
    {
      "cell_type": "code",
      "source": [
        "weight.shape,X.shape"
      ],
      "metadata": {
        "colab": {
          "base_uri": "https://localhost:8080/"
        },
        "id": "Qv70pfthR_eV",
        "outputId": "8657a570-98ad-41c8-ce40-0f21899e8f6e"
      },
      "execution_count": 30,
      "outputs": [
        {
          "output_type": "execute_result",
          "data": {
            "text/plain": [
              "(torch.Size([1000]), torch.Size([1000, 2]))"
            ]
          },
          "metadata": {},
          "execution_count": 30
        }
      ]
    },
    {
      "cell_type": "code",
      "source": [
        "weight[:,None].shape#when mutiplied weight and X should have same dimension"
      ],
      "metadata": {
        "colab": {
          "base_uri": "https://localhost:8080/"
        },
        "id": "MnZWPj76SLuw",
        "outputId": "5e114859-5066-48a3-9c40-5235d26afe85"
      },
      "execution_count": 31,
      "outputs": [
        {
          "output_type": "execute_result",
          "data": {
            "text/plain": [
              "torch.Size([1000, 1])"
            ]
          },
          "metadata": {},
          "execution_count": 31
        }
      ]
    },
    {
      "cell_type": "code",
      "source": [
        "weight[:,None]*X#Create weights for each point in X by using the Gaussian kernel of that point's distance to x"
      ],
      "metadata": {
        "colab": {
          "base_uri": "https://localhost:8080/"
        },
        "id": "AI0HV0GYSiNb",
        "outputId": "e3a08f07-bed0-4f5a-e0c9-4c99cc7c48a2"
      },
      "execution_count": 32,
      "outputs": [
        {
          "output_type": "execute_result",
          "data": {
            "text/plain": [
              "tensor([[4.133, 4.307],\n",
              "        [3.808, 4.141],\n",
              "        [2.138, 2.229],\n",
              "        ...,\n",
              "        [0.000, -0.000],\n",
              "        [0.000, -0.000],\n",
              "        [0.000, -0.000]])"
            ]
          },
          "metadata": {},
          "execution_count": 32
        }
      ]
    },
    {
      "cell_type": "code",
      "source": [
        "def one_update(X):\n",
        "    for i, x in enumerate(X):\n",
        "        dist = torch.sqrt(((x-X)**2).sum(1))\n",
        "#         weight = gaussian(dist, 2.5)\n",
        "        weight = tri(dist, 8)\n",
        "        X[i] = (weight[:,None]*X).sum(0)/weight.sum()# weighted average=summation of weights * X(all data points)/summation of all weights"
      ],
      "metadata": {
        "id": "iEvrrZ7VSwdg"
      },
      "execution_count": 33,
      "outputs": []
    },
    {
      "cell_type": "code",
      "source": [
        "def meanshift(data):\n",
        "    X = data.clone()\n",
        "    for it in range(5): \n",
        "      one_update(X)\n",
        "    return X"
      ],
      "metadata": {
        "id": "nr0cLXoVVGxJ"
      },
      "execution_count": 34,
      "outputs": []
    },
    {
      "cell_type": "code",
      "source": [
        " %time X=meanshift(data)"
      ],
      "metadata": {
        "colab": {
          "base_uri": "https://localhost:8080/"
        },
        "id": "4c_7fuUPZqsX",
        "outputId": "8422155a-a0b3-4d3b-b427-6bbe09f42b0b"
      },
      "execution_count": 35,
      "outputs": [
        {
          "output_type": "stream",
          "name": "stdout",
          "text": [
            "CPU times: user 539 ms, sys: 4.8 ms, total: 544 ms\n",
            "Wall time: 549 ms\n"
          ]
        }
      ]
    },
    {
      "cell_type": "code",
      "source": [
        "plot_data(centroids+2,X,n_samples)"
      ],
      "metadata": {
        "colab": {
          "base_uri": "https://localhost:8080/",
          "height": 265
        },
        "id": "m4wcqgJUZ8_l",
        "outputId": "84ff62ea-edfa-448e-ed2c-9c3ce039ecee"
      },
      "execution_count": 36,
      "outputs": [
        {
          "output_type": "display_data",
          "data": {
            "text/plain": [
              "<Figure size 432x288 with 1 Axes>"
            ],
            "image/png": "[encoded data removed]"
          },
          "metadata": {
            "needs_background": "light"
          }
        }
      ]
    },
    {
      "cell_type": "markdown",
      "source": [
        "Animation"
      ],
      "metadata": {
        "id": "ZvRtrfBib6yn"
      }
    },
    {
      "cell_type": "code",
      "source": [
        "from matplotlib.animation import FuncAnimation\n",
        "from IPython.display import HTML"
      ],
      "metadata": {
        "id": "vYaJm3HYa7rS"
      },
      "execution_count": 42,
      "outputs": []
    },
    {
      "cell_type": "code",
      "source": [
        "def do_one(d):\n",
        "    if d: one_update(X)\n",
        "    ax.clear()\n",
        "    plot_data(centroids+2, X, n_samples, ax=ax)"
      ],
      "metadata": {
        "id": "H6JBQiy4VBdO"
      },
      "execution_count": 43,
      "outputs": []
    },
    {
      "cell_type": "code",
      "source": [
        "# create your own animation\n",
        "X = data.clone()\n",
        "fig,ax = plt.subplots()\n",
        "ani = FuncAnimation(fig, do_one, frames=5, interval=500, repeat=False)\n",
        "plt.close()\n",
        "HTML(ani.to_jshtml())"
      ],
      "metadata": {
        "colab": {
          "base_uri": "https://localhost:8080/",
          "height": 386
        },
        "id": "KCtCIO1jVJDm",
        "outputId": "211dad80-a3dd-4352-caf8-93cfd41e36f8"
      },
      "execution_count": 44,
      "outputs": [
        {
          "output_type": "execute_result",
          "data": {
            "text/plain": [
              "<IPython.core.display.HTML object>"
            ],
            "text/html": [
              "\n",
              "<link rel=\"stylesheet\"\n",
              "href=\"https://maxcdn.bootstrapcdn.com/font-awesome/4.4.0/\n",
              "css/font-awesome.min.css\">\n",
              "<script language=\"javascript\">\n",
              "  function isInternetExplorer() {\n",
              "    ua = navigator.userAgent;\n",
              "    /* MSIE used to detect old browsers and Trident used to newer ones*/\n",
              "    return ua.indexOf(\"MSIE \") > -1 || ua.indexOf(\"Trident/\") > -1;\n",
              "  }\n",
              "\n",
              "  /* Define the Animation class */\n",
              "  function Animation(frames, img_id, slider_id, interval, loop_select_id){\n",
              "    this.img_id = img_id;\n",
              "    this.slider_id = slider_id;\n",
              "    this.loop_select_id = loop_select_id;\n",
              "    this.interval = interval;\n",
              "    this.current_frame = 0;\n",
              "    this.direction = 0;\n",
              "    this.timer = null;\n",
              "    this.frames = new Array(frames.length);\n",
              "\n",
              "    for (var i=0; i<frames.length; i++)\n",
              "    {\n",
              "     this.frames[i] = new Image();\n",
              "     this.frames[i].src = frames[i];\n",
              "    }\n",
              "    var slider = document.getElementById(this.slider_id);\n",
              "    slider.max = this.frames.length - 1;\n",
              "    if (isInternetExplorer()) {\n",
              "        // switch from oninput to onchange because IE <= 11 does not conform\n",
              "        // with W3C specification. It ignores oninput and onchange behaves\n",
              "        // like oninput. In contrast, Mircosoft Edge behaves correctly.\n",
              "        slider.setAttribute('onchange', slider.getAttribute('oninput'));\n",
              "        slider.setAttribute('oninput', null);\n",
              "    }\n",
              "    this.set_frame(this.current_frame);\n",
              "  }\n",
              "\n",
              "  Animation.prototype.get_loop_state = function(){\n",
              "    var button_group = document[this.loop_select_id].state;\n",
              "    for (var i = 0; i < button_group.length; i++) {\n",
              "        var button = button_group[i];\n",
              "        if (button.checked) {\n",
              "            return button.value;\n",
              "        }\n",
              "    }\n",
              "    return undefined;\n",
              "  }\n",
              "\n",
              "  Animation.prototype.set_frame = function(frame){\n",
              "    this.current_frame = frame;\n",
              "    document.getElementById(this.img_id).src =\n",
              "            this.frames[this.current_frame].src;\n",
              "    document.getElementById(this.slider_id).value = this.current_frame;\n",
              "  }\n",
              "\n",
              "  Animation.prototype.next_frame = function()\n",
              "  {\n",
              "    this.set_frame(Math.min(this.frames.length - 1, this.current_frame + 1));\n",
              "  }\n",
              "\n",
              "  Animation.prototype.previous_frame = function()\n",
              "  {\n",
              "    this.set_frame(Math.max(0, this.current_frame - 1));\n",
              "  }\n",
              "\n",
              "  Animation.prototype.first_frame = function()\n",
              "  {\n",
              "    this.set_frame(0);\n",
              "  }\n",
              "\n",
              "  Animation.prototype.last_frame = function()\n",
              "  {\n",
              "    this.set_frame(this.frames.length - 1);\n",
              "  }\n",
              "\n",
              "  Animation.prototype.slower = function()\n",
              "  {\n",
              "    this.interval /= 0.7;\n",
              "    if(this.direction > 0){this.play_animation();}\n",
              "    else if(this.direction < 0){this.reverse_animation();}\n",
              "  }\n",
              "\n",
              "  Animation.prototype.faster = function()\n",
              "  {\n",
              "    this.interval *= 0.7;\n",
              "    if(this.direction > 0){this.play_animation();}\n",
              "    else if(this.direction < 0){this.reverse_animation();}\n",
              "  }\n",
              "\n",
              "  Animation.prototype.anim_step_forward = function()\n",
              "  {\n",
              "    this.current_frame += 1;\n",
              "    if(this.current_frame < this.frames.length){\n",
              "      this.set_frame(this.current_frame);\n",
              "    }else{\n",
              "      var loop_state = this.get_loop_state();\n",
              "      if(loop_state == \"loop\"){\n",
              "        this.first_frame();\n",
              "      }else if(loop_state == \"reflect\"){\n",
              "        this.last_frame();\n",
              "        this.reverse_animation();\n",
              "      }else{\n",
              "        this.pause_animation();\n",
              "        this.last_frame();\n",
              "      }\n",
              "    }\n",
              "  }\n",
              "\n",
              "  Animation.prototype.anim_step_reverse = function()\n",
              "  {\n",
              "    this.current_frame -= 1;\n",
              "    if(this.current_frame >= 0){\n",
              "      this.set_frame(this.current_frame);\n",
              "    }else{\n",
              "      var loop_state = this.get_loop_state();\n",
              "      if(loop_state == \"loop\"){\n",
              "        this.last_frame();\n",
              "      }else if(loop_state == \"reflect\"){\n",
              "        this.first_frame();\n",
              "        this.play_animation();\n",
              "      }else{\n",
              "        this.pause_animation();\n",
              "        this.first_frame();\n",
              "      }\n",
              "    }\n",
              "  }\n",
              "\n",
              "  Animation.prototype.pause_animation = function()\n",
              "  {\n",
              "    this.direction = 0;\n",
              "    if (this.timer){\n",
              "      clearInterval(this.timer);\n",
              "      this.timer = null;\n",
              "    }\n",
              "  }\n",
              "\n",
              "  Animation.prototype.play_animation = function()\n",
              "  {\n",
              "    this.pause_animation();\n",
              "    this.direction = 1;\n",
              "    var t = this;\n",
              "    if (!this.timer) this.timer = setInterval(function() {\n",
              "        t.anim_step_forward();\n",
              "    }, this.interval);\n",
              "  }\n",
              "\n",
              "  Animation.prototype.reverse_animation = function()\n",
              "  {\n",
              "    this.pause_animation();\n",
              "    this.direction = -1;\n",
              "    var t = this;\n",
              "    if (!this.timer) this.timer = setInterval(function() {\n",
              "        t.anim_step_reverse();\n",
              "    }, this.interval);\n",
              "  }\n",
              "</script>\n",
              "\n",
              "<style>\n",
              ".animation {\n",
              "    display: inline-block;\n",
              "    text-align: center;\n",
              "}\n",
              "input[type=range].anim-slider {\n",
              "    width: 374px;\n",
              "    margin-left: auto;\n",
              "    margin-right: auto;\n",
              "}\n",
              ".anim-buttons {\n",
              "    margin: 8px 0px;\n",
              "}\n",
              ".anim-buttons button {\n",
              "    padding: 0;\n",
              "    width: 36px;\n",
              "}\n",
              ".anim-state label {\n",
              "    margin-right: 8px;\n",
              "}\n",
              ".anim-state input {\n",
              "    margin: 0;\n",
              "    vertical-align: middle;\n",
              "}\n",
              "</style>\n",
              "\n",
              "<div class=\"animation\">\n",
              "  <img id=\"_anim_imgf0707a8b13264e12bb2f2df90c948759\">\n",
              "  <div class=\"anim-controls\">\n",
              "    <input id=\"_anim_sliderf0707a8b13264e12bb2f2df90c948759\" type=\"range\" class=\"anim-slider\"\n",
              "           name=\"points\" min=\"0\" max=\"1\" step=\"1\" value=\"0\"\n",
              "           oninput=\"animf0707a8b13264e12bb2f2df90c948759.set_frame(parseInt(this.value));\"></input>\n",
              "    <div class=\"anim-buttons\">\n",
              "      <button onclick=\"animf0707a8b13264e12bb2f2df90c948759.slower()\"><i class=\"fa fa-minus\"></i></button>\n",
              "      <button onclick=\"animf0707a8b13264e12bb2f2df90c948759.first_frame()\"><i class=\"fa fa-fast-backward\">\n",
              "          </i></button>\n",
              "      <button onclick=\"animf0707a8b13264e12bb2f2df90c948759.previous_frame()\">\n",
              "          <i class=\"fa fa-step-backward\"></i></button>\n",
              "      <button onclick=\"animf0707a8b13264e12bb2f2df90c948759.reverse_animation()\">\n",
              "          <i class=\"fa fa-play fa-flip-horizontal\"></i></button>\n",
              "      <button onclick=\"animf0707a8b13264e12bb2f2df90c948759.pause_animation()\"><i class=\"fa fa-pause\">\n",
              "          </i></button>\n",
              "      <button onclick=\"animf0707a8b13264e12bb2f2df90c948759.play_animation()\"><i class=\"fa fa-play\"></i>\n",
              "          </button>\n",
              "      <button onclick=\"animf0707a8b13264e12bb2f2df90c948759.next_frame()\"><i class=\"fa fa-step-forward\">\n",
              "          </i></button>\n",
              "      <button onclick=\"animf0707a8b13264e12bb2f2df90c948759.last_frame()\"><i class=\"fa fa-fast-forward\">\n",
              "          </i></button>\n",
              "      <button onclick=\"animf0707a8b13264e12bb2f2df90c948759.faster()\"><i class=\"fa fa-plus\"></i></button>\n",
              "    </div>\n",
              "    <form action=\"#n\" name=\"_anim_loop_selectf0707a8b13264e12bb2f2df90c948759\" class=\"anim-state\">\n",
              "      <input type=\"radio\" name=\"state\" value=\"once\" id=\"_anim_radio1_f0707a8b13264e12bb2f2df90c948759\"\n",
              "             checked>\n",
              "      <label for=\"_anim_radio1_f0707a8b13264e12bb2f2df90c948759\">Once</label>\n",
              "      <input type=\"radio\" name=\"state\" value=\"loop\" id=\"_anim_radio2_f0707a8b13264e12bb2f2df90c948759\"\n",
              "             >\n",
              "      <label for=\"_anim_radio2_f0707a8b13264e12bb2f2df90c948759\">Loop</label>\n",
              "      <input type=\"radio\" name=\"state\" value=\"reflect\" id=\"_anim_radio3_f0707a8b13264e12bb2f2df90c948759\"\n",
              "             >\n",
              "      <label for=\"_anim_radio3_f0707a8b13264e12bb2f2df90c948759\">Reflect</label>\n",
              "    </form>\n",
              "  </div>\n",
              "</div>\n",
              "\n",
              "\n",
              "<script language=\"javascript\">\n",
              "  /* Instantiate the Animation class. */\n",
              "  /* The IDs given should match those used in the template above. */\n",
              "  (function() {\n",
              "    var img_id = \"_anim_imgf0707a8b13264e12bb2f2df90c948759\";\n",
              "    var slider_id = \"_anim_sliderf0707a8b13264e12bb2f2df90c948759\";\n",
              "    var loop_select_id = \"_anim_loop_selectf0707a8b13264e12bb2f2df90c948759\";\n",
              "    var frames = new Array(5);\n",
              "    \n",
              "  frames[0] = \"data:image/png;base64,iVBORw0KGgoAAAANSUhEUgAAAbAAAAEgCAYAAADVKCZpAAAABHNCSVQICAgIfAhkiAAAAAlwSFlz\\\n",
              "AAALEgAACxIB0t1+/AAAADh0RVh0U29mdHdhcmUAbWF0cGxvdGxpYiB2ZXJzaW9uMy4yLjIsIGh0\\\n",
              "dHA6Ly9tYXRwbG90bGliLm9yZy+WH4yJAAAgAElEQVR4nO3deVyVZf7/8Rd4RDaVRUA2BUQUNTFF\\\n",
              "M9MCt0ZzhMzMpiYrR8xqcmzGxm+zCJVpyzRttjBjatnkrxoHKy1zw8wlRLNyBRGSTWQ5B2Xn4Pn9\\\n",
              "cXtuz2FRMPWcGz7Px+P7AO5zn5vr9G1497muz33dDiaTyYQQQgihMY62HoAQQghxJSTAhBBCaJIE\\\n",
              "mBBCCE2SABNCCKFJEmBCCCE0SQJMCCGEJkmACSGE0CQJMCGEEJokASaEEEKTJMCEEEJokgSYEEII\\\n",
              "TZIAE0IIoUkSYEIIITRJAkwIIYQmSYAJIYTQJAkwIYQQmiQBJoQQQpMkwIQQQmiSBJgQQghNkgAT\\\n",
              "QgihSRJgQgghNEkCTAghhCZJgAkhhNAkCTAhhBCaJAEmhBBCkyTAhBBCaJIEmBBCCE2SABNCCKFJ\\\n",
              "EmBCCCE0SQJMCCGEJkmACSGE0CQJMCGEEJokASaEEEKTJMCEEEJoks7WA7hWevToQUhIiK2HIYQQ\\\n",
              "mpKTk0NJSYmth9Eq7TbAQkJCSE9Pt/UwhBBCU6Kjo209hFaTKUQhhBCaZJcB1tDQwI033siUKVMA\\\n",
              "yM7O5qabbiI8PJx77rmHuro6G49QCCGErdllgL322mtERkaqP//5z39mwYIFnDhxAk9PT1asWGHD\\\n",
              "0QkhhLAHdhdgeXl5bNiwgd/97ncAmEwmtm3bxvTp0wGYNWsWKSkpthyiEEIIO2B3AfaHP/yBF198\\\n",
              "EUdHZWilpaV4eHig0yn9JkFBQeTn59tyiEIIIeyAXQXYF198ga+vL8OGDbui9ycnJxMdHU10dDTF\\\n",
              "xcVXeXRCCCHsiV210e/atYvPPvuMjRs3UlNTw9mzZ5k/fz4GgwGj0YhOpyMvL4/AwMBm35+QkEBC\\\n",
              "QgKgrVbQdqWyFA6ugSH3g5u3rUcjhGjH7KoCW7p0KXl5eeTk5LB27VrGjh3Lhx9+SGxsLJ9++ikA\\\n",
              "q1evJi4uzsYjFS06uAY2/135KoQQ15BdBVhLXnjhBV555RXCw8MpLS1l9uzZth6SaMmQ++G2P0Nd\\\n",
              "lVKNCSHENWJXU4iWYmJiiImJASAsLIy0tDTbDki0jps3OLkpVZiTK9wy39YjEkK0U3YbYELDhtxv\\\n",
              "/VUIIa4BTUwhCjtVWQq7Xrs4VWj+GZTKS5o4hBDXkASYuHKNGzakgUMIcR3JFKJoXmva4YfcrzRr\\\n",
              "1FUq55unDCMmK5WYtNILIa4hqcA6gsZTfa3RmmrKzRswwY4XIO1d5edb5kPGRuW9KY9Y/84rGYcQ\\\n",
              "QrRAAqwjuJKpvYjJ0Hei8vWSHBp9Ram8+k6EzK/V31laWtrsOEpPZUqoCSGuiARYRzDkfpjwTNu6\\\n",
              "AjM2KgGUsfHiMXMFVWwROiMSlGuPSLh4nps3xL+j/s7ExEQGDx5MhttIq3FkZGQweNhwEv/yVOvD\\\n",
              "Vao4IcQFEmAdgXlqry3rUc1VYOYK6qMZytf/Pqwcb+7aF35n4ktvkJSUREFBAbETbldCzM2bjIwM\\\n",
              "YmNjKSgpJ2lHHYkbWrlBszSKCCEukAATzTNXYIc+vVjxmKcGy04q55xMbbrOZVZZSuLDvyIpKUk9\\\n",
              "VFBSTuyE29nw34+IHTWcgoIC9bWkpS+RmJh4+QrrSqpJIa6ysso63t2RRVmlPFzXlqQLUVh3HILy\\\n",
              "vbnyqqtUKp66SmWHjYnPQ4/+UJAOJoeL61yNdtwo3fEu//r0a6tj8cSTWpLKlOm/wQMP4oknhYvP\\\n",
              "dvvXv/7F70c44Z32gnKguV08zNWkEDb0SXouS788BsDc2/rYeDQdlwRYR9JSa7x5Ws5s898h51tl\\\n",
              "HQuU4KooUboNs7ZB8Ej4eTeMegJ0TlBZrKyLZWxUr+1921y2v1tJ7B/fo6DwNPHEM5/5xBFHEkks\\\n",
              "ZjEhhACQQgoBAQFs374d70Bv6O4mFZawa3dHB1t9FbYhU4gdRWWpMt3X3PqR5bRc4w5Cc8XjYFLO\\\n",
              "PZkKVaXK+Z1d4OR22P0GfPmnJteO6OXL9o1KOKWSSg45hBDCSlYSQgg55JBKKgH+Pdn+8oNEBHor\\\n",
              "v2/I/cp1pFFD2CkvNyfm3tYHLzenVp0vU47XhgRYR3FwjRJKfSc2rW4aN3kEDFV2lLc8z2TRJp+1\\\n",
              "VXltxFwIi1WOefW1bvq4UNVFVO4lOTkZAwaSuLgeBpBEEgYMJC/4NRHH31QCtjiz5aAVog2uZ2hc\\\n",
              "7neZpxw/Sc+95mPpSCTAOgpzV+HE51vuRizOhJW3w45lyrSh5XlOLspXZw+liWPXPyEtGbz7KCHW\\\n",
              "2UUJyM/nw/tx0DUYevQloz6QhIQEPPBgMYutft1iFuOBBwkvrCXDNVp5/9dPK1/DYuSRLKLVmgsQ\\\n",
              "c2j88eODVsdbE2yNzyktbf7fQ/PxywXU3dHB/N+k/jLleJVJgHUUzd3X1djXT0NJJvToe3E7KHOA\\\n",
              "jJirrHk5d1d+PrZBCbp9/1amEZ1clIA8tUuZZvxqIRnHjxEb/xsKCgqIIUadNnyIh9TpxBhiKCg9\\\n",
              "R+yL6WT0e1wJ2AnPKOtsO5ZZdznKPWDigsYB01yA3B0dTGw/H7YfL2b17mz1/MbnNr5WWWUdf/z4\\\n",
              "oHqOeh9jRobVGDIyMhg8eDCJiYmXDai2TjmK1pEmjo6i8SNOGjd0VJaCTz+l2zBwGHz/Pux+XamC\\\n",
              "Yv9POaf4GBh+BtceShXW80YwZEO/XysBB5C6FLK2UjrkD8Q+/zsKyo0AardhKqkYMLCABcQQox4v\\\n",
              "KD1L7J9W8eOPT+J9y3xlPAUHlNBNeURpKEl7V2kkqauE2Kev6z8+YT/MAbP9eDGgdAE211Th5ebE\\\n",
              "P2YM4ZP0XKrqGtSuwcbnNu4o/CQ9l+3Hi+nj48bhL1bwxstLAYiNjWX79u1ERERcvI+xoICkpCSq\\\n",
              "6xroGftbVu/OZtaoUAmq60QCrKMwr3OZq5i6SiUMQDl+cI3SjNF3ohJcYTEX3niheaM4U3lP71Ew\\\n",
              "7hk4th7S/g3GasjddTEMPYKh7CTeDfnMGelF0qYz6hBSSCGgqwNr/jaHhFc3kFKQYjlC5syZg7f3\\\n",
              "hTBNSwaf/tBQZ7ElVTPbVokOxxwwsf181BAyVziWzNWW+RxXp07cHR3c5NzGgXZ3dDB7T5byvxWv\\\n",
              "sm3XR+p5BQUFxMbGkpycTEJCgtV9jC8ufY7u32ThMfo+XJ100lp/nUiAdTTmlvnbFlnfEGy5k3zI\\\n",
              "aAgeBZ2coM8EJfCytsPPu5SA6zUcdr6ohJfORanIzK33E59XWu5/WEviyBqocSJphzI1E9DTl+2v\\\n",
              "/I6I8Q+yPciH2N+/TkFpBQCLH7qdxIW/vzjGHcuU70f9HvqMtWgouRColaWy030HZRk0l6p0LCsr\\\n",
              "y8rMMti83JyaBJqXmxN/GRfM/57aZnW9eOJJLUhlypQpzd7HaDq2ld8teELWua4jCbCOxjKwmgsA\\\n",
              "Vy/ltZRHlMoHlK+jLoSLTz+lGvPpB9UGqCiCvDTw6K2c59MPin5SphqBxFljwfMk/9qayfY5PkSM\\\n",
              "fxAyNhJx/E22v/BbYheuZM7k4ST22nPxhugh9yuBeXI7dHazvnHZyU0JSydXuaG5g2qu2mrO+AF+\\\n",
              "7D1ZyvAQL3XK8eP0XMb19yN5p7KbjPk6jUMtvJc/abu+4baYWE4XFrT6PsaIiIhr9rlFU3YVYDU1\\\n",
              "Ndx6663U1tZiNBqZPn06SUlJZGdnM3PmTEpLSxk2bBgffPABTk4yx3xFWtrJovHNzOaW+4nPK231\\\n",
              "mCD4JqUyKj6uvO7VRwmqbkFQVaa879R3SgPGyVTofQuEjCExaje/vyEIb8dc+HIh3LUCgIi6Sn78\\\n",
              "nQ7v8bdCvjtkbFIqQJ++yjmWu4OYNa4YhUAJoNW7cwATs0aFAvDcF0fYfryYOuN5dmWV4tLZkazi\\\n",
              "Snq464nt58PwEC/e3ZHF3dHBarVWVdegTjVGREQw78XVPDPvHlIrUokjTr2PEbh4H+NlwqtxOIqr\\\n",
              "x64CrEuXLmzbtg13d3fq6+sZPXo0kyZN4pVXXmHBggXMnDmTRx55hBUrVjBv3jxbD9c+NdeccbkH\\\n",
              "U4J1MFSVXZwO9OmrVDub/67cG3bbIqgqUVrnuwVBWRY4doK6c8r7HTvD6D8o78EEg6aDkyvehlNK\\\n",
              "x2LPQRd/Z58JeA/6DvIPKNOToHRC3vdJy0ErW0m1G1f6h725932SnstrWzPVc9Jz9OzKKqW3lyt9\\\n",
              "fN3ZlVVKdf15vNw6069nN97fo8wQmBtBzNN+VXXGC0FmxNVJx5Qxw/jvjD/x43tPk0SSGl5w8T7G\\\n",
              "t19fecnKS7adunbsKsAcHBxwd3cHoL6+nvr6ehwcHNi2bRv/+c9/AJg1axaJiYkSYC2xrKTMzRmW\\\n",
              "P7fEMhjSkpUKq6FeqYTM4RY8Cj6bp7TagxJoE55Rjm+9cI/XlNesH3SZsxNCboURj4BHL6XCMk9P\\\n",
              "9p2oVGqgTEF2D1JCU3QIbf3Dbg6uqroGNazM77s7OpiqugaUNVIHdmUpt1r8XFaFc+dOjAjxpLC8\\\n",
              "hlx9NZ6unZk/ri+FhiqCPV3I11ep18oqrmD/zwZ2ZhZz4FQ5N7hXcvjjl1u8j3EBC3jkkUcYesOA\\\n",
              "ZkOsrLKOqroG5o8Ll7Wxa8CuAgygoaGBYcOGceLECR577DH69OmDh4cHOp0y1KCgIPLzW/nojY6o\\\n",
              "8RTbFU25mbeN2m69LrViglJxefSGqHuVZ4CZq7qHLtxfpnY5Vis//7xb+T9Q2vG3P39h+jEMhs9V\\\n",
              "ugwb6pUKbPhspeKz1NoKUmhOW/cTNAfe/HHhTe658nJzYsEEJUAO/Kxn/cF8RoR44e/hAphIy9ED\\\n",
              "MDq8B7NGhfJJei4f71f+jry/9xTOnTvh7d6Fqjoj354oAaC+LJ+t7/yFhooyYohX72O0XAOLIYaU\\\n",
              "khRG3HIrX2/ewoghg5qM+bWtmfzfpP4yfXgN2F2AderUiYMHD2IwGLjzzjs5duxYq9+bnJxMcnIy\\\n",
              "AMXFxddqiPat8RTblUy5me/pwuFi8KUlK+EFMGCqEkaNFWfC/7tXqdDCYuDmJyB3D+Ttgx8+UqYT\\\n",
              "zS3wZSdh37tKBXbbIoi4vfmQbW0FKTSntc0YZkqVZQQcGD/Ar8k0orIOls36gwXklFYR2sONuTF9\\\n",
              "WLz+EIMDu/Fj/lmq6upZvTuHqUMCKK2oZcNPheQbakj/Wc+BUwYeGNmb0eE96OlUx/InHqSmXAmz\\\n",
              "y93HWF5SxMQJ48k6dli5FcRizJZfxdVldwFm5uHhQWxsLHv27MFgMGA0GtHpdOTl5REYGNjsexIS\\\n",
              "EkhIUJ4MHB0dfT2H2764eTdzo/CFqswrDG6cdfFwZalygzEOynRhSSa4eCnBFHwTOClTwhh+Vta3\\\n",
              "4t/BPM3DoOlKy/6lqitp2hAXeLk54eqkY+mXx/gxz2B1IzOYq50TAIR4u/LXKQN47osjfHuiFE/X\\\n",
              "zgAcOFXOgVPl6KvqeCZOqZaSd2ZTdLYGgC1Hiygor+GBm3vjN3wyP295X/395m7DNclrSEhIaHIf\\\n",
              "4wMPPsynhwzcHd1VDdW2hrRoG7vaSqq4uBiDwQBAdXU1mzdvJjIyktjYWD799FMAVq9eTVxcnC2H\\\n",
              "2TGNmHvxYZYZGy9OFe56VVnr2rFMmQ4EiLhDWRvDQZmGDBquTDt69Lp4LSdXpWX/ck+KvpKnSYt2\\\n",
              "SVlPMjJ/XF/+OmVAk2nE8QP86O3lCkDckEA8XZ3o69eV3l6u6KvqGdrLg04X/uKtP5ivbB3loMwI\\\n",
              "5BtqcOnsSEG5EmQ7jhfDsBl4j/mNev1u3r7ck/hvMpzC+d+GTfT0D1BfW7x4MQOnzG5270Vx7dhV\\\n",
              "BVZYWMisWbNoaGjg/PnzzJgxgylTpjBgwABmzpzJX//6V2688UZmz55t66FeVUa9nvJ16+g+bRo6\\\n",
              "T09bD6d5bt4XtnNKVnbk+PZV2PO60ioPypSh32BlutAj8OKuH5ggNw0M+5QuRFdvKPj+4j1mMi0o\\\n",
              "WslcYf3fpP708XGnz23u6j6Gd0cH89nBfH4uq2J0uDdThwSo937NHxeOq5OOTYdP03BeuVZ5tZE/\\\n",
              "fnyQvr5dAXDu7Eh1/Xm6OnfCw8WJP02M4NWtmWSN+g1dnTtTuv9L3Kc9y7qs85B1gi983Phg3RfM\\\n",
              "umsKc+bMITExkbLKOvaeLGX78WI+Sc+Vyus6sKsAGzx4MN9//32T42FhYaSlpdlgRNdH+bp1nHnp\\\n",
              "ZQC87Tmc3bwvttSHxSjHfAdcfFKzq9fF9nnzThlObkoVFhYLwSMAh5Yf6yLEJTS3nmTZyWheXx3W\\\n",
              "24vPDhaw/Xix2rTh5ebEtmPKtmZdnTsxwL8b248XMziou7rhr87RgXM1DZyrqWbx54cpq6ynj48b\\\n",
              "WUPv5oZR8eTXdGZoLw+ySyrJKq7kw6Ou7NiTzufHz/HPzceZNSpU3XuxpTUvuSfs6rKrAOuouk+b\\\n",
              "ZvXVblWWKtXXbYuU9auMjcpmv/v+paxl3TL/YsA5uV3sXgTr+9KcXJtf95KOQ3EJza0nNQ41V6dO\\\n",
              "jB/gx99TDgEwwL8rq3dnAw78+Vf9efLjg+SUVhEV5MnIMG/Agb9OGcCpsnSyiisJ6O6MvqqOssp6\\\n",
              "vNw689L0KF7ZnMG3J0oYHd6DYb09OHDKQB8fN/46ZQBbjhSpLf3mPRAvVXnJPWFXlwSYHdB5etp3\\\n",
              "5WV2cI2y3jXhGaXd3We+dSCB8rWu8uKzvNrSFSkdh6KNGofa3Nv68M/Nx9mVVcotfbxxcdKpAfNj\\\n",
              "noGJA/xI3pnNkcJyhvX24rWtmezMPENNfQODA7tx5lwt1fXncdY5UlZZz76cMob19uDbEyUM6+3B\\\n",
              "rFGhuDrpLG58biBhTBguTo6t6jSUrsSrSwJMK65VddKa65rPMT9t2XLqr7mAarxf4ZXsBiJEG2QV\\\n",
              "V/DcF0f465QBmKcS+/i4k55TxozoIHadKGH78WKCPV3VKcNhvT3V7wGq6xsoq6wHoLPOgQdGhVlU\\\n",
              "djqrnezLKuv4/X8OsCurlIQxSqi1hnQlXl0SYFpxhdXJZRtEWnPdtv7uxkHUlt1Ahtwv04iizcz7\\\n",
              "Hp4qS+el6VHs/7lMbYn3cOmMoVoJpqziCp6JH0R9wyGq687z1ykD8HE/weajZ0j69UB+yi/nk/15\\\n",
              "6KvqySw6p65TNQ6d1buz1d0+jhSe49sT2ew9Wco/Zgy55NqWrIFdXRJgGmHsPYXyhoN07z2lTf9P\\\n",
              "u2yDSGuqnrZWRo2rsra8X6YRxRWwXMd6Y1sm3564+NRuQ3U9wZ4uBHg480z8ILYcKeLbE6V8e6IU\\\n",
              "FydH+vh25eP9+RSU1/D0HQP41SB/Fn76A78f27fJ7zEHUHW90s44OrwHSXED1QC9XPehrIFdXRJg\\\n",
              "GmDU6yl49kUqd+yFkFS8Z7f+X/zLNoi0ZqeO67mBrkwjijYqq6xjy5Eikh+IZsuRIsYP8GNwUL4S\\\n",
              "MibThQqphPtH9qaPjzue0U7szCy+EHIOVutSZZV1vLEtk6ziSvbllDG0t/WsRXPbWVk++bnx2lbj\\\n",
              "ikvWwK4uCTANKF+3jsod3+B2261t7lS0iwaRtlRVstu8uIzGodBcVbNgQr9mzzd/nxSnVGKNn9D8\\\n",
              "z80ZF9rvvZsNmZYeptnS2lbjscka2NUlAWZnmluzsqyiLnejc3Pvt/mN0lJViauocShcrqoxVz7K\\\n",
              "TvZGdbup5oNE2TJtWG/Pq7JGJRXXtSUBZmeaW7NqSxXV3PttfqO0VFXiKmnu8SStqWouTv31bbIF\\\n",
              "laXGbfItXQdat4YlFde1JQFmZ1p7U3NpaanVrtdmxpgYfBu9XzM3SgtxGVf6eJKWpv4aaylwzFOP\\\n",
              "4wf4WV2vpfOky/D6sKvNfLXOqNdTumIFtdnZlK5YgVGvb9X5lueZq61LTfUlJiYy+IYb+G7JEqv3\\\n",
              "ZmRkMPTWW3kjN9fq/a25phBacHd08CUrqJaYg+lKQ2X17hyWfnmMzw4WWF3HvBejefNec4X2SXru\\\n",
              "Ff0e0TZSgV1F5qm6yrQ0Knd8AyhVT0vrT22d2jPq9Tw9axYvff45AFMTE1lfU8vIZ58hIyOD2NhY\\\n",
              "CgoKSEpKApSgE6I9sd2UnKnRV0Vb1+PE1SUBdhWYmyTcx44FwH3sWM4OGsT5qmr0az6kZPly4GJI\\\n",
              "NT7/clN75vOXffpfXv7qS/X4GaORO994nX+PvImEOXMoKCxUX0tKSqLqwAGeX70anaenVSMHYP+7\\\n",
              "3wtxFVytKT3LtTHLazYOLFnzur5kCvEXME8B6td8yJmXXqZi2za8Z8+mS2gojq6uF4LLhO/CP1mF\\\n",
              "lH7NGs689DJnv/jCamqvpSnI8nXryFj2Amv27Lb6/fHEU1PuwJQpU6gqrCaeeKvXV3/5JYf/8Ac1\\\n",
              "vM689DLl69ZZfS9Ee3alU3qNpwYtpyAtr/lLpybFLyMV2C9gDoIejz3aJKQat76bw0k5ruzVdr66\\\n",
              "htIVK3AfO5aKbds4X1VNyfLl6hRkZVoaAcuW4T52LIFpaWyeMYPbH3iAgoIC4olnPvOJI44kkljM\\\n",
              "YkIIAS48Odbfnw/HjMHpuzSryqu5MQrRXl3plN6lug1lmtB+SID9Ape6P6vBYKAyLQ33sWPReXqi\\\n",
              "X7OGkuVvcb6qCs/778fR1YXzVdVWa2ZeDz+M22234nnffdTl5lK54xuK33yTs19+yfkyPf4jRrA5\\\n",
              "JYVx48eTejaVOOIIIYSVrAQghxxSSSUgIIDt27cT5uOjTlU2njK0+c3NQlwHVzqld6mQkmlC+yFT\\\n",
              "iL9A4+4+y67ComXLqNzxDUXLll04+0LVVVODfs2H1OXnU/ndd3jNfhjP++6jc1go52uqqdzxDfoP\\\n",
              "P6T+ZDadw0Kp2Lad82V6HLt353xVNT57v2Nx124YMJBEktV4kkjCgIHk5GQiIiLU8VVs2yZThkK0\\\n",
              "gUwNaoNUYFeRZVdhj3nzqMvNpce8edRmZ1P1/QG8Zj8MJtSmDgCHzp05+9UmjPn51HTrju/CP+Ey\\\n",
              "bBh1ubnUn8zGecgQjIWFOIWEULJ8OfpfTyFRX4YHHixmsdXvX8xiFrCAhISEJhUYyJShEKJ9kQC7\\\n",
              "iiynFMvXraP+ZDbV+/dTmZZG1e49OHTujMugQer5jh4eOEf2p2rPHvXY+apqil97nfqT2Th6edLj\\\n",
              "0XnU/PADRoOBHGM9v3nnHYqqqohnIiGEkEOO1RpYDDGkFKQQGxvLukcfpdsHa6zGZF5vkw5EIYTW\\\n",
              "2VWA5ebm8sADD1BUVISDgwMJCQnMnz+fsrIy7rnnHnJycggJCeHjjz/G8xr98f0l+wZabvlkGWbu\\\n",
              "Y8dSBPgtWkQnDw/OV9dQc/QoPf/+Nzp5eABQc/QYTqEhanXm4OzM+TI9ZStX4Twgkpz3P2BmTjZn\\\n",
              "jEZAadQASCUVAwYWsEAJrwvHCwoKmLZ8Oal//jPdp01T1+Aqvt2lBqasgwkhtMyu1sB0Oh3/+Mc/\\\n",
              "OHLkCHv37mX58uUcOXKEZcuWMW7cODIzMxk3bhzL1HWlq68tLeZGvZ7iN96k+I03muy6Ybk+1iU0\\\n",
              "lF7vvkuX0FDlNW8vAl/5B508PChftw7vOXPovfI9HF1cAHDs3h1TTQ0ATmGh1Bw9ikenTkzv3t3q\\\n",
              "d6SQQhfXOt4ODMJJV6GGl9mchAT6zp9/IYiVNTjnyMgmHZNCCKFFdlWB+fv74+/vD0DXrl2JjIwk\\\n",
              "Pz+f9evXk5qaCsCsWbOIiYnhhRdeuCZjaMu+geXr1qkVk6Ora6sqGst1svNVVZQsf4uyjz+m1zvv\\\n",
              "gEm5y/98eTm6wECM+fmc27Ydt5tvxqFbNx4HHLt1483sbAD8XF1Z6deTyFGjCDuZxW/37VMrtL88\\\n",
              "8YTVThye99+Ho6tLi5WlzXesF0KINrKrALOUk5PD999/z0033URRUZEabD179qSoqOia/d627Pze\\\n",
              "fdo0jKVl1Bw9qjZKmLUUCOZgdB87lsK/K00Yxp9PcfrZZ9VdalyGDwdMGPPzaSgs5Oy6dXTy8+M8\\\n",
              "sGj8eM4nv8un5eWse/Qx+vYKpurA9wSX6VkV3IsHc08xvXt3Ei5UcK39XDbfsV4IIdrILgOsoqKC\\\n",
              "u+66i1dffZVu3bpZvebg4ICDg0Oz70tOTiY5ORmA4uLiaz5OnacnOm8vqvbsoWLbNrpY/OG/VCAY\\\n",
              "y8o49cgjGH8+BYBD1644hYZi+PA/dA4LxeWGQZS9txKcnKCuDrp0oeFCaFelpbHwV5N4NCgI38AA\\\n",
              "wIGqPXtwiY4m0sGBrd5T6Vpejt+iRS2O+1LPHHMfO1a94VoqMSGEPbOrNTCA+vp67rrrLu677z6m\\\n",
              "Xfij6ufnR+GFff4KCwvx9fVt9r0JCQmkp6eTnp6Oj4/PdRmv+9ixuN12K+5jx1rdB9Z92rRm15rK\\\n",
              "162jbMV7SnjplP9+MJ07h2MXZzr36kX9yWxwcKBz715KeAHU1qILClKmFfPyqE5Px72oiJLlb2He\\\n",
              "qsrtphFU79uHX58w3EffojaHNKe5dT65Z0wIoTV2VYGZTCZmz55NZGQkTz75pHp86tSprF69mkWL\\\n",
              "FrF69Wri4uJsMr7mKpeKbduo3PENFSNGAFhVXd6zZ1ttIaXz9FSmHcvKOLtlC8afT6Hr3Qv30aOp\\\n",
              "/ulH6k8pFZmjszNdx42n7L33cI6KwnXYMBxdXOg25Q5OP/MsVXv24BzZH/fRt1htVeXo6qru7mEe\\\n",
              "Q3Pjdh87Vt0lpDF5dpgQQivsKsB27drFBx98wA033MCQIUMAeP7551m0aBEzZsxgxYoV9O7dm48/\\\n",
              "/tgm42tuWvByewxavsd8L5b3736Hx/TpnH7mWZxCQ6k7mU31vnRAWf/yvP9+QOlWNL/nzEsv4+jq\\\n",
              "Qs+//42iZcvwuPtutYvRHEzmwDQ3a7Q0bsvQ7dJoerMta4BCCGFLdhVgo0ePxmQyNfva1q1br/No\\\n",
              "mmppncjyD37jP/6Nb2627ECs2rNHvSdLFxSIMS8ftxHD1YrK8hrnq6o4X1XN2S++UMPHvPnv+apq\\\n",
              "fH7/uHKdZgKocchKlSWEaA/sbg3Mnl3JOpHl/WDdp02jx2OPcb6qCqPBoLweEABAZ/8Aejz2qFp9\\\n",
              "mcOu4EIzxsXHszhYrK0pYRoF97kAACAASURBVF/1/YFLPv258Z6N8oRmIUR7YFcVmFZcaQWj8/TE\\\n",
              "0dWFMy+9jEt0NADuMTHU5+dRueMbusbcBqA+YsW8S715C6jKtDS6TblDvSHa8/77qT50SD2npak/\\\n",
              "ucdLCNEeSYBdgV+yTmQOPWNpKdXp6dTlZNPzb3+jYsSIJtOMAcuWqeFl3t3+7KAbrG5INp9zqTCV\\\n",
              "e7yEEO2RBNh1ZtlsUZuVpaxnXdhct/HO8eZpx4JFi6jc8Q2uo26m6sABqvbs4XxVFY6urnSfNk19\\\n",
              "b0sVlqx5CSHaIwmwa6yl6Tudpyd+ixZRBOoDJ5urksrXraNyxze43XYrLoNuoGT5ctxuuxVwUM8H\\\n",
              "LllhSWehEKI9kgC7xi41fWfZzt5SldT4uGWLfON2eamwhBAdiYOppb51jYuOjiY9Pd3Ww7hkA8Xl\\\n",
              "miuk+UIIcb3Zy9/O1pAK7Bq71PSdbLArhBBXTgLMjknzhRBCtEwCzI5J84UQQrRMduIQQgihSRJg\\\n",
              "QgghNEkCTAghhCZJgAkhhNAkCTBxXelr9Kw8tBJ9Tcu75wshRGtIgInrKuVECq/sf4WUEym2HooQ\\\n",
              "QuOkjV5cV/Hh8VZfhRDiSkkFJtqspWlAfY2etw6+xVsH32pxitDT2ZOHBj2Ep7NsjSWE+GWkAhNt\\\n",
              "Zp4GBHho0ENWx9/+4W3150eHPNrs+0tLS/H29m71cSGEaI7dVWAPP/wwvr6+DBo0SD1WVlbGhAkT\\\n",
              "6Nu3LxMmTECvlwYAW4oPj+fJYU82mQaMD49npP9I9efmKrLExEQGDx5MRkaGVSWXkZHB4MGDSUxM\\\n",
              "vJ4fRQihYXa3G/0333yDu7s7DzzwAIcOHQLgqaeewsvLi0WLFrFs2TL0ej0vvPDCJa+jpR2VtUxf\\\n",
              "oyflRAoxwTGk5qZafX1p30vszN8JwLyoeWxK3sRnb38GgIevB08kP8E6wzp+4/0b3pz7JgUFBQAs\\\n",
              "XrxYgkwIG9HS3067q8BuvfVWvLy8rI6tX7+eWbNmATBr1ixSUqSD7Xprad3LPJ04f9t8Xtn/Cqm5\\\n",
              "qTw06CFSc1PZmb+Tkf4jmRc1jw3vbFDDC8BwxsDLs19mzNkxvJHwhhpeAElJSRJgQojL0sQaWFFR\\\n",
              "Ef7+/gD07NmToqIiG4+ofTNXVfHh8WqzhTmoduTuoHOnzjw+5HEOnDnAUN+hhHYLJftsNmMCxzTp\\\n",
              "MowPj+d85Xme++w5q98RTzyppam8/cTbeOBBPPGkcPE/TP71r3/x2zm/5Rv9N1bjEEIIM00EmCUH\\\n",
              "BwccHByafS05OZnk5GQAiouLr+ew2hVzWO07vY8lo5fg6exJfHg8+07vU6cECyoKOHXuFGMCx6jh\\\n",
              "ZT4XLnYb6mv0fFb4Ges3rSf+V/EUFBQQTzzzmU8ccSSRxGIWE0KI8rtJISAggO3bt/ON/ptmm0WE\\\n",
              "EAI0EmB+fn4UFhbi7+9PYWEhvr6+zZ6XkJBAQkICoMzjiitjGVZPffMUN/reyKTQSQzqMYizdWf5\\\n",
              "ofgHRgWMYrr7dGKCYxjec3iLVZI5DMcEjiHlqxTifxVPakEqccQRQggrWQlADjmkkqqGV0REBD41\\\n",
              "Pup4hBCiMU0E2NSpU1m9ejWLFi1i9erVxMXF2XpI7ZqnsydLRi/hL9/+hZ35O9lbuJdDJYfYmb+T\\\n",
              "eVHzGNdrnFVghXYPtXq/vkbPR8c+AuCWgFsI7RbKzvydDO85nOTkZKZMmUISSWp4ASSRhAEDa5LX\\\n",
              "EBERoY5DKi8hREvsLsDuvfdeUlNTKSkpISgoiKSkJBYtWsSMGTNYsWIFvXv35uOPP7b1MNst8/rX\\\n",
              "UN+h1J+vZ2a/mXg6e6oVGFysiFYeWmkVZOb3Vhur1fvBDpUcIvtsNr269uL48eP85fd/wQMPFrPY\\\n",
              "6vcuZjELWMDsObOZnzyfR8Y/YlXRNbcu19wxIUTHYXcB9tFHHzV7fOvWrdd5JB2TecrP3JhRVFnE\\\n",
              "6kmrMdQa2HByA6fOneL7ou/p792fVYdXsbtgN0/f9DSpuamU1ZSx6vAqHhz4IPOi5lFtrKbGWEOv\\\n",
              "rr3IzMzk62VfYzQYiSeeEELIIcdqDSyGGFIKU/j7b/8OH8D/Tfm/JuOCi+thLd1QLYToGOwuwMTV\\\n",
              "caXVibm6Guo7lL/t+hvZZ7OZ9eUsvFy8OHXuFAB7T+9Vz99buJekPUnsL9pPlE8UADXGGv4Y/Ufe\\\n",
              "OvgWqw6vwlhh5NSLpzAajABqt2EqqRgwsIAFSnhdOG40GHkt4TXcP3bn/uj71SYSy/FZfi9rZEJ0\\\n",
              "THZ3H5i4Oq5013fzulOUbxSrJ61WKzHjeSO9uvbizj53Mi9qHk+PfJpeXXsBcLriNA8OfJAzVWcA\\\n",
              "OFp21OqesZCeIXQb0816fKRQ4VFB7z/0pta71qqFHiB4fDDJWcnq+JvbQ1H2VRSiY5MAa6da2u6p\\\n",
              "scY3KJt/zi7PJuVECs/e8ixjAsdwo++NnDp3ilCPUB4d8igeXTwYFTCKbp27kV+Zz7GyYxRWFgJw\\\n",
              "uvI0r+x/hZ15Ssu9yWTikYWPcON9N6q/t2uProxIGsHoCaN54t0n0HlcnAyImBFBzbgaq/vKhBCi\\\n",
              "MZlC7OAaryNZ3gNm7joc3nM4McExeDl7ER8eT3Z5No9vfVydUgTo79UfTMr0YlGVcqN5fmU+Lp1c\\\n",
              "yK/M58vsL6mfUM+NDjfy0xc/MeWlKfzk8JPSkh81imc+eIZ/zvknnrd64jTZCc8unswdPBdo2iwi\\\n",
              "hBAgAdZuXarBwXJ9zHIdSV+jp9pYzYMDHwRQuw7N14kPjyflRAq7C3ar4eXr4svksMk8POhhDLUG\\\n",
              "nv/ueUK6heCsc+ZQySHSi9Jx7uRMTUMNAFPmTsF7vDfBIcE4VjrS2bEzk0InQSjseGEH+aZ8PLt4\\\n",
              "oq/V8/TOpwnoGsDewr3Nfg4hRMcmAdZOXarBoXG4mYNh5aGVvP3D24wJHMPO/J2MCRzDwuELcdG5\\\n",
              "qOH1yv5XeHDggxwtPUp5XTlnqs/g5eyFp7MnKSdS2Fu4l/5e/ckyZBHuEU56UTqTQiaxr2gf3bt0\\\n",
              "J+10Gqc5zcacjep4vsz+kkMlh8g35RPaLZRnb3lWbSA5VXGKkf4jqTZWo6/RSxUmhFBJgLVTl7oJ\\\n",
              "uKVwM/8cExwDoN58HB8ez0fHPuJ0xWl6de3F+F7jqTHWsPb4WqJ6RBETHMPKQyuJCY6hrKaMlMwU\\\n",
              "DHUGenXtxbyoeQDkZeWRV5EHQKB7IB5dPCiuLuZM1RmqjdXMHTyXvHN5PHvLs2oDiflmaIC3f3ib\\\n",
              "QyWHrLarEkJ0bBJgHVBL4WZ5fMnoJeo0Y+MHVb7747v08egDQKR3pNVjU7IMWRjqDOgcdJw6d0qt\\\n",
              "3gCqjdUA/FTyE/uL9qvXc9G5cODMAbLPZnPgzAGifKPwdPZUH4ipr9GrO4F8dOwj9ZoSZEJ0bNKF\\\n",
              "KICm3YiWLerx4fFE+yl7S3Z36s7cwXNx0bkAkFOeo043xofH85v+v8GlkwtGk5HQbqFqNeeic+Hh\\\n",
              "QQ/j5eylhpe/mz/RftHcEnAL1cZq5kXNa3bK07y11ZPDngS4otsDhBDtj1RgHZhlM8elmj48nT0Z\\\n",
              "3nM46UXplNeVc+DMAe7tfy8uOhf1AZbmimj1kdVUN1Tj0cWD7LPZpOamAtaNINXGar4/8z17C/dS\\\n",
              "WFnIuz++q4bg5cYJWFV1QoiOSwKsA7MMrcvtajEpdBLfF31PSPcQdSrQHHSWm/n29+rP3sK9xAbF\\\n",
              "UlJTQkxwDB5dPNRrm6cGLTf8nRQ6CVDW3FJOpDQJ0MaPd5FuRCEESIB1aJahdbmd31NzU9l7ei/H\\\n",
              "9cfR1+px0bk0257vonNRGzf+l/U/hvccbtXpaMlyLctyza3xNauN1Yz0H9liwAkhOiZZA+tALrXO\\\n",
              "dbn3xATHENotFH2tntBuoWrQWF7T3OzhonPh3v73qjuBWJ5j/v6jYx9ZrWW1NBbzNW/0vbFVO4sI\\\n",
              "IToOqcA6kCvZvd3yPa+NfY2X9r3EwuEL1aBpaRrSsqJ76+BbvP3D21Qbq3HRufDK/leYFzWPJ4c9\\\n",
              "qbbgt9RVGBMcw77T+5gUOqnJc8eEEB2bBFgHciW7tzcOpbfGvwVcbKwwdxm2ZhqyueutPLTykqGa\\\n",
              "mpuq3o8mASaEsCQB1oFcyROOW3pPa6s583TlvKh53Nv/Xqvrmde3WmqfB3lkihCiZbIGJq5Ia3e7\\\n",
              "t1wXa2l9q7nXzOSRKUKIlkgFJq5Ia6s58xqWearRklRXQohfQjMV2FdffUW/fv0IDw9n2bJlth6O\\\n",
              "aCXzGpb5hmZLUl0JIX4JTVRgDQ0NPPbYY2zevJmgoCCGDx/O1KlTGTBggK2HJi7jSqssy903JOCE\\\n",
              "EM3RRAWWlpZGeHg4YWFhODk5MXPmTNavX2/rYYlWuNIqy9wkInseCiFaookKLD8/n+DgYPXnoKAg\\\n",
              "vvvuOxuOSFxrsj4mhLgcTQRYayUnJ5OcnAxAcXGxjUcjfokrafkXQnQsmphCDAwMJDc3V/05Ly+P\\\n",
              "wMDAJuclJCSQnp5Oeno6Pj4+13OIQgghrjNNBNjw4cPJzMwkOzuburo61q5dy9SpU209LCGEEDak\\\n",
              "iSlEnU7Hm2++ye23305DQwMPP/wwAwcOtPWwhBBC2JAmAgxg8uTJTJ482dbDEEIIYSc0MYUohBBC\\\n",
              "NCYBJoQQQpMkwIQQQmiSBJgQQghNkgATQgihSRJgQgghNEkCTAghhCZJgAkhhNAkCTAhhBCaJAEm\\\n",
              "hBBCkyTAhBBCaJIEmBBCCE2SABNCCKFJEmBCCCE0SQJMCCGEJkmACSGE0CQJMCGEEJokASaEEEKT\\\n",
              "JMCEEEJokt0E2CeffMLAgQNxdHQkPT3d6rWlS5cSHh5Ov3792LRpk41GKIQQwp7obD0As0GDBrFu\\\n",
              "3Trmzp1rdfzIkSOsXbuWw4cPU1BQwPjx48nIyKBTp042GqkQQgh7YDcVWGRkJP369WtyfP369cyc\\\n",
              "OZMuXboQGhpKeHg4aWlpNhihEEIIe2I3AdaS/Px8goOD1Z+DgoLIz8+34YiEEELYg+s6hTh+/HhO\\\n",
              "nz7d5PiSJUuIi4v7xddPTk4mOTkZgOLi4l98PSGEEPbrugbYli1b2vyewMBAcnNz1Z/z8vIIDAxs\\\n",
              "9tyEhAQSEhIAiI6OvrJBCiGE0AS7n0KcOnUqa9eupba2luzsbDIzMxkxYoSthyWEEMLG7CbA/ve/\\\n",
              "/xEUFMSePXu44447uP322wEYOHAgM2bMYMCAAfzqV79i+fLl0oEohBACB5PJZLL1IK6F6OjoJveT\\\n",
              "CSGEuDQt/e20mwpMCCGEaAsJMCGEEJokASaEEEKTJMCEEEJokgSYEEIITZIAE0IIoUkSYEIIITRJ\\\n",
              "AkwIIYQmSYAJIYTQJAkwIYQQmiQBJoQQQpMkwIQQQmiSBJgQQghNkgATQgihSRJgQgghNEkCTAgh\\\n",
              "hCZJgAkhhNAkCTAhhBCaJAEmhBBCk+wmwBYuXEj//v0ZPHgwd955JwaDQX1t6dKlhIeH069fPzZt\\\n",
              "2mTDUQohhLAXdhNgEyZM4NChQ/z4449ERESwdOlSAI4cOcLatWs5fPgwX331FY8++igNDQ02Hq0Q\\\n",
              "Qghbs5sAmzhxIjqdDoCRI0eSl5cHwPr165k5cyZdunQhNDSU8PBw0tLSbDlUIYQQdsBuAszSe++9\\\n",
              "x6RJkwDIz88nODhYfS0oKIj8/HxbDU0I0QFVV9Rx4Oufqa6os/VQhAXd9fxl48eP5/Tp002OL1my\\\n",
              "hLi4OPV7nU7Hfffd1+brJycnk5ycDEBxcfEvG6wQQlxwdHche9ZlATB0Yu9fdK3qijqO7i4kcpQ/\\\n",
              "Lu5OV2N4HdZ1DbAtW7Zc8vVVq1bxxRdfsHXrVhwcHAAIDAwkNzdXPScvL4/AwMBm35+QkEBCQgIA\\\n",
              "0dHRV2nUQoiOLnKUv/r1lwbQ1QzDjs5uphC/+uorXnzxRT777DNcXV3V41OnTmXt2rXU1taSnZ1N\\\n",
              "ZmYmI0aMsOFIhRAdjYu7E0Mn9sbF3UkNoKO7C9s0tWg+NzSqBzdP66OGokxPXrnrWoFdyuOPP05t\\\n",
              "bS0TJkwAlEaOd955h4EDBzJjxgwGDBiATqdj+fLldOrUycajFUJ0VJbVWGurqeqKOrasOsKpQ2UA\\\n",
              "9B7mrlZvltfoPcwdb2/vazn8dsXBZDKZbD2IayE6Opr09HRbD0MI0Y61ZjrRMrx6DfJib8F/WbX6\\\n",
              "Pb78YhPG4q6ERvUg+4cSdD7nmDTldubMmUNiYuL1/SAWtPS3026mEIUQwhZ+yRSeeWoRaPEaR3cX\\\n",
              "cupQGR5+Lnyb8zHPL32OgoICYmPHkvJeKtk/lOAeUsukKbdTUFBAUlKSTQNMSyTAhBAdmuWaVkuq\\\n",
              "K+r47vOTpH1+ksKTBj5/8yA5h0r4/M2D6IsqL3mNyFH+9BrkxYcb3uHFfyxVj5eVF7P8q4XknP2e\\\n",
              "2NhYCgoK1NcuF2KybqaQKUQhRLtXXVHHT9vzMAGDY4OspvtaMw144Ouf1XWq7j4ulBdX08VNR22l\\\n",
              "kYC+3XHo5IBPcFeG3q40ejS+Zt7PhQwddiPFpUXqNeOJJ5VUDBjwwIMYYkghRX09ICCAH3/8sdk1\\\n",
              "MfN4bp7Wp8na2y/tktTS3067aeIQQohr5ejuQvZtyAGgc5dOVn/0LacBLVkGQeQof+prG3C4cLx8\\\n",
              "RzWhUd5UlNVRXlzNudIaOukcm23MiBzlz5njdWzZvIVx48dRUnaGeOKZz3ziiCOJJBazmBBCAEgh\\\n",
              "BX//AN58dg2uXbo2+3ksG0ma+6wdpU1fAkwI0e5FjvLHWNuAieb/6DencQg5gFLBjQ2mq7eL2oWY\\\n",
              "ty4Ld+8uGGsb0BdV4uzWmfraBobfEWLVqRg1IZin7nmdJasfI7UqlTjiCCGElawEIIccUkklIEAJ\\\n",
              "r4I0E0eDCpsNoZZC1zxWy6/tmQSYEKLdc3F3YsSvw9r0nsbt8s1VcOZzco+UkXdMz7efZBIY4Un6\\\n",
              "hhxuntYHF3cnQqN6kJ+hpzjnLK7nfbh/7B9Z/sXTJJGkhhdAEkkYMLAmeQ1jb7uFo0GFVxRClwq3\\\n",
              "9kYCTAghLmi8fhQ5yp8ft+dhrGtgyIRgdE6diBzlj76okm8+yqBHsDthN/qQ81MJfmFd8fR3IzSq\\\n",
              "BwChUT2Upo+scvKO6fEP704lZ1iz7R944MFiFlv97sUsZgELeOC+h/hq49cMnzjEFv8INEUCTAgh\\\n",
              "Lmi8fnR0dyHpFyqv4XeEoOuibKLw7SeZ5B3Tk3dMT86PJRiKqtE5OVJ08hyuXZWqa+NbP2Ioqgag\\\n",
              "q7czB9MP8caGP1FeVUo88YQQQg45VmtgMcSQUp7CryZPZE/at0RERNjkn4NWSIAJITqMljr0zMf9\\\n",
              "w7vTa5CXWkVZNm+YQA236MkhGIqq6DXAi4iberLxrR+pqTDi4edCaFQPPn/9IOdKa9F1ccBYa6L8\\\n",
              "nJ7XP/8j5VWlAGq3obkLcQELrLoQy8qLiY2NtepClE2Am5L7wIQQHUZL92uZj6dvzOHUoTKyfyhB\\\n",
              "X1TJllVHiBjhx4hfhzE4NojoO0Iw1jZw8vtizhbX4OzuhIevK+HDfOnm40zU+GDWvbifc6W1ADTU\\\n",
              "K3cpOda5EDsszup3ppCCybUT//jbv+ns3cWqhR5gzpw5Vi30rblfraORCkwI0WG01KFn/jk0qgfZ\\\n",
              "ESVEjvJXt3/6lkx+/fgQXNyd6NylE3vWZdHdxwUAB5RgObRDuQl5b8pJaiuN6nVN58HZTUefaF+G\\\n",
              "TFhEF1cd/2+T8sgnP9+eJM59hxuiBvDI+Bd4Z/OfKS5T7hNbvHix1Y3M1RV1GGsbiJoQjLG2geqK\\\n",
              "OqnCkApMCNGBWO4q39xxTz839fXRd/el1yAvRt/dVz0vcpQ/Qf09KS+uJqBvd+rrGjhXWo1fWDf8\\\n",
              "Qrvi1l25rmv3zgB0cdMx+bHBuLo7cXBzLpOHzeKhux/H3z+At5f+h4YzXSnJrWDKfWPYsmULAQEB\\\n",
              "LF68mD//6WmrnTbMXZD6wkr2bchhy6ojHX4XDpAKTAjRAbR2013Lczz93Bj/4ACO7i7EeVRnXNyd\\\n",
              "cHF3okewO3nH9Jwrq6UgM7fZa4UO8eFcaQ2nDpVReKIc83ZH50pruPPW2Tzz0tMU/FiNQ38Decf0\\\n",
              "BA/wYvCNg9Q1r+8+P0n6hhzqaxu46ddhVhXit2Ry6lAZR3c3f49YRyIBJoRo9xp3F1qGlfn1+toG\\\n",
              "tePQHAzN7WphGUadOjvQUG/C3asLfYb5UpxzloLMclzdnbjp12Ec3V1IaFQPMtOKGHhbAPqCSrz8\\\n",
              "3Sj4sZp9G3II6u9J9IUbngFcu3TlwNc/Y6xrAJQpSrC+t8scqh3hRuXLkQATQrR7jde+LIMJlO7C\\\n",
              "4XeENHnQZH2tcv9X1bk60j4/yQ2xQWqodOrsSEP9eQDCh/lyy119lU12N/1M7vEy6usaGHp7b3X6\\\n",
              "r9cgL3xDunFwcy5RE4IJ6u9J3jE9oOzPqC+qVFvvoxuNxVJHulH5ciTAhBDtXuM/+s01czSeXjTf\\\n",
              "AxbY34P8YwYAMtKKcHZX/mw21J+nm48z/Ub05IbYIPX3lBVWcvrEWU6fOEtnp070HeHH0V0FnDpU\\\n",
              "xnmjUr85OXVSpyLzjuk5uruQ/Aw9hqJqPPxcmmw4LJonTRxCiA7HspmjpcaOyFH+3DytDz7Byoa6\\\n",
              "zm46yourKco+h5uHE26eTvQa4MUNjcJm9N196ebjDEB9XQPffpKJoaiaXoO8GDE1lF6DvOg7wg+d\\\n",
              "k3JTdDcfZ0KjeqhNI5MfHUxNZb36qBZL8hgVaxJgQogO6XJhYA62obf35uZpfZj82GA1mCoNdVTq\\\n",
              "6zi0o6DJfVmefm5M/3M0N0/rg86pk/owy+jJIXz32UlOHSojI62IwbFB9BrkxdniGrJ/KMHTz41f\\\n",
              "Pz4ETz83vvkog1OHyvjmowyra8u9YNYkwIQQHVJrw8AcZP5hHkz/czSB/T0A8A/vzhCL+7LMgagv\\\n",
              "qlT2T6xtIGKEH70GeWEoqiZ9Y446Felw4brjHxyg3hytL6pUA7VHsDuA+tXMXBVKA4fCbtbA/va3\\\n",
              "v7F+/XocHR3x9fVl1apVBAQEYDKZmD9/Phs3bsTV1ZVVq1YxdOhQWw9XCKFxV/LYERd3J27/3SD1\\\n",
              "4ZgOwL4NOeoeiXvWZXF0V4G6B6KuSye1azA0qgcZvYsw1imPddEXVZL9QwlcuEbRz2c5dagMQHkw\\\n",
              "ZlenJmOTBg5rdvNE5rNnz9KtWzcAXn/9dY4cOcI777zDxo0beeONN9i4cSPfffcd8+fP57vvvrvs\\\n",
              "9bT0VFEhhLaYn4gcfUcIxroGinPPcdPUMHUrqsD+HgT08WiyPmb5XnMX4pAJwbhc2AA4+4cSm+91\\\n",
              "qKW/nXZTgZnDC6CyshIHB6VZdf369TzwwAM4ODgwcuRIDAYDhYWF+PtLCS2EuDYud+OzZfW2ZdUR\\\n",
              "8o8ZSNflNLlHy/woFp1TJ7Wz0Pxa1bk68o7p0TldfL6Y50S36/QJ2we7CTCAv/zlL7z//vt0796d\\\n",
              "7du3A5Cfn09wcLB6TlBQEPn5+RJgQohrprkbmC1ZTuWNvrsv35LJ6Lv7Wh0/8PXP6o3RcPFBmOZz\\\n",
              "qivqcG1mmlC03nUNsPHjx3P69Okmx5csWUJcXBxLlixhyZIlLF26lDfffJOkpKQ2XT85OZnkZGWj\\\n",
              "zOLi4qsyZiFEx9OW9TFnt84ERnji7Na5yTXqaxvUCkzWs64+u1kDs3Tq1CkmT57MoUOHmDt3LjEx\\\n",
              "Mdx7770A9OvXj9TU1MtWYFqaxxVCaJd5TevmaX2abFOlxZuRtfS3027a6DMzM9Xv169fT//+/QGY\\\n",
              "OnUq77//PiaTib1799K9e3eZPhRC2I3Gre1yr9b1YzdrYIsWLeL48eM4OjrSu3dv3nnnHQAmT57M\\\n",
              "xo0bCQ8Px9XVlZUrV9p4pEIIcVFrtqkS14bdBNh///vfZo87ODiwfPny6zwaIYS4SOvTgu2V3Uwh\\\n",
              "CiGEvWrLtKBMIV4/dlOBCSGEvWrLtKBMIV4/EmBCCHEZbWl5l/b460emEIUQQmiSBJgQQghNkgAT\\\n",
              "QgihSRJgQgghNEkCTAghhCZJgAkhhNAkCTAhhBCaZJe70V8NPXr0ICQkxNbDoLi4GB8fH1sP4xdr\\\n",
              "L58D2s9nkc9hX9rL58jJyaGkpMTWw2iVdhtg9kJLjya4lPbyOaD9fBb5HPalvXwOLZEpRCGEEJok\\\n",
              "ASaEEEKTOiUmJibaehDt3bBhw2w9hKuivXwOaD+fRT6HfWkvn0MrZA1MCCGEJskUohBCCE2SALtG\\\n",
              "Fi5cSP/+/Rk8eDB33nknBoNBfW3p0qWEh4fTr18/Nm3aZMNRXt4nn3zCwIEDcXR0bNJhpaXPAfDV\\\n",
              "V1/Rr18/wsPDWbZsma2H0yYPP/wwvr6+DBo0SD1WVlbGhAkT6Nu3LxMmTECv19twhJeXm5tLbGws\\\n",
              "AwYMYODAgbz22muA9j5HTU0NI0aMICoqioEDB7J48WIAsrOzuemmmwgPD+eee+6hrq7OxiPtAEzi\\\n",
              "mti0aZOpvr7eZDKZTE899ZTpqaeeMplMJtPhw4dNgwcPNtXU1JhOnjxpCgsLMxmNRlsO9ZKOHDli\\\n",
              "OnbsmOm2224z7du3Tz2utc9hNBpNYWFhpqysLFNtba1p8ODBpsOHD9t6WK22Y8cO0/79+00DBw5U\\\n",
              "jy1cuNC0dOlSk8lkMi1dulT9d8xeFRQUmPbv328ymUyms2fPmvr27Ws6fPiw5j7H+fPnTefOnTOZ\\\n",
              "TCZTXV2dacSIEaY9e/aY7r77btNHH31kMplMprlz55reeustWw6zQ5AK7BqZOHEiOp3yvNCRI0eS\\\n",
              "l5cHwPr165k5cyZdunQhNDSU8PBw0tLSbDnUS4qMjKRfv35Njmvtc6SlpREeHk5YWBhOTk7MnDmT\\\n",
              "9evX23pYrXbrrbfi5eVldWz9+vXMmjULgFmzZpGSkmKLobWav78/Q4cOBaBr165ERkaSn5+vuc/h\\\n",
              "4OCAu7s7APX19dTX1+Pg4MC2bduYPn06oI3P0R5IgF0H7733HpMmTQIgPz+f4OBg9bWgoCDy8/Nt\\\n",
              "NbQrprXPobXxtkZRxpZ9LwAAAvlJREFUURH+/spj63v27ElRUZGNR9R6OTk5fP/999x0002a/BwN\\\n",
              "DQ0MGTIEX19fJkyYQJ8+ffDw8FD/o7U9/PulBTpbD0DLxo8fz+nTp5scX7JkCXFxcer3Op2O++67\\\n",
              "73oPr9Va8zmEfXNwcMDBwcHWw2iViooK7rrrLl599VW6detm9ZpWPkenTp04ePAgBoOBO++8k2PH\\\n",
              "jtl6SB2SBNgvsGXLlku+vmrVKr744gu2bt2q/o8yMDCQ3Nxc9Zy8vDwCAwOv6Tgv53Kfozn2+Dku\\\n",
              "RWvjbQ0/Pz8KCwvx9/ensLAQX19fWw/psurr67nrrru47777mDZtGqDNz2Hm4eFBbGwse/bswWAw\\\n",
              "YDQa0el07eLfLy2QKcRr5KuvvuLFF1/ks88+w9XVVT0+depU1q5dS21tLdnZ2WRmZjJixAgbjvTK\\\n",
              "aO1zDB8+nMzMTLKzs6mrq2Pt2rVMnTrV1sP6RaZOncrq1asBWL16td1XyyaTidmzZxMZGcmTTz6p\\\n",
              "Htfa5yguLla7iqurq9m8eTORkZHExsby6aefAtr4HO2CrbtI2qs+ffqYgoKCTFFRUaaoqCjT3Llz\\\n",
              "1deee+45U1hYmCkiIsK0ceNGG47y8tatW2cKDAw0OTk5mXx9fU0TJ05UX9PS5zCZTKYNGzaY+vbt\\\n",
              "awoLCzM999xzth5Om8ycOdPUs2dPk06nMwUGBpr+/e9/m0pKSkxjx441hYeHm8aNG2cqLS219TAv\\\n",
              "aefOnSbAdMMNN6j/u9iwYYPmPscPP/xgGjJkiOmGG24wDRw40JSUlGQymUymrKws0/Dhw019+vQx\\\n",
              "TZ8+3VRTU2PjkbZ/shOHEEIITZIpRCGEEJokASaEEEKTJMCEEEJokgSYEEIITZIAE0IIoUkSYEII\\\n",
              "ITRJAkwIIYQmSYAJIYTQJAkwIYQQmiQBJoQQQpMkwIQQQmiSBJgQQghNkgATQgihSRJgQgghNEkC\\\n",
              "TAghhCZJgAkhhNAkCTAhhBCaJAEmhBBCkyTAhBBCaJIEmBBCCE36/7fpIHkA5SC5AAAAAElFTkSu\\\n",
              "QmCC\\\n",
              "\"\n",
              "  frames[1] = \"data:image/png;base64,iVBORw0KGgoAAAANSUhEUgAAAbAAAAEgCAYAAADVKCZpAAAABHNCSVQICAgIfAhkiAAAAAlwSFlz\\\n",
              "AAALEgAACxIB0t1+/AAAADh0RVh0U29mdHdhcmUAbWF0cGxvdGxpYiB2ZXJzaW9uMy4yLjIsIGh0\\\n",
              "dHA6Ly9tYXRwbG90bGliLm9yZy+WH4yJAAAgAElEQVR4nO3de3yU1b3v8W8gBgmoCYFALtQQkoEQ\\\n",
              "CFQjqFs0I0SrsENEoPHgeaXKK0O3vbDxVGsvu0laKRw9buS0aM9ERFpbOdUXDW5ooaCJ9QIb4xY5\\\n",
              "QGkiJjU3aBgyKoRcec4fcUaGO5LkmTX5vP9Jsp7nmfzWSzJf13rWsybMsixLAAAYZoDdBQAA8GUQ\\\n",
              "YAAAIxFgAAAjEWAAACMRYAAAIxFgAAAjEWAAACMRYAAAIxFgAAAjEWAAACMRYAAAIxFgAAAjEWAA\\\n",
              "ACMRYAAAIxFgAAAjEWAAACMRYAAAIxFgAAAjEWAAACMRYAAAIxFgAAAjEWAAACMRYAAAIxFgAAAj\\\n",
              "EWAAACMRYAAAIxFgAAAjEWAAACMRYAAAIxFgAAAjEWAAACMRYAAAIxFgAAAjEWAAACOF211Abxk+\\\n",
              "fLiSkpLsLgMAjFJTU6MjR47YXcZFCdkAS0pKUkVFhd1lAIBRMjMz7S7hojGFCAAwEgEGADASAYZL\\\n",
              "4vF4LqkdAHoLAYaLVlRUpIyMDFVWVga0V1ZWKiMjQ0VFRfYUBqBfIsBwUYqKilRcXKyGhgY5nU5/\\\n",
              "iFVWVsrpdKqhoUHFxcWEGIA+Q4Dhgnzh5eMLsc2bN/vDy4cQA9BXCDBIxz3S26u6v57G4/GopKQk\\\n",
              "oC1XuWppaNHs2bPV0tCiXOUGHC8pKeGeGIBeR4BB2v2itO0n3V9PExMTo7KyMsXHx0vqDq8lWqKV\\\n",
              "WqkkJWmlVmqJlvhDLD4+XmVlZYqJienTLgDof0L2QWZcgin3B349jcPhUFlZmZxOp8obyjVHc5Sk\\\n",
              "JK3VWklSjWpUrnJ/eDkcjj4qHEB/xgisPzp9ynBIjPRPS7q/P8dUosPhkNvtlldeFas44FixiuWV\\\n",
              "V263m/AC0GcIsP7o9CnDpirpt/Olt1d+0X5ayFVWVsrlcilKUSpUYcDLFapQUYqSy+U6Y4k9APQW\\\n",
              "Aqw/mnK/lP3TL6YMN31Xqvqz9N6vpZu/093uC7nSb6py93/6VxtmKUtJSlKNavSAHlCNapSkJGUp\\\n",
              "64wl9gDQm8Isy7LsLqI3ZGZmspnv2Rz3dIfT6JulN5+QHLOlPy6VrK7PTxggxaRIg6+RBkbI89c3\\\n",
              "lfFcpxqaW/0vkatclatcXnkVpShlKUulKvUfj4+P1549e1jIAXzO4/Gc9e/hXO12Mum9kxFYf7PL\\\n",
              "3T2y+t287lHX5u+eEl6SdFLyVEp170rtLYoZHquCjJMBL1GqUkXGR2rTpk2KjI8MCC9JKigoCLo/\\\n",
              "SsAu7GDTewiwfufzAXer98KnNn4gtRxRkXOICm+L8Df7VhvOmjUrYIm9JBUWFvIHCXyOHWx6FwHW\\\n",
              "30xdLCU7u78fdPUFTv585GV1qWjeJBX+4JEzlsr7ltjHx8cTXsAp2MGm93EPrD9qqpL+733SkaqL\\\n",
              "OHmAlJgpzXlGGpFq1Fw+YBePx6OMjIyAkDLl3rFJ752MwPqjyj92h1dylnRDgRQ+5BwnDpB0Ukqb\\\n",
              "LY1IlaRz/nHZ/UcHBBN2sOkbQbUTR2trq2699Va1tbWps7NT8+bNU3Fxsaqrq5WXlyePx6Prr79e\\\n",
              "v/nNbxQREXHhF8TZnb7zhiXp/V9LXW3dP0cMldqPSVP+mzTCcc4dOgCcGzvY9L6gGoENGjRIr7/+\\\n",
              "uj744APt3r1bW7Zs0c6dO/X9739fS5cu1Ycffqjo6GitWbPG7lLN5tt5Y0hM95L6ipLu8BqWLN30\\\n",
              "XSnzwe7zrkn84jwA53X0eLv+zxsHdfR4u7+NHWx6V1AFWFhYmIYOHSpJ6ujoUEdHh8LCwvT6669r\\\n",
              "3rx5kqT8/HyVlpae72VwIafusjHlfum2x6Tbvi8t2i7d+TPpn/61+0HnqS67KwWM8XJFrZb/6YBe\\\n",
              "rqj1t7GDTe8KqgCTpK6uLk2ZMkWxsbHKzs7W2LFjFRUVpfDw7tnOxMRE1dfX21yl4U7dSmpIjOT8\\\n",
              "geT8Yff3vgedp9zPyAs4xakjrLONtuZnjtaSGanyHGvTym2V2rV7LzvY9LKgugcmSQMHDtTu3bvl\\\n",
              "9Xp1zz336MCBAxd9rdvtltvtliQ1NTX1VonmO9/u875wk77Y4BeA1r1To1WvVenXO2pkWVLDJ616\\\n",
              "/cBh3Zgco/ybx2jYkAhFRgzUqteq1HXiU/3410vU4u1+H/KtNvStQlyqpQGrEH0hFgyrEE0SdCMw\\\n",
              "n6ioKDmdTu3YsUNer1ednZ2SpLq6OiUkJJz1GpfLpYqKClVUVGjEiBF9Wa5ZTr0HdrrT90kEoINN\\\n",
              "x/TKe91Tg/XeVjV80r212n9WN2vVax/qup9t0zd/UyHPsTa5pifrtkljdEX6zIDXYAebnhdUAdbU\\\n",
              "1CSvt3uHiBMnTmjbtm1KS0uT0+nUK6+8Iklat26d5syZY2eZoe184Qb0Q0ePt8v16wrVe1vPe96W\\\n",
              "fYflfrNaMUMj9L/vu07/c9nP9OgPfuw/zg42PS+ophAbGxuVn5+vrq4unTx5UgsWLNDs2bM1YcIE\\\n",
              "5eXl6cc//rG++tWvatGiRXaXGry4hwX0qJcranWw6bhGRw+W51ibWjpOnvPcIYMGqr65Rb9646AG\\\n",
              "XzFA3//Rv2lwxECVlJScdQcbp9OpgoICwutLYieOUPP2qu57WNk/5R4W0AOOHm/XuneqdaL9pH63\\\n",
              "6+861tZ14Ys+94O7xmvxbWON2sHGpPfOoBqBoQecb4EGgEvWvTgjXKteu/CCsvABUudJKSHqSs27\\\n",
              "PlHzM0dLYgeb3kKAhRrfPSwAPWZ+5mi1tHfqRPtJDY4YqK+OjtLPNu/Xk/MmK2n4EP3qjYPa/XGz\\\n",
              "Wju6tKf+U82aFK+l2ePsLjvkEWAAcAHDhkScEUhZ42P933/ztrH6H7/frV01zXKOG6FvZo3t6xL7\\\n",
              "paBahQgAJnq5olZlf2uSc9wIPbVgioYNYa/WvsAIDAAuk+9e1/zM0YRXHyLAAOAyDRsSocW3MW3Y\\\n",
              "15hCBAAYiQADABiJAAMAGIkAAwAYiQADABiJAAMAGIkA62Uej+eMts7mZlWtWqXO5mYbKgKA0ECA\\\n",
              "9aKioiJlZGSc8VHh7z3zjG753vf0w/x8myoDAPMRYL2kqKhIxcXF/o8K94VYZWWl5q5erX90durJ\\\n",
              "//gPPgcIAL4kAqwX+MLLxxdimzdvltPpVENjo/9YcXExIQYAXwIB1hOOe7o/SPK4Rx6PRyUlJQGH\\\n",
              "c5WrloYWzZ49Wy0NLcpVbsDxkpKSs94rAwCcGwH2JXU2N8uzZk33QozdL3Z/CvLuFxUTE6OysjLF\\\n",
              "x8dL6g6vJVqilVqpJCVppVZqiZb4Qyw+Pl5lZWV8sB0AXCI28/2SPtmwQf948n9JkmLyAj8F2eFw\\\n",
              "qKysTE6nU+UN5ZqjOUpSktZqrSSpRjUqV7k/vBwOhx1dAACjMQL7kq6ZO1exj3xP18yd+8WnIA/5\\\n",
              "YhTlcDjkdrvllVfFKg64tljF8sort9tNeAHAl0SA9aBTpxUrKyvlcrkUpSgVqjDgvEIVKkpRcrlc\\\n",
              "ZyyxBwBcHALsPDqbm9X0i1+q6Re/OOOhY98UYsNjj/mP+dree+YZObOy1NDQoCxlKUlJqlGNHtAD\\\n",
              "qlGNkpSkLGWdscQeAHDxuAd2Hs0vvqgjq5+RJJ3Yu1fxK1aoy+vV4RUrFL1woa74yld0/I2/qOq2\\\n",
              "LEVce60GDImU8r6uuatX+5fKl6pUklSucnnl1VItVZay/O2+ENuzZw8LOQDgEgTVCKy2tlZOp1MT\\\n",
              "JkxQenq6Vq1aJUk6evSosrOzlZqaquzsbDX32RZMYZLkD6rmF1/UR/Pm6/gbf1Gda7E6Pv64+7T2\\\n",
              "drVXVal19wca0tioApcr4FVKVarI+Eht2rRJkfGR/vDyKSgoILwA4BIFVYCFh4frqaee0v79+7Vz\\\n",
              "506tXr1a+/fv14oVKzRjxgxVVVVpxowZWrFiRa/VcOp9rOj7F2r4tx7SkOm3KPKmm9R+6JB0/Pi5\\\n",
              "L77iCkUvXKiioiL926OP+pt9qw1nzZoVsMRekgoLC3mQGQC+hKAKsLi4OF133XWSpKuuukppaWmq\\\n",
              "r6/Xxo0blf/5voH5+fkqLS0938tcFt99rE82bFB4dLQGREbK+9vfqWXHDrXs2Hn+izs6dHTtC5Kk\\\n",
              "JQ6HHoqJ0aioqICl8r4l9vHx8YQXAFyGoL0HVlNTo/fff1/Tpk3T4cOHFRcXJ0kaNWqUDh8+3Gu/\\\n",
              "95q5cyVJQ2+/XZ41azT09tt17O231fLODg0cNkydDQ1nvzA8XOrs1JVp4/2v81NJP8nK0sixYwNO\\\n",
              "dTgc3PMCgMsUlAF27Ngx3XvvvXr66ad19dVXBxwLCwtTWFjYWa9zu91yu92SpKampi/1u8OjoxWz\\\n",
              "aJE8a9b4H1ROeOopfbJhgzo9HrXt3Xv26xLiFTX7nxV9/8KA1zkXwgsALk/QBVhHR4fuvfdeLVy4\\\n",
              "UHM/Hw2NHDlSjY2NiouLU2Njo2JjY896rcvlkuvzBRSZmZmXVYdvJHbN3Ln+MOpsbtbJ1lYdf+tt\\\n",
              "DVu0SEfXvaDh3/q2jqz+pTo+qtaAyMEKj46+rN8LALg4QXUPzLIsLVq0SGlpaXr44Yf97Tk5OVq3\\\n",
              "bp0kad26dZozZ06v1+ILrVMDKTw6WnE/+YlS/rxV1rHP1PFRtboONSrpt7/9YlcOAECfCLMsy7K7\\\n",
              "CJ+33npL06dP16RJkzRgQHe2/vznP9e0adO0YMECffzxx7r22mv1+9//XsOGDTvva2VmZqqioqLX\\\n",
              "au1sbtYnGzb4R2gAEAp6+72zJwVVgPUkk/4jAECwMOm9M6imEAEAuFgEGADASAQYAMBIBBgAwEgE\\\n",
              "GADASAQYAMBIBBgAwEgEGADASAQYAMBIBBgAwEgEGADASAQYAMBIBBgAwEgEGADASAQYAMBIBBgA\\\n",
              "wEgEGADASAQYAMBIBBgAwEgEGADASAQYAMBIBBgAwEgEGADASEEXYA8++KBiY2M1ceJEf9vRo0eV\\\n",
              "nZ2t1NRUZWdnq7m52cYK4ePxeC6pHQB6UtAF2De+8Q1t2bIloG3FihWaMWOGqqqqNGPGDK1YscKm\\\n",
              "6uBTVFSkjIwMVVZWBrRXVlYqIyNDRUVF9hQGoN8IugC79dZbNWzYsIC2jRs3Kj8/X5KUn5+v0tJS\\\n",
              "O0rD54qKilRcXKyGhgY5nU5/iFVWVsrpdKqhoUHFxcWEGIBeFXQBdjaHDx9WXFycJGnUqFE6fPiw\\\n",
              "zRX1X77w8vGF2ObNm/3h5UOIAehNRgTYqcLCwhQWFnbWY263W5mZmcrMzFRTU1MfVxb6PB6PSkpK\\\n",
              "AtpylauWhhbNnj1bLQ0tylVuwPGSkhLuiQHoFUYE2MiRI9XY2ChJamxsVGxs7FnPc7lcqqioUEVF\\\n",
              "hUaMGNGXJfYLMTExKisrU3x8vKTu8FqiJVqplUpSklZqpZZoiT/E4uPjVVZWppiYGDvLBhCijAiw\\\n",
              "nJwcrVu3TpK0bt06zZkzx+aK+i+Hw+EPsXKVq0Y1SlKS1mqtkpSkGtWoXOX+8HI4HHaXDCBEBV2A\\\n",
              "3Xfffbrpppv0t7/9TYmJiVqzZo0ee+wxbdu2Tampqdq+fbsee+wxu8vs1xwOh9xut7zyqljFAceK\\\n",
              "VSyvvHK73YQXgF4VZlmWZXcRvSEzM1MVFRV2lxGSfKsNWxpa/NOHPjWq0VItVWR8JCMwwEAmvXcG\\\n",
              "3QgMwe3UpfJZyvJPGz6gB/zTiVnKOmOJPQD0tHC7C0BwaG5tVumHpcoanaXy2nLlpuQq+srogHM8\\\n",
              "Hk/AUvlSdT+PV65yeeXVUi1VlrL87b4Q27NnDws5APQ4Agxqbm3Wo395VDsbd2rVf61Sl9Wlv9T9\\\n",
              "RaOHjtauw7s0PWG6HprykGJiYlRQUBDwHFipShUfH68X3S/K5XKptCHwIfOCggLCC0CvYAoRKv2w\\\n",
              "VDsbd0qSuqwuSVLF4Qr94eAfVH+sXuv/tl4vHXhJUveDzIWFhf5rfasNZ82aFbDEXpIKCwt5kBlA\\\n",
              "ryHA+onm1mat3btWza1nboScm5KrEYPP/9zcic4T/ut9IXb6UvlTl9gTXgB6G6sQ+4m1e9fq39/7\\\n",
              "d01PmK5ltyzz399qbm3WSwde0nN7nlOH1XHO6wcPHKwTXSd0Y9yNeuLWJxR9ZbQ8Hs9ZpwfP1Q4g\\\n",
              "+Jn03skIrJ/ITcnV9ITperP+TZV++MV9qpcOvKRnP3j2vOElSSe6TkiSdjbu1I/e+pGaW5vPGVKE\\\n",
              "F4C+QID1E9FXRmvZLcv0L5P/RSc6T5wxlZg+LP281w/4/J/K1VdcrTfr3/TfEwMAuxBg/Uj0ldEa\\\n",
              "HD5Yz37wrH8Udt/4+/Tw9Q/r2exn9eT0JxUe1r0wdfDAwZKkUUNGKXFoolbPWK3pCdP1acenttUP\\\n",
              "AKdiGX0/k5uSG/A1+spoPTDxAUnS15K/pmnx0/zPgz357pN6s/5NSVKVt0rLblnmH3ndN/4+G6oH\\\n",
              "gC+wiAPn5FvgIXUH1ukPNgMIPSa9dzICwzlFXxmth6Y8ZHcZAHBW3AMDABiJAAMAGIkAAwAYiQAD\\\n",
              "ABiJAAMAGIkAAwAYiQADABiJAAMAGIkAAwAYiQADABiJAAMAGIkAAwAYyZgA27Jli8aNG6eUlBSt\\\n",
              "WLHC7nIAADYzIsC6urr0rW99S3/605+0f/9+vfTSS9q/f7/dZQEAbGREgO3atUspKSlKTk5WRESE\\\n",
              "8vLytHHjRrvLAgDYyIgAq6+v1+jRo/0/JyYmqr6+3saKAAB2C6kPtHS73XK73ZKkpqYmm6sBAPQm\\\n",
              "I0ZgCQkJqq2t9f9cV1enhISEM85zuVyqqKhQRUWFRowY0ZclAgD6mBEBdsMNN6iqqkrV1dVqb2/X\\\n",
              "+vXrlZOTY3dZAAAbGTGFGB4erl/+8pe688471dXVpQcffFDp6el2lwUAsJERASZJd999t+6++267\\\n",
              "ywAABAkjphABADgdAQYAMBIBBgAwEgEGADASAQYAMBIBBgAwEgEGADASAQYAMBIBBgAwEgEGADAS\\\n",
              "AQYAMBIBBgAwEgEGADASAQYAMBIBBgAwEgEGADASAQYAMBIBBgAwEgEGADASAQYAMBIBBgAwEgEG\\\n",
              "ADASAQYAMFLQBNjLL7+s9PR0DRgwQBUVFQHHli9frpSUFI0bN05bt261qUIAQDAJt7sAn4kTJ2rD\\\n",
              "hg1avHhxQPv+/fu1fv167du3Tw0NDZo5c6YqKys1cOBAmyoFAASDoBmBpaWlady4cWe0b9y4UXl5\\\n",
              "eRo0aJDGjBmjlJQU7dq1y4YKAQDBJGgC7Fzq6+s1evRo/8+JiYmqr6+3sSIAQDDo0ynEmTNn6tCh\\\n",
              "Q2e0L1u2THPmzLns13e73XK73ZKkpqamy349AEDw6tMA2759+yVfk5CQoNraWv/PdXV1SkhIOOu5\\\n",
              "LpdLLpdLkpSZmfnligQAGCHopxBzcnK0fv16tbW1qbq6WlVVVZo6dardZQEAbBY0AfaHP/xBiYmJ\\\n",
              "2rFjh2bNmqU777xTkpSenq4FCxZowoQJ+trXvqbVq1ezAhEAoDDLsiy7i+gNmZmZZzxPBgA4P5Pe\\\n",
              "O4NmBAYAwKUgwAAARiLAAABGIsAAAEYiwAAARiLAAABGIsAAAEYiwAAARiLAAABGIsAAAEYiwAAA\\\n",
              "RiLAAABGIsAAAEYiwAAARiLAAABGIsAAAEYiwAAARiLAAABGIsAAAEYiwAAARiLAAABGIsAAAEYi\\\n",
              "wAAARgqaAHvkkUc0fvx4ZWRk6J577pHX6/UfW758uVJSUjRu3Dht3brVxioBAMEiaAIsOztbe/fu\\\n",
              "1Z49e+RwOLR8+XJJ0v79+7V+/Xrt27dPW7Zs0UMPPaSuri6bqwUA2C1oAuyOO+5QeHi4JOnGG29U\\\n",
              "XV2dJGnjxo3Ky8vToEGDNGbMGKWkpGjXrl12lgoACAJBE2Cnev7553XXXXdJkurr6zV69Gj/scTE\\\n",
              "RNXX19tVGgAgSIT35S+bOXOmDh06dEb7smXLNGfOHP/34eHhWrhw4SW/vtvtltvtliQ1NTVdXrEA\\\n",
              "gKDWpwG2ffv28x5/4YUXtGnTJr322msKCwuTJCUkJKi2ttZ/Tl1dnRISEs56vcvlksvlkiRlZmb2\\\n",
              "UNUAgGAUNFOIW7Zs0RNPPKFXX31VkZGR/vacnBytX79ebW1tqq6uVlVVlaZOnWpjpQCAYNCnI7Dz\\\n",
              "+fa3v622tjZlZ2dL6l7I8atf/Urp6elasGCBJkyYoPDwcK1evVoDBw60uVoAgN3CLMuy7C6iN2Rm\\\n",
              "ZqqiosLuMgDAKCa9dwbNFCIA4MvzeDyX1B4KCDAAMFxRUZEyMjJUWVkZ0F5ZWamMjAwVFRXZU1gv\\\n",
              "I8AAwGBFRUUqLi5WQ0ODnE6nP8QqKyvldDrV0NCg4uLikAwxAgwADOULLx9fiG3evNkfXj6hGGIE\\\n",
              "GAAYyOPxqKSkJKAtV7lqaWjR7Nmz1dLQolzlBhwvKSkJqXtiBBgAGCgmJkZlZWWKj4+X1B1eS7RE\\\n",
              "K7VSSUrSSq3UEi3xh1h8fLzKysoUExNjZ9k9igADAEM5HA5/iJWrXDWqUZKStFZrlaQk1ahG5Sr3\\\n",
              "h5fD4bC75B5FgAGAwRwOh9xut7zyqljFAceKVSyvvHK73SEXXhIBBgBGq6yslMvlUpSiVKjCgGOF\\\n",
              "KlSUouRyuc5YYh8KCDAAsNmJY+36rz//XSeOtQd8f65zfE5dKp+lLP+04QN6wD+dmKWsM5bYh4qg\\\n",
              "2QsRAPqrv77TqB0bDqqjrUv/+Pun+njvUb27qVrO/z5ezYda1NnepSO1x1R3oFmSdN0d18rj8QQs\\\n",
              "lS9VqSSpXOXyyqulWqosZfnbfSG2Z8+ekFnIwQgMAGw2ZvJwfWXiMHW2d+njvUclSZ3tJ7VtzX5V\\\n",
              "bK7R7m21qjvQrKtHXKkxk4dL6l6FWFBQEPA6pSpVZHykNm3apMj4SH94+RQUFIRMeEkEGADYrvqD\\\n",
              "I/p471FdETFQY28Ycc7zPm1q1b63vng4uaioSD/8wY/9P/tWG86aNStgib0kFRYWhtyDzEwhAoBN\\\n",
              "Thxr11/fadSYycN14rN2NRz0qrHKe95r/lH9acDPy37+M10RMVAlJSUBS+V9S+ydTqcKCgpCLrwk\\\n",
              "AgwAbOO79yVJRxuPq/7A+cNLkjo7TurEsXYNHhrhbysqKtJ3vvOdM6YHHQ5HSN3zOh1TiABgk7Sb\\\n",
              "43TT3LFKuzlOt8xPVXjEhd+Sm/7+mf76TuMZ7ecKqVANL4kAAwDbDB4aoevuuFaDh0YoeuQQ5fzr\\\n",
              "FA2JitCA83zofFzqNUq7Oa7vigxiBBgABIm45Ch9Y8UtSkwbJkkaeEWYJGlk8lVKHB+tydmjddfi\\\n",
              "SQHTh/0Z98AAIMjcMj9Vb6lKk7IS9f/K63TL/FRFjxxid1lBhwADgCATPXKI/vnbUyRJSROH21xN\\\n",
              "8GIKEQBgJAIMAGAkAgwAYCQCDABgJAIMAGAkAgwAYCQCDABgpDDLsiy7i+gNw4cPV1JS0lmPNTU1\\\n",
              "acSIc39kQajpT/2lr6GJvvadmpoaHTlyxLbffylCNsDOJzMzUxUVFXaX0Wf6U3/pa2iirzgbphAB\\\n",
              "AEYiwAAARhpYFIof03kRrr/+ertL6FP9qb/0NTTRV5yuX94DAwCYjylEAICR+lWAPfLIIxo/frwy\\\n",
              "MjJ0zz33yOv1+o8tX75cKSkpGjdunLZu3WpjlT3j5ZdfVnp6ugYMGHDGiqZQ66skbdmyRePGjVNK\\\n",
              "SopWrFhhdzk96sEHH1RsbKwmTpzobzt69Kiys7OVmpqq7OxsNTc321hhz6mtrZXT6dSECROUnp6u\\\n",
              "VatWSQrN/ra2tmrq1KmaPHmy0tPTVVhYKEmqrq7WtGnTlJKSoq9//etqb2+3udIgZvUjW7dutTo6\\\n",
              "OizLsqxHH33UevTRRy3Lsqx9+/ZZGRkZVmtrq/XRRx9ZycnJVmdnp52lXrb9+/dbBw4csG677Tbr\\\n",
              "3Xff9beHYl87Ozut5ORk6+DBg1ZbW5uVkZFh7du3z+6yeswbb7xhvffee1Z6erq/7ZFHHrGWL19u\\\n",
              "WZZlLV++3P9v2XQNDQ3We++9Z1mWZX366adWamqqtW/fvpDs78mTJ63PPvvMsizLam9vt6ZOnWrt\\\n",
              "2LHDmj9/vvXSSy9ZlmVZixcvtp555hk7ywxq/WoEdscddyg8vPszPG+88UbV1dVJkjZu3Ki8vDwN\\\n",
              "GjRIY8aMUUpKinbt2mVnqZctLS1N48aNO6M9FPu6a9cupaSkKDk5WREREcrLy9PGjRvtLqvH3Hrr\\\n",
              "rRo2bFhA28aNG5Wfny9Jys/PV2lpqR2l9bi4uDhdd911kqSrrrpKaWlpqq+vD8n+hoWFaejQoZKk\\\n",
              "jo4OdXR0KCwsTK+//rrmzZsnKXT62lv6VYCd6vnnn9ddd90lSaqvr9fo0aP9xxITE1VfX29Xab0q\\\n",
              "FPsain26kMOHDysuLk6SNGrUKB0+fNjminpeTU2N3n//fU2bNi1k+9vV1aUpU6YoNjZW2dnZGjt2\\\n",
              "rKKiovz/o90f/i1fjnC7C+hpM2fO1KFDh85oX7ZsmebMmeP/Pjw8XAsXLuzr8nrUxfQVoS8sLExh\\\n",
              "YWF2l9Gjjh07pnvvvVdPP/20rr766oBjodTfgQMHavfu3fJ6vbrnnnt04MABu0sySsgF2Pbt2897\\\n",
              "/IUXXtCmTZv02muv+f8IEhISVFtb6z+nrq5OCQkJvVpnT7hQX8/G1L6eTyj26UJGjhypxsZGxcXF\\\n",
              "qbGxUbGxsXaX1GM6Ojp07733auHChZo7d66k0O6vJEVFRcnpdGrHjh3yer3q7OxUeHh4v/i3fDn6\\\n",
              "1RTili1b9MQTT+jVV19VZGSkvz0nJ0fr169XW1ubqqurVVVVpalTp9pYae8Jxb7ecMMNqqqqUnV1\\\n",
              "tdrb27V+/Xrl5OTYXVavysnJ0bp16yRJ69atC5kRt2VZWrRokdLS0vTwww/720Oxv01NTf6V0CdO\\\n",
              "nNC2bduUlpYmp9OpV155RVLo9LXX2L2KpC+NHTvWSkxMtCZPnmxNnjzZWrx4sf/Y448/biUnJ1sO\\\n",
              "h8P64x//aGOVPWPDhg1WQkKCFRERYcXGxlp33HGH/1io9dWyLGvz5s1WamqqlZycbD3++ON2l9Oj\\\n",
              "8vLyrFGjRlnh4eFWQkKC9eYT5NUAAADPSURBVNxzz1lHjhyxbr/9dislJcWaMWOG5fF47C6zR7z5\\\n",
              "5puWJGvSpEn+v9PNmzeHZH8/+OADa8qUKdakSZOs9PR0q7i42LIsyzp48KB1ww03WGPHjrXmzZtn\\\n",
              "tba22lxp8GInDgCAkfrVFCIAIHQQYAAAIxFgAAAjEWAAACMRYAAAIxFgAAAjEWAAACMRYAAAIxFg\\\n",
              "AAAjEWAAACMRYAAAIxFgAAAjEWAAACMRYAAAIxFgAAAjEWAAACMRYAAAIxFgAAAjEWAAACMRYAAA\\\n",
              "I/1/1WLjaOObRZcAAAAASUVORK5CYII=\\\n",
              "\"\n",
              "  frames[2] = \"data:image/png;base64,iVBORw0KGgoAAAANSUhEUgAAAbAAAAEgCAYAAADVKCZpAAAABHNCSVQICAgIfAhkiAAAAAlwSFlz\\\n",
              "AAALEgAACxIB0t1+/AAAADh0RVh0U29mdHdhcmUAbWF0cGxvdGxpYiB2ZXJzaW9uMy4yLjIsIGh0\\\n",
              "dHA6Ly9tYXRwbG90bGliLm9yZy+WH4yJAAAYb0lEQVR4nO3dcUzV973/8depRBPS9sd6KsoBsyMe\\\n",
              "DkMUXYu45S4dZ0q7VQNanWXxJqwaTm+2GWKTbv6x5JxzUwdZstgmc1kOcx3ZHyVr08EiG0YrLMti\\\n",
              "405T651cPayDBDhI8Oi5W0NVpN/fH+aceoZadRy+53N4PhIT+XwP+P4myjPf7/nw1WFZliUAAAzz\\\n",
              "kN0DAADwIAgYAMBIBAwAYCQCBgAwEgEDABiJgAEAjETAAABGImAAACMRMACAkQgYAMBIBAwAYCQC\\\n",
              "BgAwEgEDABiJgAEAjETAAABGImAAACMRMACAkQgYAMBIBAwAYCQCBgAwEgEDABiJgAEAjETAAABG\\\n",
              "ImAAACMRMACAkQgYAMBIBAwAYCQCBgAwEgEDABiJgAEAjETAAABGImAAACMRMACAkQgYAMBIeXYP\\\n",
              "kCmPP/643G633WMAgFGGh4d16dIlu8e4JzkbMLfbrUgkYvcYAGCU6upqu0e4Z9xCRJp4PH5f6wBg\\\n",
              "FwKGlGAwqKqqKkWj0bT1aDSqqqoqBYNBewYDgNsgYJB0M16hUEixWEw+ny8VsWg0Kp/Pp1gsplAo\\\n",
              "RMQAZA0ChlS8kpIR6+npScUriYgByBYEbIGLx+Nqb29PW9umbZqKTWnr1q2aik1pm7alHW9vb+c9\\\n",
              "MQC2I2ALnNPpVF9fn1wul6Sb8WpRiw7pkNxy65AOqUUtqYi5XC719fXJ6XTaOTYAEDBIXq83FbF+\\\n",
              "9WtYw3LLrdf1utxya1jD6ld/Kl5er9fukQGAgOEmr9ercDishBIKKZR2LKSQEkooHA4TLwBZg4BB\\\n",
              "0s3dhn6/XwUqUECBtGMBBVSgAvn9/llb7AHALgQMaVvla1Wbum34gl5I3U6sVe2sLfYAYKecfZQU\\\n",
              "7k08Hk/bKt+lLklSv/qVUEL7tV+1qk2tJyN29uxZNnIAsBVXYAuc0+lUc3Nz2lqXupTvytfRo0eV\\\n",
              "78pPxSupubmZeAH3gUe0ZQYBg4LBoAKBT9/3Su423LJlS9oWe0kKBAL8IDNwH3hEWwZZOerJJ5+0\\\n",
              "e4TsEnj0018fXbr9SwIBy+VyWRcuXEhbv3DhguVyuaxAIDAPgwK5IxAIWJIsSWn/tpL/ppLHsunf\\\n",
              "lknfOx2WZVn2JjQzqqur+e9UbhX8f5/+vu6/pf9oue3L4vH4bW8P3mkdwO396yPapJt3N8LhsPx+\\\n",
              "f9oj2qTsubth0vdObiEuROv/846H7hQp4gXcOx7RNj/YhbhQBP/P7gmABSP5iLbkDt/kI9oa1KCQ\\\n",
              "QgooILfckm5umuIRbQ8mq67Arl69qpqaGq1bt06VlZWpjQVDQ0PauHGjPB6Pnn/+eV2/ft3mSQHg\\\n",
              "7nhEW+ZlVcCWLFmikydP6oMPPtCZM2fU29urd999Vz/4wQ+0f/9+/e1vf9PnPvc5HTlyxO5RAeAz\\\n",
              "8Yi2zMqqgDkcDj388MOSpOnpaU1PT8vhcOjkyZPauXOnJKmpqUldXV13+zIAkBV4RFtmZVXAJGlm\\\n",
              "Zkbr169XYWGh6urqtGrVKhUUFCgv7+bbdSUlJRobG7N5SgC4Ox7RlnlZt4lj0aJFOnPmjBKJhLZv\\\n",
              "367z58/f8+eGw2GFw2FJ0uTkZKZGBIC74hFt8yPrrsCSCgoK5PP5dOrUKSUSCd24cUOSNDo6quLi\\\n",
              "4tt+jt/vVyQSUSQS0dKlS+dzXABI4RFt8yOrAjY5OalEIiFJ+vjjj3X8+HFVVFTI5/PprbfekiR1\\\n",
              "dHSooaHBzjEBLHDuAz2pX3fCI9oyL6tuIY6Pj6upqUkzMzP65JNPtGvXLm3dulWrV69WY2OjfvjD\\\n",
              "H+qLX/yi9u7da/eoAPCZklFqb29P2yqf3GLv8/nU3NxMvB4Qj5ICgPt065XXcNuWz3y9SY9oM+l7\\\n",
              "Z1ZdgQGACe4lWrfiEW2ZkVXvgQEAcK8IGADASAQMAGAkAgYAMBIBAwAYiYABAIxEwAAARiJgAAAj\\\n",
              "ETAAgJEIGADASAQMAGAkAgYAMBIB+zfE4/H7WgcAzB0C9oCCwaCqqqoUjUbT1qPRqKqqqvj/fQAg\\\n",
              "wwjYAwgGgwqFQorFYvL5fKmIRaNR+Xw+xWIxhUIhIgYAGUTA7lMyXknJiPX09KTilUTEACBzCNh9\\\n",
              "iMfjam9vT1vbpm2aik1p69atmopNaZu2pR1vb2/nPTEAyAACdh+cTqf6+vrkcrkk3YxXi1p0SIfk\\\n",
              "lluHdEgtaklFzOVyqa+vj/91FQAygIDdJ6/Xm4pYv/o1rGG55dbrel1uuTWsYfWrPxUvr9dr98gA\\\n",
              "kJMI2APwer0Kh8NKKKGQQmnHQgopoYTC4TDxAoAMImAPIBqNyu/3q0AFCiiQdiyggApUIL/fP2uL\\\n",
              "PQBg7hCw+3TrVvla1aZuG76gF1K3E2tVO2uLPQBgbuXZPYBJ4vF42lb5LnVJkvrVr4QS2q/9qlVt\\\n",
              "aj0ZsbNnz7KRAwDmWFZdgY2MjMjn82n16tWqrKzUa6+9Jkm6fPmy6urqVFZWprq6Ol25ciVjM/zv\\\n",
              "FypSvy5849m0Y06nU83NzWlrXepSvitfR48eVb4rPxWvpObmZuIFABmQVQHLy8vTT37yEw0MDOjd\\\n",
              "d9/V4cOHNTAwoLa2Nm3atEmDg4PatGmT2tra5mWeT4aGZq0Fg0EFAp++75Xcbbhly5a0LfaSFAgE\\\n",
              "+EFmAMiQrApYUVGRnnjiCUnSI488ooqKCo2Njam7u1tNTU2SpKamJnV1dd3ty2RcMmL/ulX+1i32\\\n",
              "xAsAMitr3wMbHh7W+++/r40bN2piYkJFRUWSpOXLl2tiYmJeZnho5co7HgsGg9q3b9+s24Ner5f3\\\n",
              "vABgHmRlwD766CPt2LFDr776qh599NG0Yw6HQw6H47afFw6HFQ6HJUmTk5MP9GdXnP/fe37tnSJF\\\n",
              "vAAg87LqFqIkTU9Pa8eOHdq9e7eee+45SdKyZcs0Pj4uSRofH1dhYeFtP9fv9ysSiSgSiWjp0qXz\\\n",
              "NjMAYP5lVcAsy9LevXtVUVGhl156KbVeX1+vjo4OSVJHR4caGhrsGhEAkCWy6hbin//8Z/3617/W\\\n",
              "2rVrtX79eknSj370Ix04cEC7du3SkSNH9PnPf16/+c1vbJ4UAGC3rArYV77yFVmWddtj77zzzjxP\\\n",
              "AwDIZll1CxEAgHtFwAAARiJgAAAjETAAgJEIGADASAQMAGAkAgYAMBIBAwAYiYABAIxEwAAARiJg\\\n",
              "AAAjETAAgJEIGADASAQMAGAkAgYAMBIBAwAYiYABAIxEwAAARiJgAAAjETAAgJEIGADASAQMAGAk\\\n",
              "AgYAMBIBAwAYKesCtmfPHhUWFmrNmjWptcuXL6uurk5lZWWqq6vTlStXbJxwYYnH4/e1DgDzJesC\\\n",
              "9u1vf1u9vb1pa21tbdq0aZMGBwe1adMmtbW12TTdwhIMBlVVVaVoNJq2Ho1GVVVVpWAwaM9gAKAs\\\n",
              "DNhTTz2lxx57LG2tu7tbTU1NkqSmpiZ1dXXZMdqCEgwGFQqFFIvF5PP5UhGLRqPy+XyKxWIKhUJE\\\n",
              "DIBtsi5gtzMxMaGioiJJ0vLlyzUxMWHzRLktGa+kZMR6enpS8UoiYgDsYkTAbuVwOORwOG57LBwO\\\n",
              "q7q6WtXV1ZqcnJznyXJDPB5Xe3t72to2bdNUbEpbt27VVGxK27Qt7Xh7ezvviQGYd0YEbNmyZRof\\\n",
              "H5ckjY+Pq7Cw8Lav8/v9ikQiikQiWrp06XyOmDOcTqf6+vrkcrkk3YxXi1p0SIfklluHdEgtaklF\\\n",
              "zOVyqa+vT06n086xASxARgSsvr5eHR0dkqSOjg41NDTYPFFu83q9qYj1q1/DGpZbbr2u1+WWW8Ma\\\n",
              "Vr/6U/Hyer12jwxgAcq6gH3rW9/Sl7/8ZV24cEElJSU6cuSIDhw4oOPHj6usrEwnTpzQgQMH7B4z\\\n",
              "53m9XoXDYSWUUEihtGMhhZRQQuFwmHgBsI3DsizL7iEyobq6WpFIxO4xjJXcbTgVm0rdPkwa1rD2\\\n",
              "a7/yXflcgQE5xqTvnVl3BQb73bpVvla1qduGL+iF1O3EWtXO2mIPAPMpz+4BkF3i8XjaVvku3fyZ\\\n",
              "u371K6GE9mu/alWbWk9G7OzZs2zkADCvuAJDGqfTqebm5rS1LnUp35Wvo0ePKt+Vn4pXUnNzM/EC\\\n",
              "MO8IGGYJBoMKBAKpj5O7Dbds2ZK2xV6SAoEAP8gMwBbcQlyA1nasTf3+f5r+57avSUapvb09baNG\\\n",
              "cou9z+dTc3Mz8QJgGwKGOwoGg9q3b9+s24Ner5f3vADYjluIuKs7RYp4AbAbV2AL0J1uGwKASbgC\\\n",
              "AwAYiYABAIxEwAAARiJgAAAjETAAgJEIGADASAQMAGAkAgYAMBIBAwAYiYABAIxEwAAARiJgAAAj\\\n",
              "ETAAgJEIGADASAQMAGAkAgYAMJIxAevt7VV5ebk8Ho/a2trsHgcAYDMjAjYzM6Pvfve7+sMf/qCB\\\n",
              "gQG98cYbGhgYsHssAICNjAjY6dOn5fF4VFpaqsWLF6uxsVHd3d12jwUAsJERARsbG9OKFStSH5eU\\\n",
              "lGhsbMzGiQAAdsuze4C5FA6HFQ6HJUmTk5M2TwMAyCQjrsCKi4s1MjKS+nh0dFTFxcWzXuf3+xWJ\\\n",
              "RBSJRLR06dL5HBEAMM+MCNiGDRs0ODiooaEhXb9+XZ2dnaqvr7d7LACAjYy4hZiXl6ef/vSneuaZ\\\n",
              "ZzQzM6M9e/aosrLS7rEAADYyImCS9Oyzz+rZZ5+1ewwAQJYw4hYiAAD/ioABAIxEwAAARiJgAAAj\\\n",
              "ETAAgJEIGADASAQMAGAkAgYAMBIBAwAYiYABAIxEwAAARiJgAAAjETAAgJEIGADASAQMAGAkAgYA\\\n",
              "MBIBAwAYiYABAIxEwAAARiJgAAAjETAAgJEIGADASAQMAGAkAgYAMFLWBOzNN99UZWWlHnroIUUi\\\n",
              "kbRjra2t8ng8Ki8v17Fjx2yaEACQTfLsHiBpzZo1evvtt/Xiiy+mrQ8MDKizs1Pnzp1TLBbT5s2b\\\n",
              "FY1GtWjRIpsmBQBkg6y5AquoqFB5efms9e7ubjU2NmrJkiVauXKlPB6PTp8+bcOEAIBskjUBu5Ox\\\n",
              "sTGtWLEi9XFJSYnGxsZsnAgAkA3m9Rbi5s2bdfHixVnrBw8eVENDw7/99cPhsMLhsCRpcnLy3/56\\\n",
              "AIDsNa8BO3HixH1/TnFxsUZGRlIfj46Oqri4+Lav9fv98vv9kqTq6uoHGxIAYISsv4VYX1+vzs5O\\\n",
              "Xbt2TUNDQxocHFRNTY3dYwEAbJY1Afvtb3+rkpISnTp1Slu2bNEzzzwjSaqsrNSuXbu0evVqff3r\\\n",
              "X9fhw4fZgQgAkMOyLMvuITKhurp61s+TAQDuzqTvnVlzBQYAwP0gYAAAIxEwAICRCBgAwEgEDABg\\\n",
              "JAIGADASAQMAGImAAQCMRMAAAEYiYAAAIxEwAICRCBgAwEgEDABgJAIGADASAQMAGImAAQCMRMAA\\\n",
              "AEYiYAAAIxEwAICRCBgAwEgEDABgJAIGADASAQMAGImAAQCMlDUBe/nll/WFL3xBVVVV2r59uxKJ\\\n",
              "ROpYa2urPB6PysvLdezYMRunBABki6wJWF1dnf7617/q7Nmz8nq9am1tlSQNDAyos7NT586dU29v\\\n",
              "r77zne9oZmbG5mkBAHbLmoA9/fTTysvLkyR96Utf0ujoqCSpu7tbjY2NWrJkiVauXCmPx6PTp0/b\\\n",
              "OSoAIAtkTcBu9ctf/lLf+MY3JEljY2NasWJF6lhJSYnGxsbsGg0AkCXy5vMP27x5sy5evDhr/eDB\\\n",
              "g2poaEj9Pi8vT7t3777vrx8OhxUOhyVJk5OT/96wAICsNq8BO3HixF2P/+pXv9LRo0f1zjvvyOFw\\\n",
              "SJKKi4s1MjKSes3o6KiKi4tv+/l+v19+v1+SVF1dPUdTAwCyUdbcQuzt7dWPf/xj/e53v1N+fn5q\\\n",
              "vb6+Xp2dnbp27ZqGhoY0ODiompoaGycFAGSDeb0Cu5vvfe97unbtmurq6iTd3Mjx85//XJWVldq1\\\n",
              "a5dWr16tvLw8HT58WIsWLbJ5WgCA3RyWZVl2D5EJ1dXVikQido8BAEYx6Xtn1txCBAA8uHg8fl/r\\\n",
              "uYCAAYDhgsGgqqqqFI1G09aj0aiqqqoUDAbtGSzDCBgAGCwYDCoUCikWi8nn86UiFo1G5fP5FIvF\\\n",
              "FAqFcjJiBAwADJWMV1IyYj09Pal4JeVixAgYABgoHo+rvb09bW2btmkqNqWtW7dqKjalbdqWdry9\\\n",
              "vT2n3hMjYABgIKfTqb6+PrlcLkk349WiFh3SIbnl1iEdUotaUhFzuVzq6+uT0+m0c+w5RcAAwFBe\\\n",
              "rzcVsX71a1jDcsut1/W63HJrWMPqV38qXl6v1+6R5xQBAwCDeb1ehcNhJZRQSKG0YyGFlFBC4XA4\\\n",
              "5+IlETAAMFo0GpXf71eBChRQIO1YQAEVqEB+v3/WFvtcQMAAwFC3bpWvVW3qtuELeiF1O7FWtbO2\\\n",
              "2OeKrHkWIgDg3sXj8bSt8l3qkiT1q18JJbRf+1Wr2tR6MmJnz57NmY0cXIEBgIGcTqeam5vT1rrU\\\n",
              "pXxXvo4ePap8V34qXknNzc05Ey+JgAGAsYLBoAKBT9/3Su423LJlS9oWe0kKBAI594PM3EIEgCx0\\\n",
              "+L9Opn7/3Z9/7Y6vS0apvb09bat8cou9z+dTc3NzzsVLImAAYLxgMKh9+/bNuj3o9Xpz6j2vf8Ut\\\n",
              "RADIAXeKVK7GS+IKDACy0t1uG+ImrsAAAEYiYAAAIxEwAICRCBgAwEgEDABgJAIGADASAQMAGMlh\\\n",
              "WZZl9xCZ8Pjjj8vtdts9RsZNTk5q6dKldo8xrzjnhYFztsfw8LAuXbpk6wz3KmcDtlBUV1crEonY\\\n",
              "Pca84pwXBs4Zn4VbiAAAIxEwAICRFgVz8Rn7C8yTTz5p9wjzjnNeGDhn3A3vgQEAjMQtRACAkQiY\\\n",
              "od58801VVlbqoYcemrVrqbW1VR6PR+Xl5Tp27JhNE2ZGb2+vysvL5fF41NbWZvc4GbFnzx4VFhZq\\\n",
              "zZo1qbXLly+rrq5OZWVlqqur05UrV2yccO6NjIzI5/Np9erVqqys1GuvvSYpt8/76tWrqqmp0bp1\\\n",
              "61RZWalAICBJGhoa0saNG+XxePT888/r+vXrNk+axSwYaWBgwDp//rz11a9+1frLX/6SWj937pxV\\\n",
              "VVVlXb161fr73/9ulZaWWjdu3LBx0rlz48YNq7S01Prwww+ta9euWVVVVda5c+fsHmvO/fGPf7Te\\\n",
              "e+89q7KyMrX28ssvW62trZZlWVZra6v1/e9/367xMiIWi1nvvfeeZVmW9Y9//MMqKyuzzp07l9Pn\\\n",
              "/cknn1j//Oc/LcuyrOvXr1s1NTXWqVOnrG9+85vWG2+8YVmWZb344ovWz372MzvHzGpcgRmqoqJC\\\n",
              "5eXls9a7u7vV2NioJUuWaOXKlfJ4PDp9+rQNE86906dPy+PxqLS0VIsXL1ZjY6O6u7vtHmvOPfXU\\\n",
              "U3rsscfS1rq7u9XU1CRJampqUldXlx2jZUxRUZGeeOIJSdIjjzyiiooKjY2N5fR5OxwOPfzww5Kk\\\n",
              "6elpTU9Py+Fw6OTJk9q5c6ek3DvnuUbAcszY2JhWrFiR+rikpERjY2M2TjR3cvncPsvExISKiook\\\n",
              "ScuXL9fExITNE2XO8PCw3n//fW3cuDHnz3tmZkbr169XYWGh6urqtGrVKhUUFCgvL0/Swvo7/iDy\\\n",
              "7B4Ad7Z582ZdvHhx1vrBgwfV0NBgw0TIBg6HQw6Hw+4xMuKjjz7Sjh079Oqrr+rRRx9NO5aL571o\\\n",
              "0SKdOXNGiURC27dv1/nz5+0eySgELIudOHHivj+nuLhYIyMjqY9HR0dVXFw8l2PZJpfP7bMsW7ZM\\\n",
              "4+PjKioq0vj4uAoLC+0eac5NT09rx44d2r17t5577jlJC+O8JamgoEA+n0+nTp1SIpHQjRs3lJeX\\\n",
              "t6D+jj8IbiHmmPr6enV2duratWsaGhrS4OCgampq7B5rTmzYsEGDg4MaGhrS9evX1dnZqfr6ervH\\\n",
              "mhf19fXq6OiQJHV0dOTcFbhlWdq7d68qKir00ksvpdZz+bwnJyeVSCQkSR9//LGOHz+uiooK+Xw+\\\n",
              "vfXWW5Jy75znnN27SPBg3n77bau4uNhavHixVVhYaD399NOpY6+88opVWlpqeb1e6/e//72NU869\\\n",
              "np4eq6yszCotLbVeeeUVu8fJiMbGRmv58uVWXl6eVVxcbP3iF7+wLl26ZH3ta1+zPB6PtWnTJise\\\n",
              "j9s95pz605/+ZEmy1q5da61bt85at26d1dPTk9Pn/cEHH1jr16+31q5da1VWVlqhUMiyLMv68MMP\\\n",
              "rQ0bNlirVq2ydu7caV29etXmSbMXT+IAABiJW4gAACMRMACAkQgYAMBIBAwAYCQCBgAwEgEDABiJ\\\n",
              "gAEAjETAAABGImAAACMRMACAkQgYAMBIBAwAYCQCBgAwEgEDABiJgAEAjETAAABGImAAACMRMACA\\\n",
              "kQgYAMBIBAwAYKT/D3+u6BeMQus4AAAAAElFTkSuQmCC\\\n",
              "\"\n",
              "  frames[3] = \"data:image/png;base64,iVBORw0KGgoAAAANSUhEUgAAAbAAAAEgCAYAAADVKCZpAAAABHNCSVQICAgIfAhkiAAAAAlwSFlz\\\n",
              "AAALEgAACxIB0t1+/AAAADh0RVh0U29mdHdhcmUAbWF0cGxvdGxpYiB2ZXJzaW9uMy4yLjIsIGh0\\\n",
              "dHA6Ly9tYXRwbG90bGliLm9yZy+WH4yJAAAYY0lEQVR4nO3dcUxV9/3/8detRBPS9kdLRb3gdsXL\\\n",
              "ZYiiaxG3ZHHcKe1WDWh1lsU/WDXc/rKtMTbp5h9L7r1JHWTJYpvMZbnMdWR/lKxNB4tsGK2wLIuN\\\n",
              "u82s38pXL+sgAS4avHp/W0NVpOf3h7l33qJWHJdzPpfnIzGRz7ng+yTKM+fcD0eXZVmWAAAwzEN2\\\n",
              "DwAAwIMgYAAAIxEwAICRCBgAwEgEDABgJAIGADASAQMAGImAAQCMRMAAAEYiYAAAIxEwAICRCBgA\\\n",
              "wEgEDABgJAIGADASAQMAGImAAQCMRMAAAEYiYAAAIxEwAICRCBgAwEgEDABgJAIGADASAQMAGImA\\\n",
              "AQCMRMAAAEYiYAAAIxEwAICRCBgAwEgEDABgJAIGADASAQMAGImAAQCMRMAAAEYiYAAAI+XZPUC2\\\n",
              "PPHEE/J4PHaPAQBGGRoa0uXLl+0e477kbMA8Ho+i0ajdYwCAUaqrq+0e4b5xCxEZEonEjNYBwC4E\\\n",
              "DGmhUEhVVVWKxWIZ67FYTFVVVQqFQvYMBgB3QMAg6Va8wuGw4vG4/H5/OmKxWEx+v1/xeFzhcJiI\\\n",
              "AXAMAoZ0vFJSEevu7k7HK4WIAXAKAjbPJRIJtbW1Zaxt0zZNxCe0detWTcQntE3bMo63tbXxnhgA\\\n",
              "2xGwea6wsFC9vb1yu92SbsVrn/bpkA7JI48O6ZD2aV86Ym63W729vSosLLRzbAAgYJB8Pl86Yn3q\\\n",
              "05CG5JFHb+gNeeTRkIbUp750vHw+n90jAwABwy0+n0+RSERJJRVWOONYWGEllVQkEiFeAByDgEHS\\\n",
              "rd2GgUBABSpQUMGMY0EFVaACBQKBaVvsAcAuBAwZW+VrVZu+bfiCXkjfTqxV7bQt9gBgp5x9lBTu\\\n",
              "TyKRyNgq36lOSVKf+pRUUvu1X7WqTa+nInb27Fk2cgCwFVdg81xhYaGam5sz1jrVqXx3vo4ePap8\\\n",
              "d346XinNzc3EC5gBHtGWHQQMCoVCCgb/875Xarfhli1bMrbYS1IwGOQHmYEZ4BFtWWTlqKeeesru\\\n",
              "EZwl+Oh/ft3tJcGg5Xa7rQsXLmSsX7hwwXK73VYwGMzykEBuCQaDliRLUsa/rdS/qdQxJ/3bMul7\\\n",
              "p8uyLMvehGZHdXU1/53K7UL/57bf/7+7viyRSNzx9uDd1gHc2Wcf0SbdursRiUQUCAQyHtEmOefu\\\n",
              "hknfO7mFiAx3ixTxAu4fj2ibG+xCnC/ucdUFYHalHtGW2uGbekRbgxoUVlhBBeWRR9KtTVM8ou3B\\\n",
              "OOoK7Nq1a6qpqdHatWtVWVmZ3lgwODioDRs2yOv16vnnn9eNGzdsnhQA7o1HtGWfowK2aNEinTx5\\\n",
              "Uh988IHOnDmjnp4evffee/rRj36k/fv36x//+Icee+wxHTlyxO5RAeBz8Yi27HJUwFwulx5++GFJ\\\n",
              "0uTkpCYnJ+VyuXTy5Ent3LlTktTU1KTOzs57fRkAcAQe0ZZdjgqYJE1NTWndunUqKipSXV2dVq5c\\\n",
              "qYKCAuXl3Xq7rqSkRKOjozZPCQD3xiPass9xmzgWLFigM2fOKJlMavv27Tp//vx9f24kElEkEpEk\\\n",
              "jY+PZ2tEALgnHtE2Nxx3BZZSUFAgv9+vU6dOKZlM6ubNm5KkkZERFRcX3/FzAoGAotGootGoFi9e\\\n",
              "PJfjAkAaj2ibG44K2Pj4uJLJpCTpk08+0fHjx1VRUSG/36+3335bktTe3q6GhgY7xwQwz3kOdKd/\\\n",
              "3Q2PaMs+R91CHBsbU1NTk6ampvTpp59q165d2rp1q1atWqXGxkb9+Mc/1pe//GXt3bvX7lEB4HOl\\\n",
              "otTW1paxVT61xd7v96u5uZl4PSAeJQUAM3T7lddQ65bPfb1Jj2gz6Xuno67AAMAE9xOt2/GItuxw\\\n",
              "1HtgAADcLwIGADASAQMAGImAAQCMRMAAAEYiYAAAIxEwAICRCBgAwEgEDABgJAIGADASAQMAGImA\\\n",
              "AQCMRMAeUCKRmNE6AGB2EbAHEAqFVFVVpVgslrEei8VUVVXF/+0DAHOAgM1QKBRSOBxWPB6X3+9P\\\n",
              "RywWi8nv9ysejyscDhMxAMgyAjYDqXilpCLW3d2djlcKEQOA7CJg9ymRSKitrS1jbZu2aSI+oa1b\\\n",
              "t2oiPqFt2pZxvK2tjffEACBLCNh9KiwsVG9vr9xut6Rb8dqnfTqkQ/LIo0M6pH3al46Y2+1Wb28v\\\n",
              "/+MqAGQJAZsBn8+Xjlif+jSkIXnk0Rt6Qx55NKQh9akvHS+fz2f3yACQswjYDPl8PkUiESWVVFjh\\\n",
              "jGNhhZVUUpFIhHgBQJYRsBmKxWIKBAIqUIGCCmYcCyqoAhUoEAhM22IPAJhdBGwGbt8qX6va9G3D\\\n",
              "F/RC+nZirWqnbbEHAMy+PLsHMEUikcjYKt+pTklSn/qUVFL7tV+1qk2vpyJ29uxZNnIAQBY46gps\\\n",
              "eHhYfr9fq1atUmVlpV5//XVJ0pUrV1RXV6eysjLV1dXp6tWrcz5bYWGhmpubM9Y61al8d76OHj2q\\\n",
              "fHd+Ol4pzc3NxAsAssRRAcvLy9PPfvYz9ff367333tPhw4fV39+v1tZWbdq0SQMDA9q0aZNaW1uz\\\n",
              "NsP/fqki/euzQqGQgsH/vO+V2m24ZcuWjC32khQMBvlBZgDIIkcFbNmyZXryySclSY888ogqKio0\\\n",
              "Ojqqrq4uNTU1SZKamprU2dl5ry+TVamIfXar/O1b7IkXAGSfy7Isy+4h7mRoaEgbN27Uhx9+qC98\\\n",
              "4QtKJpOSJMuy9Nhjj6U/vpvq6mpFo9EZ/7m3X3lVnP/fu74ukUjc8fbg3dYBwAQP+r3TDo7cxPHx\\\n",
              "xx9rx44deu211/Too49mHHO5XHK5XHf8vEgkokgkIkkaHx9/oD/7XtG63d0iRbwAYG446haiJE1O\\\n",
              "TmrHjh3avXu3nnvuOUnSkiVLNDY2JkkaGxtTUVHRHT83EAgoGo0qGo1q8eLFczYzAGDuOSpglmVp\\\n",
              "7969qqio0Msvv5xer6+vV3t7uySpvb1dDQ0Ndo0IAHAIR91C/Otf/6rf/va3WrNmjdatWydJ+slP\\\n",
              "fqIDBw5o165dOnLkiL74xS/qd7/7nc2TAgDs5qiAfe1rX9Pd9pS8++67czwNAMDJHHULEQCA+0XA\\\n",
              "AABGImAAACMRMACAkQgYAMBIBAwAYCQCBgAwEgEDABiJgAEAjETAAABGImAAACMRMACAkQgYAMBI\\\n",
              "BAwAYCQCBgAwEgEDABiJgAEAjETAAABGImAAACMRMACAkQgYAMBIBAwAYCQCBgAwEgEDABjJcQHb\\\n",
              "s2ePioqKtHr16vTalStXVFdXp7KyMtXV1enq1as2Tji/JBKJGa0DwFxxXMC++93vqqenJ2OttbVV\\\n",
              "mzZt0sDAgDZt2qTW1labpptfQqGQqqqqFIvFMtZjsZiqqqoUCoXsGQwA5MCAbdy4UY8//njGWldX\\\n",
              "l5qamiRJTU1N6uzstGO0eSUUCikcDisej8vv96cjFovF5Pf7FY/HFQ6HiRgA2zguYHdy6dIlLVu2\\\n",
              "TJK0dOlSXbp0yeaJclsqXimpiHV3d6fjlULEANjFiIDdzuVyyeVy3fFYJBJRdXW1qqurNT4+PseT\\\n",
              "5YZEIqG2traMtW3apon4hLZu3aqJ+IS2aVvG8ba2Nt4TAzDnjAjYkiVLNDY2JkkaGxtTUVHRHV8X\\\n",
              "CAQUjUYVjUa1ePHiuRwxZxQWFqq3t1dut1vSrXjt0z4d0iF55NEhHdI+7UtHzO12q7e3V4WFhXaO\\\n",
              "DWAeMiJg9fX1am9vlyS1t7eroaHB5olym8/nS0esT30a0pA88ugNvSGPPBrSkPrUl46Xz+eze2QA\\\n",
              "85DjAvad73xHX/3qV3XhwgWVlJToyJEjOnDggI4fP66ysjKdOHFCBw4csHvMnOfz+RSJRJRUUmGF\\\n",
              "M46FFVZSSUUiEeIFwDYuy7Isu4fIhurqakWjUbvHMFZqt+FEfCJ9+zBlSEPar/3Kd+dzBQbkGJO+\\\n",
              "dzruCgz2u32rfK1q07cNX9AL6duJtaqdtsUeAOZSnt0DwFkSiUTGVvlO3fqZuz71Kamk9mu/alWb\\\n",
              "Xk9F7OzZs2zkADCnuAJDhsLCQjU3N2esdapT+e58HT16VPnu/HS8Upqbm4kXgDlHwDBNKBRSMBhM\\\n",
              "f5zabbhly5aMLfaSFAwG+UFmALbgFuI8tKZ9Tfr3/9P0P3d8TSpKbW1tGRs1Ulvs/X6/mpubiRcA\\\n",
              "2xAw3FUoFNJLL7007fagz+fjPS8AtuMWIu7pbpEiXgDsxhXYPHS324YAYBKuwAAARiJgAAAjETAA\\\n",
              "gJEIGADASAQMAGAkAgYAMBIBAwAYiYABAIxEwAAARiJgAAAjETAAgJEIGADASAQMAGAkAgYAMBIB\\\n",
              "AwAYiYABAIxkTMB6enpUXl4ur9er1tZWu8cBANjMiIBNTU3p+9//vv70pz+pv79fb775pvr7++0e\\\n",
              "CwBgIyMCdvr0aXm9XpWWlmrhwoVqbGxUV1eX3WMBAGxkRMBGR0e1fPny9MclJSUaHR21cSIAgN3y\\\n",
              "7B5gNkUiEUUiEUnS+Pi4zdMAALLJiCuw4uJiDQ8Ppz8eGRlRcXHxtNcFAgFFo1FFo1EtXrx4LkcE\\\n",
              "AMwxIwK2fv16DQwMaHBwUDdu3FBHR4fq6+vtHgsAYCMjbiHm5eXp5z//uZ555hlNTU1pz549qqys\\\n",
              "tHssAICNjAiYJD377LN69tln7R4DAOAQRtxCBADgswgYAMBIBAwAYCQCBgAwEgEDABiJgAEAjETA\\\n",
              "AABGImAAACMRMACAkQgYAMBIBAwAYCQCBgAwEgEDABiJgAEAjETAAABGImAAACMRMACAkQgYAMBI\\\n",
              "BAwAYCQCBgAwEgEDABiJgAEAjETAAABGImAAACM5JmBvvfWWKisr9dBDDykajWYca2lpkdfrVXl5\\\n",
              "uY4dO2bThAAAJ8mze4CU1atX65133tGLL76Ysd7f36+Ojg6dO3dO8XhcmzdvViwW04IFC2yaFADg\\\n",
              "BI65AquoqFB5efm09a6uLjU2NmrRokVasWKFvF6vTp8+bcOEAAAncUzA7mZ0dFTLly9Pf1xSUqLR\\\n",
              "0VEbJwIAOMGc3kLcvHmzLl68OG394MGDamho+K+/fiQSUSQSkSSNj4//118PAOBccxqwEydOzPhz\\\n",
              "iouLNTw8nP54ZGRExcXFd3xtIBBQIBCQJFVXVz/YkAAAIzj+FmJ9fb06Ojp0/fp1DQ4OamBgQDU1\\\n",
              "NXaPBQCwmWMC9vvf/14lJSU6deqUtmzZomeeeUaSVFlZqV27dmnVqlX65je/qcOHD7MDEQAgl2VZ\\\n",
              "lt1DZEN1dfW0nycDANybSd87HXMFBgDATBAwAICRCBgAwEgEDABgJAIGADASAQMAGImAAQCMRMAA\\\n",
              "AEYiYAAAIxEwAICRCBgAwEgEDABgJAIGADASAQMAGImAAQCMRMAAAEYiYAAAIxEwAICRCBgAwEgE\\\n",
              "DABgJAIGADASAQMAGImAAQCMRMAAAEZyTMBeeeUVfelLX1JVVZW2b9+uZDKZPtbS0iKv16vy8nId\\\n",
              "O3bMxikBAE7hmIDV1dXpww8/1NmzZ+Xz+dTS0iJJ6u/vV0dHh86dO6eenh5973vf09TUlM3TAgDs\\\n",
              "5piAPf3008rLy5MkfeUrX9HIyIgkqaurS42NjVq0aJFWrFghr9er06dP2zkqAMABHBOw2/3617/W\\\n",
              "t771LUnS6Oioli9fnj5WUlKi0dFRu0YDADhE3lz+YZs3b9bFixenrR88eFANDQ3p3+fl5Wn37t0z\\\n",
              "/vqRSESRSESSND4+/t8NCwBwtDkN2IkTJ+55/De/+Y2OHj2qd999Vy6XS5JUXFys4eHh9GtGRkZU\\\n",
              "XFx8x88PBAIKBAKSpOrq6lmaGgDgRI65hdjT06Of/vSn+sMf/qD8/Pz0en19vTo6OnT9+nUNDg5q\\\n",
              "YGBANTU1Nk4KAHCCOb0Cu5cf/OAHun79uurq6iTd2sjxy1/+UpWVldq1a5dWrVqlvLw8HT58WAsW\\\n",
              "LLB5WgCA3VyWZVl2D5EN1dXVikajdo8BAEYx6XunY24hAgAeXCKRmNF6LiBgAGC4UCikqqoqxWKx\\\n",
              "jPVYLKaqqiqFQiF7BssyAgYABguFQgqHw4rH4/L7/emIxWIx+f1+xeNxhcPhnIwYAQMAQ6XilZKK\\\n",
              "WHd3dzpeKbkYMQIGAAZKJBJqa2vLWNumbZqIT2jr1q2aiE9om7ZlHG9ra8up98QIGAAYqLCwUL29\\\n",
              "vXK73ZJuxWuf9umQDskjjw7pkPZpXzpibrdbvb29KiwstHPsWUXAAMBQPp8vHbE+9WlIQ/LIozf0\\\n",
              "hjzyaEhD6lNfOl4+n8/ukWcVAQMAg/l8PkUiESWVVFjhjGNhhZVUUpFIJOfiJREwADBaLBZTIBBQ\\\n",
              "gQoUVDDjWFBBFahAgUBg2hb7XEDAAMBQt2+Vr1Vt+rbhC3ohfTuxVrXTttjnCsc8CxEAcP8SiUTG\\\n",
              "VvlOdUqS+tSnpJLar/2qVW16PRWxs2fP5sxGDq7AAMBAhYWFam5uzljrVKfy3fk6evSo8t356Xil\\\n",
              "NDc350y8JAIGAMYKhUIKBv/zvldqt+GWLVsytthLUjAYzLkfZOYWIgA40OH/ezL9++//8ht3fV0q\\\n",
              "Sm1tbRlb5VNb7P1+v5qbm3MuXhIBAwDjhUIhvfTSS9NuD/p8vpx6z+uzuIUIADngbpHK1XhJXIEB\\\n",
              "gCPd67YhbuEKDABgJAIGADASAQMAGImAAQCMRMAAAEYiYAAAIxEwAICRXJZlWXYPkQ1PPPGEPB6P\\\n",
              "3WNk3fj4uBYvXmz3GHOKc54fOGd7DA0N6fLly7bOcL9yNmDzRXV1taLRqN1jzCnOeX7gnPF5uIUI\\\n",
              "ADASAQMAGGlBKBefsT/PPPXUU3aPMOc45/mBc8a98B4YAMBI3EIEABiJgBnqrbfeUmVlpR566KFp\\\n",
              "u5ZaWlrk9XpVXl6uY8eO2TRhdvT09Ki8vFxer1etra12j5MVe/bsUVFRkVavXp1eu3Lliurq6lRW\\\n",
              "Vqa6ujpdvXrVxgln3/DwsPx+v1atWqXKykq9/vrrknL7vK9du6aamhqtXbtWlZWVCgaDkqTBwUFt\\\n",
              "2LBBXq9Xzz//vG7cuGHzpA5mwUj9/f3W+fPnra9//evW3/72t/T6uXPnrKqqKuvatWvWP//5T6u0\\\n",
              "tNS6efOmjZPOnps3b1qlpaXWRx99ZF2/ft2qqqqyzp07Z/dYs+7Pf/6z9f7771uVlZXptVdeecVq\\\n",
              "aWmxLMuyWlparB/+8Id2jZcV8Xjcev/99y3Lsqx//etfVllZmXXu3LmcPu9PP/3U+ve//21ZlmXd\\\n",
              "uHHDqqmpsU6dOmV9+9vftt58803LsizrxRdftH7xi1/YOaajcQVmqIqKCpWXl09b7+rqUmNjoxYt\\\n",
              "WqQVK1bI6/Xq9OnTNkw4+06fPi2v16vS0lItXLhQjY2N6urqsnusWbdx40Y9/vjjGWtdXV1qamqS\\\n",
              "JDU1Namzs9OO0bJm2bJlevLJJyVJjzzyiCoqKjQ6OprT5+1yufTwww9LkiYnJzU5OSmXy6WTJ09q\\\n",
              "586dknLvnGcbAcsxo6OjWr58efrjkpISjY6O2jjR7Mnlc/s8ly5d0rJlyyRJS5cu1aVLl2yeKHuG\\\n",
              "hob097//XRs2bMj5856amtK6detUVFSkuro6rVy5UgUFBcrLy5M0v/6OP4g8uwfA3W3evFkXL16c\\\n",
              "tn7w4EE1NDTYMBGcwOVyyeVy2T1GVnz88cfasWOHXnvtNT366KMZx3LxvBcsWKAzZ84omUxq+/bt\\\n",
              "On/+vN0jGYWAOdiJEydm/DnFxcUaHh5OfzwyMqLi4uLZHMs2uXxun2fJkiUaGxvTsmXLNDY2pqKi\\\n",
              "IrtHmnWTk5PasWOHdu/ereeee07S/DhvSSooKJDf79epU6eUTCZ18+ZN5eXlzau/4w+CW4g5pr6+\\\n",
              "Xh0dHbp+/boGBwc1MDCgmpoau8eaFevXr9fAwIAGBwd148YNdXR0qL6+3u6x5kR9fb3a29slSe3t\\\n",
              "7Tl3BW5Zlvbu3auKigq9/PLL6fVcPu/x8XElk0lJ0ieffKLjx4+roqJCfr9fb7/9tqTcO+dZZ/cu\\\n",
              "EjyYd955xyouLrYWLlxoFRUVWU8//XT62KuvvmqVlpZaPp/P+uMf/2jjlLOvu7vbKisrs0pLS61X\\\n",
              "X33V7nGyorGx0Vq6dKmVl5dnFRcXW7/61a+sy5cvW9/4xjcsr9drbdq0yUokEnaPOav+8pe/WJKs\\\n",
              "NWvWWGvXrrXWrl1rdXd35/R5f/DBB9a6deusNWvWWJWVlVY4HLYsy7I++ugja/369dbKlSutnTt3\\\n",
              "WteuXbN5UufiSRwAACNxCxEAYCQCBgAwEgEDABiJgAEAjETAAABGImAAACMRMACAkQgYAMBIBAwA\\\n",
              "YCQCBgAwEgEDABiJgAEAjETAAABGImAAACMRMACAkQgYAMBIBAwAYCQCBgAwEgEDABiJgAEAjPT/\\\n",
              "AUWI81pT1wzRAAAAAElFTkSuQmCC\\\n",
              "\"\n",
              "  frames[4] = \"data:image/png;base64,iVBORw0KGgoAAAANSUhEUgAAAbAAAAEgCAYAAADVKCZpAAAABHNCSVQICAgIfAhkiAAAAAlwSFlz\\\n",
              "AAALEgAACxIB0t1+/AAAADh0RVh0U29mdHdhcmUAbWF0cGxvdGxpYiB2ZXJzaW9uMy4yLjIsIGh0\\\n",
              "dHA6Ly9tYXRwbG90bGliLm9yZy+WH4yJAAAYYklEQVR4nO3dcUzU9/3H8ddVoglp+6Oloh64nXgc\\\n",
              "QxRdi7gli+OmtFs1oNVZFv9g1XD9ZVtjbNLNP5bcXVIHWbLYJnNZjnUd2R8la9PBIhtGKyzLYuOu\\\n",
              "mXWVnx7rIAEODZ7eb2uoivT7+8Pf3byiVhzH9/s5no/ERD7fA9/fRHnm+70PX12WZVkCAMAwD9g9\\\n",
              "AAAA94OAAQCMRMAAAEYiYAAAIxEwAICRCBgAwEgEDABgJAIGADASAQMAGImAAQCMRMAAAEYiYAAA\\\n",
              "IxEwAICRCBgAwEgEDABgJAIGADASAQMAGImAAQCMRMAAAEYiYAAAIxEwAICRCBgAwEgEDABgJAIG\\\n",
              "ADASAQMAGImAAQCMRMAAAEYiYAAAIxEwAICRCBgAwEgEDABgJAIGADASAQMAGImAAQCMlGf3ANny\\\n",
              "2GOPyePx2D0GABhlaGhIly5dsnuMe5KzAfN4PIpGo3aPAQBGqa6utnuEe8YtRGRIJBIzWgcAuxAw\\\n",
              "pIVCIVVVVSkWi2Wsx2IxVVVVKRQK2TMYANwGAYOkm/EKh8OKx+Py+/3piMViMfn9fsXjcYXDYSIG\\\n",
              "wDEIGNLxSklFrLu7Ox2vFCIGwCkI2DyXSCTU1taWsbZN2zQRn9DWrVs1EZ/QNm3LON7W1sZ7YgBs\\\n",
              "R8DmucLCQvX29srtdku6Ga992qdDOiSPPDqkQ9qnfemIud1u9fb2qrCw0M6xAYCAQfL5fOmI9alP\\\n",
              "QxqSRx69rtflkUdDGlKf+tLx8vl8do8MAAQMN/l8PkUiESWVVFjhjGNhhZVUUpFIhHgBcAwCBkk3\\\n",
              "dxsGAgEVqEBBBTOOBRVUgQoUCASmbbEHALsQMGRsla9Vbfq24XN6Ln07sVa107bYA4CdcvZRUrg3\\\n",
              "iUQiY6t8pzolSX3qU1JJ7dd+1ao2vZ6K2JkzZ9jIAcBWXIHNc4WFhWpubs5Y61Sn8t35OnLkiPLd\\\n",
              "+el4pTQ3NxMvYAZ4RFt2EDAoFAopGPz3+16p3YZbtmzJ2GIvScFgkB9kBmaAR7RlkZWjnnjiCbtH\\\n",
              "cJbgw//+daeXBIOW2+22zp8/n7F+/vx5y+12W8FgMMtDArklGAxakixJGf+2Uv+mUsec9G/LpO+d\\\n",
              "LsuyLHsTmh3V1dX8dyq3Cv3XLb//3zu+LJFI3Pb24J3WAdzepx/RJt28uxGJRBQIBDIe0SY55+6G\\\n",
              "Sd87uYWIDHeKFPEC7h2PaJsb7EKcL+5y1QVgdqUe0Zba4Zt6RFuDGhRWWEEF5ZFH0s1NUzyi7f44\\\n",
              "6grs6tWrqqmp0dq1a1VZWZneWDA4OKgNGzbI6/Xq2Wef1fXr122eFADujke0ZZ+jArZo0SKdOHFC\\\n",
              "77//vk6fPq2enh69++67+sEPfqD9+/fr73//ux555BG99tprdo8KAJ+JR7Rll6MC5nK59OCDD0qS\\\n",
              "JicnNTk5KZfLpRMnTmjnzp2SpKamJnV2dt7tywCAI/CItuxyVMAkaWpqSuvWrVNRUZHq6uq0cuVK\\\n",
              "FRQUKC/v5tt1JSUlGh0dtXlKALg7HtGWfY7bxLFgwQKdPn1ayWRS27dv17lz5+75cyORiCKRiCRp\\\n",
              "fHw8WyMCwF3xiLa54bgrsJSCggL5/X6dPHlSyWRSN27ckCSNjIyouLj4tp8TCAQUjUYVjUa1ePHi\\\n",
              "uRwXANJ4RNvccFTAxsfHlUwmJUkff/yxjh07poqKCvn9fr311luSpPb2djU0NNg5JoB5znOgO/3r\\\n",
              "TnhEW/Y56hbi2NiYmpqaNDU1pU8++US7du3S1q1btWrVKjU2NuqHP/yhvvjFL2rv3r12jwoAnykV\\\n",
              "pba2toyt8qkt9n6/X83NzcTrPvEoKQCYoVuvvIZat3zm6016RJtJ3zsddQUGACa4l2jdike0ZYej\\\n",
              "3gMDAOBeETAAgJEIGADASAQMAGAkAgYAMBIBAwAYiYABAIxEwAAARiJgAAAjETAAgJEIGADASAQM\\\n",
              "AGAkAnafEonEjNYBALOLgN2HUCikqqoqxWKxjPVYLKaqqir+bx8AmAMEbIZCoZDC4bDi8bj8fn86\\\n",
              "YrFYTH6/X/F4XOFwmIgBQJYRsBlIxSslFbHu7u50vFKIGABkFwG7R4lEQm1tbRlr27RNE/EJbd26\\\n",
              "VRPxCW3TtozjbW1tvCcGAFlCwO5RYWGhent75Xa7Jd2M1z7t0yEdkkceHdIh7dO+dMTcbrd6e3v5\\\n",
              "H1cBIEsI2Az4fL50xPrUpyENySOPXtfr8sijIQ2pT33pePl8PrtHBoCcRcBmyOfzKRKJKKmkwgpn\\\n",
              "HAsrrKSSikQixAsAsoyAzVAsFlMgEFCBChRUMONYUEEVqECBQGDaFnsAwOwiYDNw61b5WtWmbxs+\\\n",
              "p+fStxNrVTttiz0AYPbl2T2AKRKJRMZW+U51SpL61Kekktqv/apVbXo9FbEzZ86wkQMAssBRV2DD\\\n",
              "w8Py+/1atWqVKisr9eqrr0qSLl++rLq6OpWVlamurk5XrlyZ89kKCwvV3NycsdapTuW783XkyBHl\\\n",
              "u/PT8Uppbm4mXgCQJY4KWF5enn7yk5+ov79f7777rg4fPqz+/n61trZq06ZNGhgY0KZNm9Ta2pq1\\\n",
              "Gf7nCxXpX58WCoUUDP77fa/UbsMtW7ZkbLGXpGAwyA8yA0AWOSpgy5Yt0+OPPy5Jeuihh1RRUaHR\\\n",
              "0VF1dXWpqalJktTU1KTOzs67fZmsSkXs01vlb91iT7wAIPtclmVZdg9xO0NDQ9q4caM++OADfe5z\\\n",
              "n1MymZQkWZalRx55JP3xnVRXVysajc74z731yqvi3P/c8XWJROK2twfvtA4AJrjf7512cOQmjo8+\\\n",
              "+kg7duzQK6+8oocffjjjmMvlksvluu3nRSIRRSIRSdL4+Ph9/dl3i9at7hQp4gUAc8NRtxAlaXJy\\\n",
              "Ujt27NDu3bv1zDPPSJKWLFmisbExSdLY2JiKiopu+7mBQEDRaFTRaFSLFy+es5kBAHPPUQGzLEt7\\\n",
              "9+5VRUWFXnzxxfR6fX292tvbJUnt7e1qaGiwa0QAgEM46hbin//8Z/3617/WmjVrtG7dOknSj370\\\n",
              "Ix04cEC7du3Sa6+9ps9//vP6zW9+Y/OkAAC7OSpgX/nKV3SnPSXvvPPOHE8DAHAyR91CBADgXhEw\\\n",
              "AICRCBgAwEgEDABgJAIGADASAQMAGImAAQCMRMAAAEYiYAAAIxEwAICRCBgAwEgEDABgJAIGADAS\\\n",
              "AQMAGImAAQCMRMAAAEYiYAAAIxEwAICRCBgAwEgEDABgJAIGADASAQMAGImAAQCMRMAAAEZyXMD2\\\n",
              "7NmjoqIirV69Or12+fJl1dXVqaysTHV1dbpy5YqNE84fiURiRusAMJccF7Bvf/vb6unpyVhrbW3V\\\n",
              "pk2bNDAwoE2bNqm1tdWm6eaPUCikqqoqxWKxjPVYLKaqqiqFQiF7BgOA/+e4gG3cuFGPPvpoxlpX\\\n",
              "V5eampokSU1NTers7LRjtHkjFAopHA4rHo/L7/enIxaLxeT3+xWPxxUOh4kYAFs5LmC3c/HiRS1b\\\n",
              "tkyStHTpUl28eNHmiXJXKl4pqYh1d3en45VCxADYyYiA3crlcsnlct32WCQSUXV1taqrqzU+Pj7H\\\n",
              "k5kvkUiora0tY22btmkiPqGtW7dqIj6hbdqWcbytrY33xADYwoiALVmyRGNjY5KksbExFRUV3fZ1\\\n",
              "gUBA0WhU0WhUixcvnssRc0JhYaF6e3vldrsl3YzXPu3TIR2SRx4d0iHt0750xNxut3p7e1VYWGjn\\\n",
              "2ADmKSMCVl9fr/b2dklSe3u7GhoabJ4od/l8vnTE+tSnIQ3JI49e1+vyyKMhDalPfel4+Xw+u0cG\\\n",
              "ME85LmDf+ta39OUvf1nnz59XSUmJXnvtNR04cEDHjh1TWVmZjh8/rgMHDtg9Zk7z+XyKRCJKKqmw\\\n",
              "whnHwgorqaQikQjxAmArl2VZlt1DZEN1dbWi0ajdYxgptdtwIj6Rvn2YMqQh7dd+5bvzuQIDcpBJ\\\n",
              "3zsddwUGe926Vb5Wtenbhs/pufTtxFrVTttiDwBzLc/uAeAciUQiY6t8p27+vF2f+pRUUvu1X7Wq\\\n",
              "Ta+nInbmzBk2cgCYc1yBIa2wsFDNzc0Za53qVL47X0eOHFG+Oz8dr5Tm5mbiBcAWBAwZQqGQgsFg\\\n",
              "+uPUbsMtW7ZkbLGXpGAwyA8yA7ANtxDnoTXta9K//1vT36YdT0Wpra0tY6NGaou93+9Xc3Mz8QJg\\\n",
              "KwKG2wqFQnrhhRem3R70+Xy85wXAEbiFiDu6U6SIFwAn4ApsHrrdbUMAMA1XYAAAIxEwAICRCBgA\\\n",
              "wEgEDABgJAIGADASAQMAGImAAQCMRMAAAEYiYAAAIxEwAICRCBgAwEgEDABgJAIGADASAQMAGImA\\\n",
              "AQCMRMAAAEYyJmA9PT0qLy+X1+tVa2ur3eMAAGxmRMCmpqb03e9+V3/4wx/U39+vN954Q/39/XaP\\\n",
              "BQCwkREBO3XqlLxer0pLS7Vw4UI1Njaqq6vL7rEAADYyImCjo6Navnx5+uOSkhKNjo7aOBEAwG55\\\n",
              "dg8wmyKRiCKRiCRpfHzc5mkAANlkxBVYcXGxhoeH0x+PjIyouLh42usCgYCi0aii0agWL148lyMC\\\n",
              "AOaYEQFbv369BgYGNDg4qOvXr6ujo0P19fV2jwUAsJERtxDz8vL005/+VE899ZSmpqa0Z88eVVZW\\\n",
              "2j0WAMBGRgRMkp5++mk9/fTTdo8BAHAII24hAgDwaQQMAGAkAgYAMBIBAwAYiYABAIxEwAAARiJg\\\n",
              "AAAjETAAgJEIGADASAQMAGAkAgYAMBIBAwAYiYABAIxEwAAARiJgAAAjETAAgJEIGADASAQMAGAk\\\n",
              "AgYAMBIBAwAYiYABAIxEwAAARiJgAAAjETAAgJEcE7A333xTlZWVeuCBBxSNRjOOtbS0yOv1qry8\\\n",
              "XEePHrVpQgCAk+TZPUDK6tWr9fbbb+v555/PWO/v71dHR4fOnj2reDyuzZs3KxaLacGCBTZNCgBw\\\n",
              "AsdcgVVUVKi8vHzaeldXlxobG7Vo0SKtWLFCXq9Xp06dsmFCAICTOCZgdzI6Oqrly5enPy4pKdHo\\\n",
              "6KiNEwEAnGBObyFu3rxZFy5cmLZ+8OBBNTQ0/MdfPxKJKBKJSJLGx8f/468HAHCuOQ3Y8ePHZ/w5\\\n",
              "xcXFGh4eTn88MjKi4uLi2742EAgoEAhIkqqrq+9vSACAERx/C7G+vl4dHR26du2aBgcHNTAwoJqa\\\n",
              "GrvHAgDYzDEB++1vf6uSkhKdPHlSW7Zs0VNPPSVJqqys1K5du7Rq1Sp9/etf1+HDh9mBCACQy7Is\\\n",
              "y+4hsqG6unraz5MBAO7OpO+djrkCAwBgJggYAMBIBAwAYCQCBgAwEgEDABiJgAEAjETAAABGImAA\\\n",
              "ACMRMACAkQgYAMBIBAwAYCQCBgAwEgEDABiJgAEAjETAAABGImAAACMRMACAkQgYAMBIBAwAYCQC\\\n",
              "BgAwEgEDABiJgAEAjETAAABGImAAACM5JmAvvfSSvvCFL6iqqkrbt29XMplMH2tpaZHX61V5ebmO\\\n",
              "Hj1q45QAAKdwTMDq6ur0wQcf6MyZM/L5fGppaZEk9ff3q6OjQ2fPnlVPT4++853vaGpqyuZpAQB2\\\n",
              "c0zAnnzySeXl5UmSvvSlL2lkZESS1NXVpcbGRi1atEgrVqyQ1+vVqVOn7BwVAOAAjgnYrX75y1/q\\\n",
              "G9/4hiRpdHRUy5cvTx8rKSnR6OioXaMBABwiby7/sM2bN+vChQvT1g8ePKiGhob07/Py8rR79+4Z\\\n",
              "f/1IJKJIJCJJGh8f/8+GBQA42pwG7Pjx43c9/qtf/UpHjhzRO++8I5fLJUkqLi7W8PBw+jUjIyMq\\\n",
              "Li6+7ecHAgEFAgFJUnV19SxNDQBwIsfcQuzp6dGPf/xj/e53v1N+fn56vb6+Xh0dHbp27ZoGBwc1\\\n",
              "MDCgmpoaGycFADjBnF6B3c33vvc9Xbt2TXV1dZJubuT4+c9/rsrKSu3atUurVq1SXl6eDh8+rAUL\\\n",
              "Ftg8LQDAbi7Lsiy7h8iG6upqRaNRu8cAAKOY9L3TMbcQAQD3L5FIzGg9FxAwADBcKBRSVVWVYrFY\\\n",
              "xnosFlNVVZVCoZA9g2UZAQMAg4VCIYXDYcXjcfn9/nTEYrGY/H6/4vG4wuFwTkaMgAGAoVLxSklF\\\n",
              "rLu7Ox2vlFyMGAEDAAMlEgm1tbVlrG3TNk3EJ7R161ZNxCe0Tdsyjre1teXUe2IEDAAMVFhYqN7e\\\n",
              "Xrndbkk347VP+3RIh+SRR4d0SPu0Lx0xt9ut3t5eFRYW2jn2rCJgAGAon8+Xjlif+jSkIXnk0et6\\\n",
              "XR55NKQh9akvHS+fz2f3yLOKgAGAwXw+nyKRiJJKKqxwxrGwwkoqqUgkknPxkggYABgtFospEAio\\\n",
              "QAUKKphxLKigClSgQCAwbYt9LiBgAGCoW7fK16o2fdvwOT2Xvp1Yq9ppW+xzhWOehQgAuHeJRCJj\\\n",
              "q3ynOiVJfepTUknt137Vqja9norYmTNncmYjB1dgAGCgwsJCNTc3Z6x1qlP57nwdOXJE+e78dLxS\\\n",
              "mpubcyZeEgEDAGOFQiEFg/9+3yu123DLli0ZW+wlKRgM5twPMnMLEQAc6PB/n0j//rs//9odX5eK\\\n",
              "UltbW8ZW+dQWe7/fr+bm5pyLl0TAAMB4oVBIL7zwwrTbgz6fL6fe8/o0biECQA64U6RyNV4SV2AA\\\n",
              "4Eh3u22Im7gCAwAYiYABAIxEwAAARiJgAAAjETAAgJEIGADASAQMAGAkl2VZlt1DZMNjjz0mj8dj\\\n",
              "9xhZNz4+rsWLF9s9xpzinOcHztkeQ0NDunTpkq0z3KucDdh8UV1drWg0avcYc4pznh84Z3wWbiEC\\\n",
              "AIxEwAAARloQysVn7M8zTzzxhN0jzDnOeX7gnHE3vAcGADAStxABAEYiYIZ68803VVlZqQceeGDa\\\n",
              "rqWWlhZ5vV6Vl5fr6NGjNk2YHT09PSovL5fX61Vra6vd42TFnj17VFRUpNWrV6fXLl++rLq6OpWV\\\n",
              "lamurk5XrlyxccLZNzw8LL/fr1WrVqmyslKvvvqqpNw+76tXr6qmpkZr165VZWWlgsGgJGlwcFAb\\\n",
              "NmyQ1+vVs88+q+vXr9s8qYNZMFJ/f7917tw566tf/ar1l7/8Jb1+9uxZq6qqyrp69ar1j3/8wyot\\\n",
              "LbVu3Lhh46Sz58aNG1Zpaan14YcfWteuXbOqqqqss2fP2j3WrPvjH/9ovffee1ZlZWV67aWXXrJa\\\n",
              "Wlosy7KslpYW6/vf/75d42VFPB633nvvPcuyLOuf//ynVVZWZp09ezanz/uTTz6x/vWvf1mWZVnX\\\n",
              "r1+3ampqrJMnT1rf/OY3rTfeeMOyLMt6/vnnrZ/97Gd2juloXIEZqqKiQuXl5dPWu7q61NjYqEWL\\\n",
              "FmnFihXyer06deqUDRPOvlOnTsnr9aq0tFQLFy5UY2Ojurq67B5r1m3cuFGPPvpoxlpXV5eampok\\\n",
              "SU1NTers7LRjtKxZtmyZHn/8cUnSQw89pIqKCo2Ojub0ebtcLj344IOSpMnJSU1OTsrlcunEiRPa\\\n",
              "uXOnpNw759lGwHLM6Oioli9fnv64pKREo6OjNk40e3L53D7LxYsXtWzZMknS0qVLdfHiRZsnyp6h\\\n",
              "oSH99a9/1YYNG3L+vKemprRu3ToVFRWprq5OK1euVEFBgfLy8iTNr7/j9yPP7gFwZ5s3b9aFCxem\\\n",
              "rR88eFANDQ02TAQncLlccrlcdo+RFR999JF27NihV155RQ8//HDGsVw87wULFuj06dNKJpPavn27\\\n",
              "zp07Z/dIRiFgDnb8+PEZf05xcbGGh4fTH4+MjKi4uHg2x7JNLp/bZ1myZInGxsa0bNkyjY2Nqaio\\\n",
              "yO6RZt3k5KR27Nih3bt365lnnpE0P85bkgoKCuT3+3Xy5Eklk0nduHFDeXl58+rv+P3gFmKOqa+v\\\n",
              "V0dHh65du6bBwUENDAyopqbG7rFmxfr16zUwMKDBwUFdv35dHR0dqq+vt3usOVFfX6/29nZJUnt7\\\n",
              "e85dgVuWpb1796qiokIvvvhiej2Xz3t8fFzJZFKS9PHHH+vYsWOqqKiQ3+/XW2+9JSn3znnW2b2L\\\n",
              "BPfn7bfftoqLi62FCxdaRUVF1pNPPpk+9vLLL1ulpaWWz+ezfv/739s45ezr7u62ysrKrNLSUuvl\\\n",
              "l1+2e5ysaGxstJYuXWrl5eVZxcXF1i9+8Qvr0qVL1te+9jXL6/VamzZtshKJhN1jzqo//elPliRr\\\n",
              "zZo11tq1a621a9da3d3dOX3e77//vrVu3TprzZo1VmVlpRUOhy3LsqwPP/zQWr9+vbVy5Upr586d\\\n",
              "1tWrV22e1Ll4EgcAwEjcQgQAGImAAQCMRMAAAEYiYAAAIxEwAICRCBgAwEgEDABgJAIGADASAQMA\\\n",
              "GImAAQCMRMAAAEYiYAAAIxEwAICRCBgAwEgEDABgJAIGADASAQMAGImAAQCMRMAAAEYiYAAAI/0f\\\n",
              "PEXzWnr7e4kAAAAASUVORK5CYII=\\\n",
              "\"\n",
              "\n",
              "\n",
              "    /* set a timeout to make sure all the above elements are created before\n",
              "       the object is initialized. */\n",
              "    setTimeout(function() {\n",
              "        animf0707a8b13264e12bb2f2df90c948759 = new Animation(frames, img_id, slider_id, 500.0,\n",
              "                                 loop_select_id);\n",
              "    }, 0);\n",
              "  })()\n",
              "</script>\n"
            ]
          },
          "metadata": {},
          "execution_count": 44
        }
      ]
    },
    {
      "cell_type": "markdown",
      "source": [
        "GPU batched algorithm"
      ],
      "metadata": {
        "id": "zKr6jRy9e7UJ"
      }
    },
    {
      "cell_type": "code",
      "source": [
        "bs=5\n",
        "X=data.clone()\n",
        "x=X[:bs]\n",
        "x.shape,X.shape"
      ],
      "metadata": {
        "colab": {
          "base_uri": "https://localhost:8080/"
        },
        "id": "TXJxPypZVO6p",
        "outputId": "9f18ba20-b601-4894-b77b-5770ae44eb7b"
      },
      "execution_count": 45,
      "outputs": [
        {
          "output_type": "execute_result",
          "data": {
            "text/plain": [
              "(torch.Size([5, 2]), torch.Size([1000, 2]))"
            ]
          },
          "metadata": {},
          "execution_count": 45
        }
      ]
    },
    {
      "cell_type": "code",
      "source": [
        "#X-x"
      ],
      "metadata": {
        "id": "xOuO979ShDi-"
      },
      "execution_count": 58,
      "outputs": []
    },
    {
      "cell_type": "code",
      "source": [
        "def dist_b(a,b): return (((a[None]-b[:,None])**2).sum(2)).sqrt()"
      ],
      "metadata": {
        "id": "QtF88Poqfe6j"
      },
      "execution_count": 59,
      "outputs": []
    },
    {
      "cell_type": "code",
      "source": [
        "X[None,:].shape ,x[:,None].shape"
      ],
      "metadata": {
        "colab": {
          "base_uri": "https://localhost:8080/"
        },
        "id": "iK_aOtrffpn0",
        "outputId": "869ec82e-6cb8-4aec-e96a-c4a60ee0b1c1"
      },
      "execution_count": 60,
      "outputs": [
        {
          "output_type": "execute_result",
          "data": {
            "text/plain": [
              "(torch.Size([1, 1000, 2]), torch.Size([5, 1, 2]))"
            ]
          },
          "metadata": {},
          "execution_count": 60
        }
      ]
    },
    {
      "cell_type": "code",
      "source": [
        "(X[None,:]-x[:,None]).shape"
      ],
      "metadata": {
        "colab": {
          "base_uri": "https://localhost:8080/"
        },
        "id": "_xOaEtxGfpbX",
        "outputId": "014b7d4b-41ba-42b9-f9d5-f1826a6325f6"
      },
      "execution_count": 61,
      "outputs": [
        {
          "output_type": "execute_result",
          "data": {
            "text/plain": [
              "torch.Size([5, 1000, 2])"
            ]
          },
          "metadata": {},
          "execution_count": 61
        }
      ]
    },
    {
      "cell_type": "code",
      "source": [
        "dist_b(X,x).shape"
      ],
      "metadata": {
        "colab": {
          "base_uri": "https://localhost:8080/"
        },
        "id": "Iv9oUQOwgsvJ",
        "outputId": "38db3a7f-9fcb-4213-a75b-5e0a32d2f08c"
      },
      "execution_count": 62,
      "outputs": [
        {
          "output_type": "execute_result",
          "data": {
            "text/plain": [
              "torch.Size([5, 1000])"
            ]
          },
          "metadata": {},
          "execution_count": 62
        }
      ]
    },
    {
      "cell_type": "code",
      "source": [
        "weight=gaussian(dist_b(X,x),2)\n",
        "weight"
      ],
      "metadata": {
        "colab": {
          "base_uri": "https://localhost:8080/"
        },
        "id": "jQB6n2G3fpPi",
        "outputId": "3380e9cf-55e1-4e02-eb3a-e1205fa48368"
      },
      "execution_count": 63,
      "outputs": [
        {
          "output_type": "execute_result",
          "data": {
            "text/plain": [
              "tensor([[0.109, 0.109, 0.109,  ..., 0.000, 0.000, 0.000],\n",
              "        [0.152, 0.152, 0.152,  ..., 0.000, 0.000, 0.000],\n",
              "        [0.155, 0.155, 0.155,  ..., 0.000, 0.000, 0.000],\n",
              "        [0.084, 0.084, 0.084,  ..., 0.000, 0.000, 0.000],\n",
              "        [0.048, 0.048, 0.048,  ..., 0.000, 0.000, 0.000]])"
            ]
          },
          "metadata": {},
          "execution_count": 63
        }
      ]
    },
    {
      "cell_type": "code",
      "source": [
        "weight.shape,X.shape"
      ],
      "metadata": {
        "colab": {
          "base_uri": "https://localhost:8080/"
        },
        "id": "UCa6tIJ-kJnq",
        "outputId": "ef123db9-4817-4d9f-8000-1ea4fa9cd1ab"
      },
      "execution_count": 64,
      "outputs": [
        {
          "output_type": "execute_result",
          "data": {
            "text/plain": [
              "(torch.Size([5, 1000]), torch.Size([1000, 2]))"
            ]
          },
          "metadata": {},
          "execution_count": 64
        }
      ]
    },
    {
      "cell_type": "code",
      "source": [
        "weight[...,None].shape,X[None,::].shape#weight[:,:,None]"
      ],
      "metadata": {
        "colab": {
          "base_uri": "https://localhost:8080/"
        },
        "id": "oJMKCdl5kNN-",
        "outputId": "c60481bb-e29f-4be5-c5bb-63ace4e8a2fa"
      },
      "execution_count": 65,
      "outputs": [
        {
          "output_type": "execute_result",
          "data": {
            "text/plain": [
              "(torch.Size([5, 1000, 1]), torch.Size([1, 1000, 2]))"
            ]
          },
          "metadata": {},
          "execution_count": 65
        }
      ]
    },
    {
      "cell_type": "code",
      "source": [
        "num=(weight[...,None]*X[None,::]).sum(1)\n",
        "num.shape"
      ],
      "metadata": {
        "colab": {
          "base_uri": "https://localhost:8080/"
        },
        "id": "-0R8E-RYkYY5",
        "outputId": "4cc306c7-a14e-4ac2-a318-92528deca20a"
      },
      "execution_count": 66,
      "outputs": [
        {
          "output_type": "execute_result",
          "data": {
            "text/plain": [
              "torch.Size([5, 2])"
            ]
          },
          "metadata": {},
          "execution_count": 66
        }
      ]
    },
    {
      "cell_type": "code",
      "source": [
        "num"
      ],
      "metadata": {
        "colab": {
          "base_uri": "https://localhost:8080/"
        },
        "id": "9j8pCqL6lDej",
        "outputId": "09bcc131-6565-4d91-9273-8a8f25e40c1f"
      },
      "execution_count": 67,
      "outputs": [
        {
          "output_type": "execute_result",
          "data": {
            "text/plain": [
              "tensor([[578.448, 633.219],\n",
              "        [807.053, 883.469],\n",
              "        [821.710, 899.515],\n",
              "        [444.837, 486.957],\n",
              "        [256.343, 280.615]])"
            ]
          },
          "metadata": {},
          "execution_count": 67
        }
      ]
    },
    {
      "cell_type": "code",
      "source": [
        "torch.einsum('ij,jk->ik',weight,X)"
      ],
      "metadata": {
        "colab": {
          "base_uri": "https://localhost:8080/"
        },
        "id": "FiqB3Ft1lqIZ",
        "outputId": "2b2eac26-574d-476b-fe47-b3c8b1a4300a"
      },
      "execution_count": 68,
      "outputs": [
        {
          "output_type": "execute_result",
          "data": {
            "text/plain": [
              "tensor([[578.448, 633.219],\n",
              "        [807.052, 883.469],\n",
              "        [821.710, 899.515],\n",
              "        [444.837, 486.957],\n",
              "        [256.343, 280.615]])"
            ]
          },
          "metadata": {},
          "execution_count": 68
        }
      ]
    },
    {
      "cell_type": "code",
      "source": [
        "weight@X"
      ],
      "metadata": {
        "colab": {
          "base_uri": "https://localhost:8080/"
        },
        "id": "tdnsj1hImD68",
        "outputId": "32bd3af5-d35f-4657-c46d-4d38b314c805"
      },
      "execution_count": 69,
      "outputs": [
        {
          "output_type": "execute_result",
          "data": {
            "text/plain": [
              "tensor([[578.448, 633.219],\n",
              "        [807.052, 883.469],\n",
              "        [821.710, 899.515],\n",
              "        [444.837, 486.957],\n",
              "        [256.343, 280.615]])"
            ]
          },
          "metadata": {},
          "execution_count": 69
        }
      ]
    },
    {
      "cell_type": "code",
      "source": [
        "div=weight.sum(1,keepdim=True)\n",
        "div.shape"
      ],
      "metadata": {
        "colab": {
          "base_uri": "https://localhost:8080/"
        },
        "id": "gLQ9hoPZmWS-",
        "outputId": "94ccd1e9-9900-421c-fc08-53f4f84d83dd"
      },
      "execution_count": 70,
      "outputs": [
        {
          "output_type": "execute_result",
          "data": {
            "text/plain": [
              "torch.Size([5, 1])"
            ]
          },
          "metadata": {},
          "execution_count": 70
        }
      ]
    },
    {
      "cell_type": "code",
      "source": [
        "num/div#weighted average"
      ],
      "metadata": {
        "colab": {
          "base_uri": "https://localhost:8080/"
        },
        "id": "E2Wop-aqmPDQ",
        "outputId": "3467e69f-70be-4a04-abf0-ced0edafc7e1"
      },
      "execution_count": 71,
      "outputs": [
        {
          "output_type": "execute_result",
          "data": {
            "text/plain": [
              "tensor([[26.570, 29.086],\n",
              "        [26.570, 29.086],\n",
              "        [26.570, 29.086],\n",
              "        [26.570, 29.086],\n",
              "        [26.570, 29.086]])"
            ]
          },
          "metadata": {},
          "execution_count": 71
        }
      ]
    },
    {
      "cell_type": "code",
      "source": [
        "def meanshift(data, bs=500):\n",
        "    n = len(data)\n",
        "    X = data.clone()\n",
        "    for it in range(5):\n",
        "        for i in range(0, n, bs):\n",
        "            s = slice(i, min(i+bs,n))\n",
        "            weight = gaussian(dist_b(X, X[s]), 2.5)\n",
        "#             weight = tri(dist_b(X, X[s]), 8)\n",
        "            div = weight.sum(1, keepdim=True)\n",
        "            X[s] = weight@X/div\n",
        "    return X"
      ],
      "metadata": {
        "id": "_efoOCczmRZZ"
      },
      "execution_count": 72,
      "outputs": []
    },
    {
      "cell_type": "code",
      "source": [
        "data=data.cuda()"
      ],
      "metadata": {
        "id": "i4EmXbwpm72n"
      },
      "execution_count": 73,
      "outputs": []
    },
    {
      "cell_type": "code",
      "source": [
        "X=meanshift(data).cpu()"
      ],
      "metadata": {
        "id": "mVZjDKo2nELm"
      },
      "execution_count": 74,
      "outputs": []
    },
    {
      "cell_type": "code",
      "source": [
        "%timeit -n 5 _=meanshift(data, 1250).cpu()"
      ],
      "metadata": {
        "id": "3LwSQSAynD84",
        "colab": {
          "base_uri": "https://localhost:8080/"
        },
        "outputId": "d64ea770-a11e-4bed-83cb-5db30ff7aad4"
      },
      "execution_count": 75,
      "outputs": [
        {
          "output_type": "stream",
          "name": "stdout",
          "text": [
            "3.01 ms ± 175 µs per loop (mean ± std. dev. of 7 runs, 5 loops each)\n"
          ]
        }
      ]
    },
    {
      "cell_type": "code",
      "source": [
        "plot_data(centroids+2,X,n_samples)"
      ],
      "metadata": {
        "id": "6cFmay8ZnAZI",
        "colab": {
          "base_uri": "https://localhost:8080/",
          "height": 265
        },
        "outputId": "bcc52e21-c089-4a7e-d4e5-e3b8b70238de"
      },
      "execution_count": 76,
      "outputs": [
        {
          "output_type": "display_data",
          "data": {
            "text/plain": [
              "<Figure size 432x288 with 1 Axes>"
            ],
            "image/png": "[encoded data removed]"
          },
          "metadata": {
            "needs_background": "light"
          }
        }
      ]
    },
    {
      "cell_type": "code",
      "source": [],
      "metadata": {
        "id": "eFVWniHGnWnk"
      },
      "execution_count": null,
      "outputs": []
    }
  ]
}